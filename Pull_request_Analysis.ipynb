{
  "cells": [
    {
      "cell_type": "markdown",
      "metadata": {
        "id": "view-in-github",
        "colab_type": "text"
      },
      "source": [
        "<a href=\"https://colab.research.google.com/github/PrithaSarkar/Dissertation/blob/main/Pull_request_Analysis.ipynb\" target=\"_parent\"><img src=\"https://colab.research.google.com/assets/colab-badge.svg\" alt=\"Open In Colab\"/></a>"
      ]
    },
    {
      "cell_type": "markdown",
      "source": [
        "**GPU Availability**"
      ],
      "metadata": {
        "id": "eYJNiwN7aU2q"
      }
    },
    {
      "cell_type": "code",
      "source": [
        "%tensorflow_version 2.x\n",
        "import tensorflow as tf\n",
        "device_name = tf.test.gpu_device_name()\n",
        "if device_name != '/device:GPU:0':\n",
        "  raise SystemError('GPU device not found')\n",
        "print('Found GPU at: {}'.format(device_name))"
      ],
      "metadata": {
        "colab": {
          "base_uri": "https://localhost:8080/"
        },
        "id": "eCnleM6Kad2Y",
        "outputId": "19c50f37-8ff1-4445-d1ef-da67bb1b8e92"
      },
      "execution_count": 1,
      "outputs": [
        {
          "output_type": "stream",
          "name": "stdout",
          "text": [
            "Found GPU at: /device:GPU:0\n"
          ]
        }
      ]
    },
    {
      "cell_type": "markdown",
      "metadata": {
        "id": "WZC0nTSJ4439"
      },
      "source": [
        "Installing and importing necessary packages."
      ]
    },
    {
      "cell_type": "code",
      "execution_count": 2,
      "metadata": {
        "id": "Xg4emmAaBnH9"
      },
      "outputs": [],
      "source": [
        "import pandas as pd\n",
        "import numpy as np\n",
        "import seaborn as sns\n",
        "import matplotlib.pyplot as plt\n",
        "%matplotlib inline\n",
        "import missingno as msno\n",
        "import warnings\n",
        "warnings.filterwarnings('ignore')\n",
        "from datetime import datetime\n",
        "import sklearn"
      ]
    },
    {
      "cell_type": "markdown",
      "metadata": {
        "id": "ljCoZxGIB0Fg"
      },
      "source": [
        "Mounting drive and loading the datafile. Change the location as applicable."
      ]
    },
    {
      "cell_type": "code",
      "execution_count": 3,
      "metadata": {
        "id": "K5uDjXknB8UQ"
      },
      "outputs": [],
      "source": [
        "df = pd.read_csv(\"/content/drive/MyDrive/Dissertation UofG 2022/new_pullreq.csv\")"
      ]
    },
    {
      "cell_type": "code",
      "execution_count": 4,
      "metadata": {
        "id": "JEmW4JwhDGi1",
        "colab": {
          "base_uri": "https://localhost:8080/"
        },
        "outputId": "d734ca3d-559b-4d30-dbd2-bcf1227fd906"
      },
      "outputs": [
        {
          "output_type": "stream",
          "name": "stdout",
          "text": [
            "['id', 'project_id', 'github_id', 'pull_request_id', 'ownername', 'reponame', 'merged_or_not', 'lifetime_minutes', 'mergetime_minutes', 'num_commits', 'src_churn', 'test_churn', 'files_added', 'files_deleted', 'files_modified', 'files_changed', 'src_files', 'doc_files', 'other_files', 'num_commit_comments', 'num_issue_comments', 'num_comments', 'num_participants', 'sloc', 'team_size', 'perc_external_contribs', 'commits_on_files_touched', 'test_lines_per_kloc', 'test_cases_per_kloc', 'asserts_per_kloc', 'watchers', 'prev_pullreqs', 'requester_succ_rate', 'followers', 'churn_addition', 'churn_deletion', 'pr_comment_num', 'comment_num', 'perc_neg_emotion', 'perc_pos_emotion', 'perc_neu_emotion', 'part_num_issue', 'part_num_commit', 'part_num_pr', 'part_num_code', 'comment_conflict', 'hash_tag', 'at_tag', 'test_inclusion', 'description_length', 'bug_fix', 'ci_exists', 'ci_latency', 'ci_build_num', 'ci_test_passed', 'ci_failed_perc', 'ci_first_build_status', 'ci_last_build_status', 'language', 'fork_num', 'project_age', 'open_issue_num', 'pr_succ_rate', 'open_pr_num', 'first_response_time', 'pushed_delta', 'acc_commit_num', 'first_pr', 'account_creation_days', 'core_member', 'contrib_gender', 'contrib_country', 'contrib_affiliation', 'contrib_open', 'contrib_cons', 'contrib_extra', 'contrib_agree', 'contrib_neur', 'perc_contrib_neg_emo', 'perc_contrib_pos_emo', 'perc_contrib_neu_emo', 'contrib_first_emo', 'prior_review_num', 'inte_country', 'inte_affiliation', 'inte_open', 'inte_cons', 'inte_extra', 'inte_agree', 'inte_neur', 'perc_inte_neg_emo', 'perc_inte_pos_emo', 'perc_inte_neu_emo', 'inte_first_emo', 'contrib_follow_integrator', 'prior_interaction', 'social_strength', 'same_country', 'same_affiliation', 'open_diff', 'cons_diff', 'extra_diff', 'agree_diff', 'neur_diff', 'has_comments', 'has_participants', 'has_exchange', 'contrib_comment', 'inte_comment', 'reviewer_comment', 'other_comment', 'num_comments_con', 'num_code_comments', 'num_code_comments_con', 'integrator_availability', 'friday_effect', 'contrib_rate_author', 'reopen_or_not', 'first_close_minutes', 'reopen_num']\n"
          ]
        }
      ],
      "source": [
        "columns = df.columns.to_list()\n",
        "print(columns)"
      ]
    },
    {
      "cell_type": "markdown",
      "metadata": {
        "id": "vzq_gwM7JK_4"
      },
      "source": [
        "The \"merged_or_not\" metric states whether a pull-request was accepted or not. Let us check, how many of the 3 million pull-request was accepted and how many were rejected."
      ]
    },
    {
      "cell_type": "code",
      "execution_count": 5,
      "metadata": {
        "id": "GQEx0ANPJZaU",
        "colab": {
          "base_uri": "https://localhost:8080/"
        },
        "outputId": "3b26e5bd-471d-4eec-86c1-5a173f25a91b"
      },
      "outputs": [
        {
          "output_type": "stream",
          "name": "stdout",
          "text": [
            "Accepted: 2710096\n",
            "Percentage: 80.94823767591804\n",
            "Rejected: 637841\n",
            "Percentage: 19.051762324081963\n"
          ]
        }
      ],
      "source": [
        "accepted = 0\n",
        "rejected = 0\n",
        "for ind in df.index:\n",
        "  if df[\"merged_or_not\"][ind]==1:\n",
        "    accepted = accepted+1\n",
        "  else:\n",
        "    rejected = rejected+1\n",
        "\n",
        "print(\"Accepted:\", accepted)\n",
        "print(\"Percentage:\", (accepted/len(df))*100)\n",
        "print(\"Rejected:\", rejected)\n",
        "print(\"Percentage:\", (rejected/len(df))*100)"
      ]
    },
    {
      "cell_type": "markdown",
      "metadata": {
        "id": "3uZxO35uKBOP"
      },
      "source": [
        "There is a huge imbalance in the two classes. This needs to be kept in mind from this point onwards."
      ]
    },
    {
      "cell_type": "markdown",
      "metadata": {
        "id": "rvDo1YcmKPqh"
      },
      "source": [
        "**Preparing data for small-scale experiment.**"
      ]
    },
    {
      "cell_type": "markdown",
      "metadata": {
        "id": "kt5vBWNRKhuh"
      },
      "source": [
        "The original dataset has 120 columns/metrics related to each pull-request. However, we will only focus on the metrics present in Table 1 of [this paper](https://dl.acm.org/doi/10.1145/3379597.3387489)."
      ]
    },
    {
      "cell_type": "code",
      "execution_count": 6,
      "metadata": {
        "id": "lUY5HnRYKMBa"
      },
      "outputs": [],
      "source": [
        "def flow_from_df(dataframe: pd.DataFrame, chunk_size: int = int(len(df)/2)):\n",
        "  for start_row in range(0, dataframe.shape[0], chunk_size):\n",
        "    end_row  = min(start_row + chunk_size, dataframe.shape[0])\n",
        "    yield dataframe.iloc[start_row:end_row, :]"
      ]
    },
    {
      "cell_type": "code",
      "execution_count": 7,
      "metadata": {
        "id": "-OwwoIknL9BV",
        "colab": {
          "base_uri": "https://localhost:8080/",
          "height": 522
        },
        "outputId": "33831a49-af67-4b64-9f5f-73fe34462057"
      },
      "outputs": [
        {
          "output_type": "execute_result",
          "data": {
            "text/plain": [
              "              id  project_id  github_id  pull_request_id         ownername  \\\n",
              "0              1    13708387       1895         16946031         stylelint   \n",
              "1              2   100297899        353         51228565  Joaogarciadelima   \n",
              "2              3    93139005        404         42975776        binary-com   \n",
              "3              4    15059440       3434         34700062       letsencrypt   \n",
              "4              5    29684214        486         34175163             PyCQA   \n",
              "...          ...         ...        ...              ...               ...   \n",
              "1673963  1673964     8504763       1205         20816393       os-autoinst   \n",
              "1673964  1673965    10789805        141          4184228         geopandas   \n",
              "1673965  1673966    26051663       5794         45711167              JMRI   \n",
              "1673966  1673967     4952323         91          2361445   spring-projects   \n",
              "1673967  1673968   112768169        331         57769319      local-motion   \n",
              "\n",
              "                    reponame  merged_or_not  lifetime_minutes  \\\n",
              "0                  stylelint              1               237   \n",
              "1                checklistos              0              1410   \n",
              "2                SmartCharts              1                 4   \n",
              "3                    boulder              1                52   \n",
              "4                    astroid              1              2414   \n",
              "...                      ...            ...               ...   \n",
              "1673963               openQA              1                77   \n",
              "1673964            geopandas              1               418   \n",
              "1673965                 JMRI              1               151   \n",
              "1673966  spring-data-mongodb              0            122689   \n",
              "1673967       onboarding-web              1                13   \n",
              "\n",
              "         mergetime_minutes  num_commits  ...  other_comment  num_comments_con  \\\n",
              "0                    237.0            1  ...              0                 0   \n",
              "1                      NaN            1  ...              0                 2   \n",
              "2                      4.0            1  ...              0                 0   \n",
              "3                     52.0            1  ...              0                 0   \n",
              "4                   2414.0            1  ...              0                 0   \n",
              "...                    ...          ...  ...            ...               ...   \n",
              "1673963               77.0            1  ...              1                 2   \n",
              "1673964              418.0            4  ...              1                 2   \n",
              "1673965              151.0            1  ...              0                 0   \n",
              "1673966                NaN            3  ...              0                 0   \n",
              "1673967               13.0            2  ...              0                 0   \n",
              "\n",
              "         num_code_comments  num_code_comments_con  integrator_availability  \\\n",
              "0                        0                      0                     30.0   \n",
              "1                        0                      0                    597.0   \n",
              "2                        0                      0                      2.0   \n",
              "3                        0                      0                      1.0   \n",
              "4                        0                      0                      2.0   \n",
              "...                    ...                    ...                      ...   \n",
              "1673963                  0                      0                      6.0   \n",
              "1673964                  0                      0                     48.0   \n",
              "1673965                  0                      0                     51.0   \n",
              "1673966                  0                      0                    149.0   \n",
              "1673967                  0                      0                   2163.0   \n",
              "\n",
              "         friday_effect  contrib_rate_author  reopen_or_not  \\\n",
              "0                    1             0.007948              0   \n",
              "1                    0             0.830769              0   \n",
              "2                    0             0.314368              0   \n",
              "3                    0             0.117332              0   \n",
              "4                    0             0.010753              0   \n",
              "...                ...                  ...            ...   \n",
              "1673963              1             0.119597              0   \n",
              "1673964              0             0.037736              0   \n",
              "1673965              0             0.094772              0   \n",
              "1673966              0             0.478788              0   \n",
              "1673967              0             0.109601              0   \n",
              "\n",
              "         first_close_minutes  reopen_num  \n",
              "0                        237           0  \n",
              "1                       1410           0  \n",
              "2                          4           0  \n",
              "3                         52           0  \n",
              "4                       2414           0  \n",
              "...                      ...         ...  \n",
              "1673963                   77           0  \n",
              "1673964                  418           0  \n",
              "1673965                  151           0  \n",
              "1673966               122689           0  \n",
              "1673967                   13           0  \n",
              "\n",
              "[1673968 rows x 120 columns]"
            ],
            "text/html": [
              "\n",
              "  <div id=\"df-1285d411-caaf-4a91-972f-0ac5824d8bc7\">\n",
              "    <div class=\"colab-df-container\">\n",
              "      <div>\n",
              "<style scoped>\n",
              "    .dataframe tbody tr th:only-of-type {\n",
              "        vertical-align: middle;\n",
              "    }\n",
              "\n",
              "    .dataframe tbody tr th {\n",
              "        vertical-align: top;\n",
              "    }\n",
              "\n",
              "    .dataframe thead th {\n",
              "        text-align: right;\n",
              "    }\n",
              "</style>\n",
              "<table border=\"1\" class=\"dataframe\">\n",
              "  <thead>\n",
              "    <tr style=\"text-align: right;\">\n",
              "      <th></th>\n",
              "      <th>id</th>\n",
              "      <th>project_id</th>\n",
              "      <th>github_id</th>\n",
              "      <th>pull_request_id</th>\n",
              "      <th>ownername</th>\n",
              "      <th>reponame</th>\n",
              "      <th>merged_or_not</th>\n",
              "      <th>lifetime_minutes</th>\n",
              "      <th>mergetime_minutes</th>\n",
              "      <th>num_commits</th>\n",
              "      <th>...</th>\n",
              "      <th>other_comment</th>\n",
              "      <th>num_comments_con</th>\n",
              "      <th>num_code_comments</th>\n",
              "      <th>num_code_comments_con</th>\n",
              "      <th>integrator_availability</th>\n",
              "      <th>friday_effect</th>\n",
              "      <th>contrib_rate_author</th>\n",
              "      <th>reopen_or_not</th>\n",
              "      <th>first_close_minutes</th>\n",
              "      <th>reopen_num</th>\n",
              "    </tr>\n",
              "  </thead>\n",
              "  <tbody>\n",
              "    <tr>\n",
              "      <th>0</th>\n",
              "      <td>1</td>\n",
              "      <td>13708387</td>\n",
              "      <td>1895</td>\n",
              "      <td>16946031</td>\n",
              "      <td>stylelint</td>\n",
              "      <td>stylelint</td>\n",
              "      <td>1</td>\n",
              "      <td>237</td>\n",
              "      <td>237.0</td>\n",
              "      <td>1</td>\n",
              "      <td>...</td>\n",
              "      <td>0</td>\n",
              "      <td>0</td>\n",
              "      <td>0</td>\n",
              "      <td>0</td>\n",
              "      <td>30.0</td>\n",
              "      <td>1</td>\n",
              "      <td>0.007948</td>\n",
              "      <td>0</td>\n",
              "      <td>237</td>\n",
              "      <td>0</td>\n",
              "    </tr>\n",
              "    <tr>\n",
              "      <th>1</th>\n",
              "      <td>2</td>\n",
              "      <td>100297899</td>\n",
              "      <td>353</td>\n",
              "      <td>51228565</td>\n",
              "      <td>Joaogarciadelima</td>\n",
              "      <td>checklistos</td>\n",
              "      <td>0</td>\n",
              "      <td>1410</td>\n",
              "      <td>NaN</td>\n",
              "      <td>1</td>\n",
              "      <td>...</td>\n",
              "      <td>0</td>\n",
              "      <td>2</td>\n",
              "      <td>0</td>\n",
              "      <td>0</td>\n",
              "      <td>597.0</td>\n",
              "      <td>0</td>\n",
              "      <td>0.830769</td>\n",
              "      <td>0</td>\n",
              "      <td>1410</td>\n",
              "      <td>0</td>\n",
              "    </tr>\n",
              "    <tr>\n",
              "      <th>2</th>\n",
              "      <td>3</td>\n",
              "      <td>93139005</td>\n",
              "      <td>404</td>\n",
              "      <td>42975776</td>\n",
              "      <td>binary-com</td>\n",
              "      <td>SmartCharts</td>\n",
              "      <td>1</td>\n",
              "      <td>4</td>\n",
              "      <td>4.0</td>\n",
              "      <td>1</td>\n",
              "      <td>...</td>\n",
              "      <td>0</td>\n",
              "      <td>0</td>\n",
              "      <td>0</td>\n",
              "      <td>0</td>\n",
              "      <td>2.0</td>\n",
              "      <td>0</td>\n",
              "      <td>0.314368</td>\n",
              "      <td>0</td>\n",
              "      <td>4</td>\n",
              "      <td>0</td>\n",
              "    </tr>\n",
              "    <tr>\n",
              "      <th>3</th>\n",
              "      <td>4</td>\n",
              "      <td>15059440</td>\n",
              "      <td>3434</td>\n",
              "      <td>34700062</td>\n",
              "      <td>letsencrypt</td>\n",
              "      <td>boulder</td>\n",
              "      <td>1</td>\n",
              "      <td>52</td>\n",
              "      <td>52.0</td>\n",
              "      <td>1</td>\n",
              "      <td>...</td>\n",
              "      <td>0</td>\n",
              "      <td>0</td>\n",
              "      <td>0</td>\n",
              "      <td>0</td>\n",
              "      <td>1.0</td>\n",
              "      <td>0</td>\n",
              "      <td>0.117332</td>\n",
              "      <td>0</td>\n",
              "      <td>52</td>\n",
              "      <td>0</td>\n",
              "    </tr>\n",
              "    <tr>\n",
              "      <th>4</th>\n",
              "      <td>5</td>\n",
              "      <td>29684214</td>\n",
              "      <td>486</td>\n",
              "      <td>34175163</td>\n",
              "      <td>PyCQA</td>\n",
              "      <td>astroid</td>\n",
              "      <td>1</td>\n",
              "      <td>2414</td>\n",
              "      <td>2414.0</td>\n",
              "      <td>1</td>\n",
              "      <td>...</td>\n",
              "      <td>0</td>\n",
              "      <td>0</td>\n",
              "      <td>0</td>\n",
              "      <td>0</td>\n",
              "      <td>2.0</td>\n",
              "      <td>0</td>\n",
              "      <td>0.010753</td>\n",
              "      <td>0</td>\n",
              "      <td>2414</td>\n",
              "      <td>0</td>\n",
              "    </tr>\n",
              "    <tr>\n",
              "      <th>...</th>\n",
              "      <td>...</td>\n",
              "      <td>...</td>\n",
              "      <td>...</td>\n",
              "      <td>...</td>\n",
              "      <td>...</td>\n",
              "      <td>...</td>\n",
              "      <td>...</td>\n",
              "      <td>...</td>\n",
              "      <td>...</td>\n",
              "      <td>...</td>\n",
              "      <td>...</td>\n",
              "      <td>...</td>\n",
              "      <td>...</td>\n",
              "      <td>...</td>\n",
              "      <td>...</td>\n",
              "      <td>...</td>\n",
              "      <td>...</td>\n",
              "      <td>...</td>\n",
              "      <td>...</td>\n",
              "      <td>...</td>\n",
              "      <td>...</td>\n",
              "    </tr>\n",
              "    <tr>\n",
              "      <th>1673963</th>\n",
              "      <td>1673964</td>\n",
              "      <td>8504763</td>\n",
              "      <td>1205</td>\n",
              "      <td>20816393</td>\n",
              "      <td>os-autoinst</td>\n",
              "      <td>openQA</td>\n",
              "      <td>1</td>\n",
              "      <td>77</td>\n",
              "      <td>77.0</td>\n",
              "      <td>1</td>\n",
              "      <td>...</td>\n",
              "      <td>1</td>\n",
              "      <td>2</td>\n",
              "      <td>0</td>\n",
              "      <td>0</td>\n",
              "      <td>6.0</td>\n",
              "      <td>1</td>\n",
              "      <td>0.119597</td>\n",
              "      <td>0</td>\n",
              "      <td>77</td>\n",
              "      <td>0</td>\n",
              "    </tr>\n",
              "    <tr>\n",
              "      <th>1673964</th>\n",
              "      <td>1673965</td>\n",
              "      <td>10789805</td>\n",
              "      <td>141</td>\n",
              "      <td>4184228</td>\n",
              "      <td>geopandas</td>\n",
              "      <td>geopandas</td>\n",
              "      <td>1</td>\n",
              "      <td>418</td>\n",
              "      <td>418.0</td>\n",
              "      <td>4</td>\n",
              "      <td>...</td>\n",
              "      <td>1</td>\n",
              "      <td>2</td>\n",
              "      <td>0</td>\n",
              "      <td>0</td>\n",
              "      <td>48.0</td>\n",
              "      <td>0</td>\n",
              "      <td>0.037736</td>\n",
              "      <td>0</td>\n",
              "      <td>418</td>\n",
              "      <td>0</td>\n",
              "    </tr>\n",
              "    <tr>\n",
              "      <th>1673965</th>\n",
              "      <td>1673966</td>\n",
              "      <td>26051663</td>\n",
              "      <td>5794</td>\n",
              "      <td>45711167</td>\n",
              "      <td>JMRI</td>\n",
              "      <td>JMRI</td>\n",
              "      <td>1</td>\n",
              "      <td>151</td>\n",
              "      <td>151.0</td>\n",
              "      <td>1</td>\n",
              "      <td>...</td>\n",
              "      <td>0</td>\n",
              "      <td>0</td>\n",
              "      <td>0</td>\n",
              "      <td>0</td>\n",
              "      <td>51.0</td>\n",
              "      <td>0</td>\n",
              "      <td>0.094772</td>\n",
              "      <td>0</td>\n",
              "      <td>151</td>\n",
              "      <td>0</td>\n",
              "    </tr>\n",
              "    <tr>\n",
              "      <th>1673966</th>\n",
              "      <td>1673967</td>\n",
              "      <td>4952323</td>\n",
              "      <td>91</td>\n",
              "      <td>2361445</td>\n",
              "      <td>spring-projects</td>\n",
              "      <td>spring-data-mongodb</td>\n",
              "      <td>0</td>\n",
              "      <td>122689</td>\n",
              "      <td>NaN</td>\n",
              "      <td>3</td>\n",
              "      <td>...</td>\n",
              "      <td>0</td>\n",
              "      <td>0</td>\n",
              "      <td>0</td>\n",
              "      <td>0</td>\n",
              "      <td>149.0</td>\n",
              "      <td>0</td>\n",
              "      <td>0.478788</td>\n",
              "      <td>0</td>\n",
              "      <td>122689</td>\n",
              "      <td>0</td>\n",
              "    </tr>\n",
              "    <tr>\n",
              "      <th>1673967</th>\n",
              "      <td>1673968</td>\n",
              "      <td>112768169</td>\n",
              "      <td>331</td>\n",
              "      <td>57769319</td>\n",
              "      <td>local-motion</td>\n",
              "      <td>onboarding-web</td>\n",
              "      <td>1</td>\n",
              "      <td>13</td>\n",
              "      <td>13.0</td>\n",
              "      <td>2</td>\n",
              "      <td>...</td>\n",
              "      <td>0</td>\n",
              "      <td>0</td>\n",
              "      <td>0</td>\n",
              "      <td>0</td>\n",
              "      <td>2163.0</td>\n",
              "      <td>0</td>\n",
              "      <td>0.109601</td>\n",
              "      <td>0</td>\n",
              "      <td>13</td>\n",
              "      <td>0</td>\n",
              "    </tr>\n",
              "  </tbody>\n",
              "</table>\n",
              "<p>1673968 rows × 120 columns</p>\n",
              "</div>\n",
              "      <button class=\"colab-df-convert\" onclick=\"convertToInteractive('df-1285d411-caaf-4a91-972f-0ac5824d8bc7')\"\n",
              "              title=\"Convert this dataframe to an interactive table.\"\n",
              "              style=\"display:none;\">\n",
              "        \n",
              "  <svg xmlns=\"http://www.w3.org/2000/svg\" height=\"24px\"viewBox=\"0 0 24 24\"\n",
              "       width=\"24px\">\n",
              "    <path d=\"M0 0h24v24H0V0z\" fill=\"none\"/>\n",
              "    <path d=\"M18.56 5.44l.94 2.06.94-2.06 2.06-.94-2.06-.94-.94-2.06-.94 2.06-2.06.94zm-11 1L8.5 8.5l.94-2.06 2.06-.94-2.06-.94L8.5 2.5l-.94 2.06-2.06.94zm10 10l.94 2.06.94-2.06 2.06-.94-2.06-.94-.94-2.06-.94 2.06-2.06.94z\"/><path d=\"M17.41 7.96l-1.37-1.37c-.4-.4-.92-.59-1.43-.59-.52 0-1.04.2-1.43.59L10.3 9.45l-7.72 7.72c-.78.78-.78 2.05 0 2.83L4 21.41c.39.39.9.59 1.41.59.51 0 1.02-.2 1.41-.59l7.78-7.78 2.81-2.81c.8-.78.8-2.07 0-2.86zM5.41 20L4 18.59l7.72-7.72 1.47 1.35L5.41 20z\"/>\n",
              "  </svg>\n",
              "      </button>\n",
              "      \n",
              "  <style>\n",
              "    .colab-df-container {\n",
              "      display:flex;\n",
              "      flex-wrap:wrap;\n",
              "      gap: 12px;\n",
              "    }\n",
              "\n",
              "    .colab-df-convert {\n",
              "      background-color: #E8F0FE;\n",
              "      border: none;\n",
              "      border-radius: 50%;\n",
              "      cursor: pointer;\n",
              "      display: none;\n",
              "      fill: #1967D2;\n",
              "      height: 32px;\n",
              "      padding: 0 0 0 0;\n",
              "      width: 32px;\n",
              "    }\n",
              "\n",
              "    .colab-df-convert:hover {\n",
              "      background-color: #E2EBFA;\n",
              "      box-shadow: 0px 1px 2px rgba(60, 64, 67, 0.3), 0px 1px 3px 1px rgba(60, 64, 67, 0.15);\n",
              "      fill: #174EA6;\n",
              "    }\n",
              "\n",
              "    [theme=dark] .colab-df-convert {\n",
              "      background-color: #3B4455;\n",
              "      fill: #D2E3FC;\n",
              "    }\n",
              "\n",
              "    [theme=dark] .colab-df-convert:hover {\n",
              "      background-color: #434B5C;\n",
              "      box-shadow: 0px 1px 3px 1px rgba(0, 0, 0, 0.15);\n",
              "      filter: drop-shadow(0px 1px 2px rgba(0, 0, 0, 0.3));\n",
              "      fill: #FFFFFF;\n",
              "    }\n",
              "  </style>\n",
              "\n",
              "      <script>\n",
              "        const buttonEl =\n",
              "          document.querySelector('#df-1285d411-caaf-4a91-972f-0ac5824d8bc7 button.colab-df-convert');\n",
              "        buttonEl.style.display =\n",
              "          google.colab.kernel.accessAllowed ? 'block' : 'none';\n",
              "\n",
              "        async function convertToInteractive(key) {\n",
              "          const element = document.querySelector('#df-1285d411-caaf-4a91-972f-0ac5824d8bc7');\n",
              "          const dataTable =\n",
              "            await google.colab.kernel.invokeFunction('convertToInteractive',\n",
              "                                                     [key], {});\n",
              "          if (!dataTable) return;\n",
              "\n",
              "          const docLinkHtml = 'Like what you see? Visit the ' +\n",
              "            '<a target=\"_blank\" href=https://colab.research.google.com/notebooks/data_table.ipynb>data table notebook</a>'\n",
              "            + ' to learn more about interactive tables.';\n",
              "          element.innerHTML = '';\n",
              "          dataTable['output_type'] = 'display_data';\n",
              "          await google.colab.output.renderOutput(dataTable, element);\n",
              "          const docLink = document.createElement('div');\n",
              "          docLink.innerHTML = docLinkHtml;\n",
              "          element.appendChild(docLink);\n",
              "        }\n",
              "      </script>\n",
              "    </div>\n",
              "  </div>\n",
              "  "
            ]
          },
          "metadata": {},
          "execution_count": 7
        }
      ],
      "source": [
        "get_chunk = flow_from_df(df)\n",
        "train_test = next(get_chunk)\n",
        "train_test"
      ]
    },
    {
      "cell_type": "code",
      "execution_count": 8,
      "metadata": {
        "id": "8u_GQQrRMNB8",
        "colab": {
          "base_uri": "https://localhost:8080/",
          "height": 488
        },
        "outputId": "25d0ea54-6ac5-492c-d5a2-58bf8d841adc"
      },
      "outputs": [
        {
          "output_type": "execute_result",
          "data": {
            "text/plain": [
              "              id  merged_or_not  perc_external_contribs  churn_addition  \\\n",
              "0              1              1                0.089869               0   \n",
              "1              2              0                0.014019               0   \n",
              "2              3              1                0.256849               0   \n",
              "3              4              1                0.014706             110   \n",
              "4              5              1                0.173077              60   \n",
              "...          ...            ...                     ...             ...   \n",
              "1673963  1673964              1                0.011392               4   \n",
              "1673964  1673965              1                0.018182             173   \n",
              "1673965  1673966              1                0.254067               1   \n",
              "1673966  1673967              0                0.150327              15   \n",
              "1673967  1673968              1                0.016194             584   \n",
              "\n",
              "         churn_deletion  pr_comment_num  part_num_issue  part_num_commit  \\\n",
              "0                     0               0               1                0   \n",
              "1                     0               0               1                0   \n",
              "2                     0               0               0                0   \n",
              "3                     3               0               0                0   \n",
              "4                     0               0               1                0   \n",
              "...                 ...             ...             ...              ...   \n",
              "1673963               0               0               3                0   \n",
              "1673964               2               0               4                0   \n",
              "1673965               0               0               0                0   \n",
              "1673966              14               0               0                0   \n",
              "1673967             476               0               0                0   \n",
              "\n",
              "         part_num_pr  part_num_code  ...  contrib_affiliation  \\\n",
              "0                  0              0  ...                  NaN   \n",
              "1                  0              0  ...                  NaN   \n",
              "2                  0              0  ...                  NaN   \n",
              "3                  0              0  ...                  NaN   \n",
              "4                  0              0  ...                  NaN   \n",
              "...              ...            ...  ...                  ...   \n",
              "1673963            0              0  ...                 suse   \n",
              "1673964            0              0  ...               mapbox   \n",
              "1673965            0              0  ...                  acm   \n",
              "1673966            0              0  ...                  NaN   \n",
              "1673967            0              0  ...                  NaN   \n",
              "\n",
              "         contrib_first_emo  perc_inte_neg_emo  perc_inte_pos_emo  \\\n",
              "0                      NaN           0.000000                0.0   \n",
              "1                      NaN           0.000000                0.0   \n",
              "2                      NaN           0.000000                0.0   \n",
              "3                      NaN           0.000000                0.0   \n",
              "4                      NaN           0.000000                1.0   \n",
              "...                    ...                ...                ...   \n",
              "1673963            neutral           0.000000                1.0   \n",
              "1673964            neutral           0.333333                0.0   \n",
              "1673965                NaN           0.000000                0.0   \n",
              "1673966                NaN           0.000000                0.0   \n",
              "1673967                NaN           0.000000                0.0   \n",
              "\n",
              "         perc_inte_neu_emo  contrib_follow_integrator  prior_interaction  \\\n",
              "0                 1.000000                          0                 28   \n",
              "1                 0.000000                          0                300   \n",
              "2                 0.000000                          0                505   \n",
              "3                 0.000000                          1                460   \n",
              "4                 0.000000                          1                  6   \n",
              "...                    ...                        ...                ...   \n",
              "1673963           0.000000                          0                132   \n",
              "1673964           0.666667                          0                 36   \n",
              "1673965           0.000000                          0                204   \n",
              "1673966           0.000000                          1                 88   \n",
              "1673967           0.000000                          0                168   \n",
              "\n",
              "         social_strength  same_country  same_affiliation  \n",
              "0               0.000000           NaN               NaN  \n",
              "1               0.250000           NaN               NaN  \n",
              "2               0.428571           1.0               NaN  \n",
              "3               0.138889           NaN               NaN  \n",
              "4               0.125000           NaN               NaN  \n",
              "...                  ...           ...               ...  \n",
              "1673963         0.384615           NaN               1.0  \n",
              "1673964         0.400000           1.0               0.0  \n",
              "1673965         0.215686           1.0               1.0  \n",
              "1673966         0.285714           NaN               NaN  \n",
              "1673967         0.125000           NaN               NaN  \n",
              "\n",
              "[1673968 rows x 47 columns]"
            ],
            "text/html": [
              "\n",
              "  <div id=\"df-ad17a3bf-99dd-4997-8d70-c8d2cd588eac\">\n",
              "    <div class=\"colab-df-container\">\n",
              "      <div>\n",
              "<style scoped>\n",
              "    .dataframe tbody tr th:only-of-type {\n",
              "        vertical-align: middle;\n",
              "    }\n",
              "\n",
              "    .dataframe tbody tr th {\n",
              "        vertical-align: top;\n",
              "    }\n",
              "\n",
              "    .dataframe thead th {\n",
              "        text-align: right;\n",
              "    }\n",
              "</style>\n",
              "<table border=\"1\" class=\"dataframe\">\n",
              "  <thead>\n",
              "    <tr style=\"text-align: right;\">\n",
              "      <th></th>\n",
              "      <th>id</th>\n",
              "      <th>merged_or_not</th>\n",
              "      <th>perc_external_contribs</th>\n",
              "      <th>churn_addition</th>\n",
              "      <th>churn_deletion</th>\n",
              "      <th>pr_comment_num</th>\n",
              "      <th>part_num_issue</th>\n",
              "      <th>part_num_commit</th>\n",
              "      <th>part_num_pr</th>\n",
              "      <th>part_num_code</th>\n",
              "      <th>...</th>\n",
              "      <th>contrib_affiliation</th>\n",
              "      <th>contrib_first_emo</th>\n",
              "      <th>perc_inte_neg_emo</th>\n",
              "      <th>perc_inte_pos_emo</th>\n",
              "      <th>perc_inte_neu_emo</th>\n",
              "      <th>contrib_follow_integrator</th>\n",
              "      <th>prior_interaction</th>\n",
              "      <th>social_strength</th>\n",
              "      <th>same_country</th>\n",
              "      <th>same_affiliation</th>\n",
              "    </tr>\n",
              "  </thead>\n",
              "  <tbody>\n",
              "    <tr>\n",
              "      <th>0</th>\n",
              "      <td>1</td>\n",
              "      <td>1</td>\n",
              "      <td>0.089869</td>\n",
              "      <td>0</td>\n",
              "      <td>0</td>\n",
              "      <td>0</td>\n",
              "      <td>1</td>\n",
              "      <td>0</td>\n",
              "      <td>0</td>\n",
              "      <td>0</td>\n",
              "      <td>...</td>\n",
              "      <td>NaN</td>\n",
              "      <td>NaN</td>\n",
              "      <td>0.000000</td>\n",
              "      <td>0.0</td>\n",
              "      <td>1.000000</td>\n",
              "      <td>0</td>\n",
              "      <td>28</td>\n",
              "      <td>0.000000</td>\n",
              "      <td>NaN</td>\n",
              "      <td>NaN</td>\n",
              "    </tr>\n",
              "    <tr>\n",
              "      <th>1</th>\n",
              "      <td>2</td>\n",
              "      <td>0</td>\n",
              "      <td>0.014019</td>\n",
              "      <td>0</td>\n",
              "      <td>0</td>\n",
              "      <td>0</td>\n",
              "      <td>1</td>\n",
              "      <td>0</td>\n",
              "      <td>0</td>\n",
              "      <td>0</td>\n",
              "      <td>...</td>\n",
              "      <td>NaN</td>\n",
              "      <td>NaN</td>\n",
              "      <td>0.000000</td>\n",
              "      <td>0.0</td>\n",
              "      <td>0.000000</td>\n",
              "      <td>0</td>\n",
              "      <td>300</td>\n",
              "      <td>0.250000</td>\n",
              "      <td>NaN</td>\n",
              "      <td>NaN</td>\n",
              "    </tr>\n",
              "    <tr>\n",
              "      <th>2</th>\n",
              "      <td>3</td>\n",
              "      <td>1</td>\n",
              "      <td>0.256849</td>\n",
              "      <td>0</td>\n",
              "      <td>0</td>\n",
              "      <td>0</td>\n",
              "      <td>0</td>\n",
              "      <td>0</td>\n",
              "      <td>0</td>\n",
              "      <td>0</td>\n",
              "      <td>...</td>\n",
              "      <td>NaN</td>\n",
              "      <td>NaN</td>\n",
              "      <td>0.000000</td>\n",
              "      <td>0.0</td>\n",
              "      <td>0.000000</td>\n",
              "      <td>0</td>\n",
              "      <td>505</td>\n",
              "      <td>0.428571</td>\n",
              "      <td>1.0</td>\n",
              "      <td>NaN</td>\n",
              "    </tr>\n",
              "    <tr>\n",
              "      <th>3</th>\n",
              "      <td>4</td>\n",
              "      <td>1</td>\n",
              "      <td>0.014706</td>\n",
              "      <td>110</td>\n",
              "      <td>3</td>\n",
              "      <td>0</td>\n",
              "      <td>0</td>\n",
              "      <td>0</td>\n",
              "      <td>0</td>\n",
              "      <td>0</td>\n",
              "      <td>...</td>\n",
              "      <td>NaN</td>\n",
              "      <td>NaN</td>\n",
              "      <td>0.000000</td>\n",
              "      <td>0.0</td>\n",
              "      <td>0.000000</td>\n",
              "      <td>1</td>\n",
              "      <td>460</td>\n",
              "      <td>0.138889</td>\n",
              "      <td>NaN</td>\n",
              "      <td>NaN</td>\n",
              "    </tr>\n",
              "    <tr>\n",
              "      <th>4</th>\n",
              "      <td>5</td>\n",
              "      <td>1</td>\n",
              "      <td>0.173077</td>\n",
              "      <td>60</td>\n",
              "      <td>0</td>\n",
              "      <td>0</td>\n",
              "      <td>1</td>\n",
              "      <td>0</td>\n",
              "      <td>0</td>\n",
              "      <td>0</td>\n",
              "      <td>...</td>\n",
              "      <td>NaN</td>\n",
              "      <td>NaN</td>\n",
              "      <td>0.000000</td>\n",
              "      <td>1.0</td>\n",
              "      <td>0.000000</td>\n",
              "      <td>1</td>\n",
              "      <td>6</td>\n",
              "      <td>0.125000</td>\n",
              "      <td>NaN</td>\n",
              "      <td>NaN</td>\n",
              "    </tr>\n",
              "    <tr>\n",
              "      <th>...</th>\n",
              "      <td>...</td>\n",
              "      <td>...</td>\n",
              "      <td>...</td>\n",
              "      <td>...</td>\n",
              "      <td>...</td>\n",
              "      <td>...</td>\n",
              "      <td>...</td>\n",
              "      <td>...</td>\n",
              "      <td>...</td>\n",
              "      <td>...</td>\n",
              "      <td>...</td>\n",
              "      <td>...</td>\n",
              "      <td>...</td>\n",
              "      <td>...</td>\n",
              "      <td>...</td>\n",
              "      <td>...</td>\n",
              "      <td>...</td>\n",
              "      <td>...</td>\n",
              "      <td>...</td>\n",
              "      <td>...</td>\n",
              "      <td>...</td>\n",
              "    </tr>\n",
              "    <tr>\n",
              "      <th>1673963</th>\n",
              "      <td>1673964</td>\n",
              "      <td>1</td>\n",
              "      <td>0.011392</td>\n",
              "      <td>4</td>\n",
              "      <td>0</td>\n",
              "      <td>0</td>\n",
              "      <td>3</td>\n",
              "      <td>0</td>\n",
              "      <td>0</td>\n",
              "      <td>0</td>\n",
              "      <td>...</td>\n",
              "      <td>suse</td>\n",
              "      <td>neutral</td>\n",
              "      <td>0.000000</td>\n",
              "      <td>1.0</td>\n",
              "      <td>0.000000</td>\n",
              "      <td>0</td>\n",
              "      <td>132</td>\n",
              "      <td>0.384615</td>\n",
              "      <td>NaN</td>\n",
              "      <td>1.0</td>\n",
              "    </tr>\n",
              "    <tr>\n",
              "      <th>1673964</th>\n",
              "      <td>1673965</td>\n",
              "      <td>1</td>\n",
              "      <td>0.018182</td>\n",
              "      <td>173</td>\n",
              "      <td>2</td>\n",
              "      <td>0</td>\n",
              "      <td>4</td>\n",
              "      <td>0</td>\n",
              "      <td>0</td>\n",
              "      <td>0</td>\n",
              "      <td>...</td>\n",
              "      <td>mapbox</td>\n",
              "      <td>neutral</td>\n",
              "      <td>0.333333</td>\n",
              "      <td>0.0</td>\n",
              "      <td>0.666667</td>\n",
              "      <td>0</td>\n",
              "      <td>36</td>\n",
              "      <td>0.400000</td>\n",
              "      <td>1.0</td>\n",
              "      <td>0.0</td>\n",
              "    </tr>\n",
              "    <tr>\n",
              "      <th>1673965</th>\n",
              "      <td>1673966</td>\n",
              "      <td>1</td>\n",
              "      <td>0.254067</td>\n",
              "      <td>1</td>\n",
              "      <td>0</td>\n",
              "      <td>0</td>\n",
              "      <td>0</td>\n",
              "      <td>0</td>\n",
              "      <td>0</td>\n",
              "      <td>0</td>\n",
              "      <td>...</td>\n",
              "      <td>acm</td>\n",
              "      <td>NaN</td>\n",
              "      <td>0.000000</td>\n",
              "      <td>0.0</td>\n",
              "      <td>0.000000</td>\n",
              "      <td>0</td>\n",
              "      <td>204</td>\n",
              "      <td>0.215686</td>\n",
              "      <td>1.0</td>\n",
              "      <td>1.0</td>\n",
              "    </tr>\n",
              "    <tr>\n",
              "      <th>1673966</th>\n",
              "      <td>1673967</td>\n",
              "      <td>0</td>\n",
              "      <td>0.150327</td>\n",
              "      <td>15</td>\n",
              "      <td>14</td>\n",
              "      <td>0</td>\n",
              "      <td>0</td>\n",
              "      <td>0</td>\n",
              "      <td>0</td>\n",
              "      <td>0</td>\n",
              "      <td>...</td>\n",
              "      <td>NaN</td>\n",
              "      <td>NaN</td>\n",
              "      <td>0.000000</td>\n",
              "      <td>0.0</td>\n",
              "      <td>0.000000</td>\n",
              "      <td>1</td>\n",
              "      <td>88</td>\n",
              "      <td>0.285714</td>\n",
              "      <td>NaN</td>\n",
              "      <td>NaN</td>\n",
              "    </tr>\n",
              "    <tr>\n",
              "      <th>1673967</th>\n",
              "      <td>1673968</td>\n",
              "      <td>1</td>\n",
              "      <td>0.016194</td>\n",
              "      <td>584</td>\n",
              "      <td>476</td>\n",
              "      <td>0</td>\n",
              "      <td>0</td>\n",
              "      <td>0</td>\n",
              "      <td>0</td>\n",
              "      <td>0</td>\n",
              "      <td>...</td>\n",
              "      <td>NaN</td>\n",
              "      <td>NaN</td>\n",
              "      <td>0.000000</td>\n",
              "      <td>0.0</td>\n",
              "      <td>0.000000</td>\n",
              "      <td>0</td>\n",
              "      <td>168</td>\n",
              "      <td>0.125000</td>\n",
              "      <td>NaN</td>\n",
              "      <td>NaN</td>\n",
              "    </tr>\n",
              "  </tbody>\n",
              "</table>\n",
              "<p>1673968 rows × 47 columns</p>\n",
              "</div>\n",
              "      <button class=\"colab-df-convert\" onclick=\"convertToInteractive('df-ad17a3bf-99dd-4997-8d70-c8d2cd588eac')\"\n",
              "              title=\"Convert this dataframe to an interactive table.\"\n",
              "              style=\"display:none;\">\n",
              "        \n",
              "  <svg xmlns=\"http://www.w3.org/2000/svg\" height=\"24px\"viewBox=\"0 0 24 24\"\n",
              "       width=\"24px\">\n",
              "    <path d=\"M0 0h24v24H0V0z\" fill=\"none\"/>\n",
              "    <path d=\"M18.56 5.44l.94 2.06.94-2.06 2.06-.94-2.06-.94-.94-2.06-.94 2.06-2.06.94zm-11 1L8.5 8.5l.94-2.06 2.06-.94-2.06-.94L8.5 2.5l-.94 2.06-2.06.94zm10 10l.94 2.06.94-2.06 2.06-.94-2.06-.94-.94-2.06-.94 2.06-2.06.94z\"/><path d=\"M17.41 7.96l-1.37-1.37c-.4-.4-.92-.59-1.43-.59-.52 0-1.04.2-1.43.59L10.3 9.45l-7.72 7.72c-.78.78-.78 2.05 0 2.83L4 21.41c.39.39.9.59 1.41.59.51 0 1.02-.2 1.41-.59l7.78-7.78 2.81-2.81c.8-.78.8-2.07 0-2.86zM5.41 20L4 18.59l7.72-7.72 1.47 1.35L5.41 20z\"/>\n",
              "  </svg>\n",
              "      </button>\n",
              "      \n",
              "  <style>\n",
              "    .colab-df-container {\n",
              "      display:flex;\n",
              "      flex-wrap:wrap;\n",
              "      gap: 12px;\n",
              "    }\n",
              "\n",
              "    .colab-df-convert {\n",
              "      background-color: #E8F0FE;\n",
              "      border: none;\n",
              "      border-radius: 50%;\n",
              "      cursor: pointer;\n",
              "      display: none;\n",
              "      fill: #1967D2;\n",
              "      height: 32px;\n",
              "      padding: 0 0 0 0;\n",
              "      width: 32px;\n",
              "    }\n",
              "\n",
              "    .colab-df-convert:hover {\n",
              "      background-color: #E2EBFA;\n",
              "      box-shadow: 0px 1px 2px rgba(60, 64, 67, 0.3), 0px 1px 3px 1px rgba(60, 64, 67, 0.15);\n",
              "      fill: #174EA6;\n",
              "    }\n",
              "\n",
              "    [theme=dark] .colab-df-convert {\n",
              "      background-color: #3B4455;\n",
              "      fill: #D2E3FC;\n",
              "    }\n",
              "\n",
              "    [theme=dark] .colab-df-convert:hover {\n",
              "      background-color: #434B5C;\n",
              "      box-shadow: 0px 1px 3px 1px rgba(0, 0, 0, 0.15);\n",
              "      filter: drop-shadow(0px 1px 2px rgba(0, 0, 0, 0.3));\n",
              "      fill: #FFFFFF;\n",
              "    }\n",
              "  </style>\n",
              "\n",
              "      <script>\n",
              "        const buttonEl =\n",
              "          document.querySelector('#df-ad17a3bf-99dd-4997-8d70-c8d2cd588eac button.colab-df-convert');\n",
              "        buttonEl.style.display =\n",
              "          google.colab.kernel.accessAllowed ? 'block' : 'none';\n",
              "\n",
              "        async function convertToInteractive(key) {\n",
              "          const element = document.querySelector('#df-ad17a3bf-99dd-4997-8d70-c8d2cd588eac');\n",
              "          const dataTable =\n",
              "            await google.colab.kernel.invokeFunction('convertToInteractive',\n",
              "                                                     [key], {});\n",
              "          if (!dataTable) return;\n",
              "\n",
              "          const docLinkHtml = 'Like what you see? Visit the ' +\n",
              "            '<a target=\"_blank\" href=https://colab.research.google.com/notebooks/data_table.ipynb>data table notebook</a>'\n",
              "            + ' to learn more about interactive tables.';\n",
              "          element.innerHTML = '';\n",
              "          dataTable['output_type'] = 'display_data';\n",
              "          await google.colab.output.renderOutput(dataTable, element);\n",
              "          const docLink = document.createElement('div');\n",
              "          docLink.innerHTML = docLinkHtml;\n",
              "          element.appendChild(docLink);\n",
              "        }\n",
              "      </script>\n",
              "    </div>\n",
              "  </div>\n",
              "  "
            ]
          },
          "metadata": {},
          "execution_count": 8
        }
      ],
      "source": [
        "list_of_metrics = ['id','acc_commit_num', 'first_pr', 'core_member',\n",
        "                  'contrib_gender', 'same_country', 'same_affiliation',\n",
        "                  'social_strength', 'account_creation_days',\n",
        "                  'first_response_time', 'contrib_country',\n",
        "                  'prior_interaction', 'contrib_affiliation', 'perc_external_contribs',\n",
        "                  'contrib_first_emo', 'contrib_follow_integrator',\n",
        "                  'language', 'project_age', 'pushed_delta',\n",
        "                  'pr_succ_rate', 'open_issue_num', 'open_pr_num', 'fork_num',\n",
        "                  'churn_addition', 'bug_fix', 'test_inclusion',\n",
        "                  'hash_tag', 'at_tag', 'part_num_issue', 'part_num_commit',\n",
        "                  'part_num_pr', 'part_num_code','ci_exists', 'ci_latency',\n",
        "                  'ci_test_passed', 'ci_failed_perc', 'churn_deletion',\n",
        "                  'description_length', 'comment_conflict', 'pr_comment_num',\n",
        "                  'part_num_code', 'ci_build_num', 'perc_inte_neg_emo', 'perc_inte_pos_emo',\n",
        "                  'perc_inte_neu_emo','ci_first_build_status', 'ci_last_build_status',\n",
        "                   'merged_or_not']\n",
        "\n",
        "for metric in columns:\n",
        "  if metric not in list_of_metrics:\n",
        "    train_test.drop(metric, axis=1, inplace=True)\n",
        "\n",
        "train_test"
      ]
    },
    {
      "cell_type": "code",
      "execution_count": 9,
      "metadata": {
        "id": "PsMQ5qdUNZ2d",
        "colab": {
          "base_uri": "https://localhost:8080/",
          "height": 702
        },
        "outputId": "9a614656-b0e4-403b-8d8f-c857e0c1d8f6"
      },
      "outputs": [
        {
          "output_type": "execute_result",
          "data": {
            "text/plain": [
              "<matplotlib.axes._subplots.AxesSubplot at 0x7f85cc6aafd0>"
            ]
          },
          "metadata": {},
          "execution_count": 9
        },
        {
          "output_type": "display_data",
          "data": {
            "text/plain": [
              "<Figure size 1800x720 with 3 Axes>"
            ],
            "image/png": "[encoded data removed]"
          },
          "metadata": {
            "needs_background": "light"
          }
        }
      ],
      "source": [
        "msno.bar(train_test)"
      ]
    },
    {
      "cell_type": "markdown",
      "metadata": {
        "id": "dEJA8wxmO7ec"
      },
      "source": [
        "Even though there are a couple of metrics which have high number of null values, decision to keep them for now has been taken. Feature selection will be done when XGBoost will be deployed on the data. Subsequently, the most important features will be observed and the rest of them will be dropped from the experiment."
      ]
    },
    {
      "cell_type": "markdown",
      "metadata": {
        "id": "S8E4ckZOOXSW"
      },
      "source": [
        "Let us now see the percentage of accepted and rejected pull-request in this data chunk and see if the class imbalance remains the same or has worsened."
      ]
    },
    {
      "cell_type": "code",
      "execution_count": 10,
      "metadata": {
        "id": "v5jwOt7NOcGC",
        "colab": {
          "base_uri": "https://localhost:8080/"
        },
        "outputId": "505c2b13-68d3-48c9-aa28-894d82030010"
      },
      "outputs": [
        {
          "output_type": "stream",
          "name": "stdout",
          "text": [
            "Accepted: 1355422\n",
            "Percentage: 80.97060397809277\n",
            "Rejected: 318546\n",
            "Percentage: 19.029396021907232\n"
          ]
        }
      ],
      "source": [
        "accepted = 0\n",
        "rejected = 0\n",
        "for ind in train_test.index:\n",
        "  if train_test[\"merged_or_not\"][ind]==1:\n",
        "    accepted = accepted+1\n",
        "  else:\n",
        "    rejected = rejected+1\n",
        "\n",
        "print(\"Accepted:\", accepted)\n",
        "print(\"Percentage:\", (accepted/len(train_test))*100)\n",
        "print(\"Rejected:\", rejected)\n",
        "print(\"Percentage:\", (rejected/len(train_test))*100)"
      ]
    },
    {
      "cell_type": "markdown",
      "metadata": {
        "id": "Rjgerjg2TGXc"
      },
      "source": [
        "Splitting the train_eval_test dataframe into separate training, evaluation and testing sets. 50% of the entire dataset will be used for training, 30% of the dataset will be used for evaluation/validation purposes and the remaining 20% will be used to run tests."
      ]
    },
    {
      "cell_type": "markdown",
      "metadata": {
        "id": "aQR24vd2kv3C"
      },
      "source": [
        "An important step before that would be to check the data types of every column since classification models would expect int, bool or float daat types. However, the dataset is diverse and annotation is required."
      ]
    },
    {
      "cell_type": "code",
      "execution_count": 11,
      "metadata": {
        "id": "JfQ8vn33lOSg",
        "colab": {
          "base_uri": "https://localhost:8080/"
        },
        "outputId": "bec7493c-13e7-4968-f757-c11364ae2569"
      },
      "outputs": [
        {
          "output_type": "stream",
          "name": "stdout",
          "text": [
            "id                             int64\n",
            "merged_or_not                  int64\n",
            "perc_external_contribs       float64\n",
            "churn_addition                 int64\n",
            "churn_deletion                 int64\n",
            "pr_comment_num                 int64\n",
            "part_num_issue                 int64\n",
            "part_num_commit                int64\n",
            "part_num_pr                    int64\n",
            "part_num_code                  int64\n",
            "comment_conflict               int64\n",
            "hash_tag                       int64\n",
            "at_tag                         int64\n",
            "test_inclusion                 int64\n",
            "description_length             int64\n",
            "bug_fix                      float64\n",
            "ci_exists                    float64\n",
            "ci_latency                   float64\n",
            "ci_build_num                 float64\n",
            "ci_test_passed               float64\n",
            "ci_failed_perc               float64\n",
            "ci_first_build_status         object\n",
            "ci_last_build_status          object\n",
            "language                      object\n",
            "fork_num                       int64\n",
            "project_age                    int64\n",
            "open_issue_num                 int64\n",
            "pr_succ_rate                 float64\n",
            "open_pr_num                    int64\n",
            "first_response_time          float64\n",
            "pushed_delta                 float64\n",
            "acc_commit_num                 int64\n",
            "first_pr                       int64\n",
            "account_creation_days          int64\n",
            "core_member                    int64\n",
            "contrib_gender                object\n",
            "contrib_country               object\n",
            "contrib_affiliation           object\n",
            "contrib_first_emo             object\n",
            "perc_inte_neg_emo            float64\n",
            "perc_inte_pos_emo            float64\n",
            "perc_inte_neu_emo            float64\n",
            "contrib_follow_integrator      int64\n",
            "prior_interaction              int64\n",
            "social_strength              float64\n",
            "same_country                 float64\n",
            "same_affiliation             float64\n",
            "dtype: object\n"
          ]
        }
      ],
      "source": [
        "print(train_test.dtypes)"
      ]
    },
    {
      "cell_type": "markdown",
      "metadata": {
        "id": "Rx0ERjG-lc2y"
      },
      "source": [
        "Metrics \"ci_first_build_status\", \"ci_last_build_status\", \"language\", \"contrib_gender\", contrib_country\", \"contrib_affiliation\", \"contrib_first_emo\" have data type of object. This would cause trouble when deploying XGBoost. Annotation is needed in this case; manual or otherwise. Let's check the unique values present in each of these metrics."
      ]
    },
    {
      "cell_type": "code",
      "execution_count": 12,
      "metadata": {
        "id": "A-K-im7JmLnk",
        "colab": {
          "base_uri": "https://localhost:8080/"
        },
        "outputId": "fd07dc1c-d0c2-48ff-e145-1ba4aebe1c61"
      },
      "outputs": [
        {
          "output_type": "stream",
          "name": "stdout",
          "text": [
            "ci_first_build_status : ['success' 'failure' nan] , # 3\n",
            "ci_last_build_status : ['success' 'failure' nan] , # 3\n",
            "language : ['JavaScript' 'Python' 'Go' 'Scala' 'Java' 'Ruby'] , # 6\n",
            "contrib_gender : [nan 'male' 'female'] , # 3\n",
            "contrib_country : [nan 'malaysia' 'canada' 'united states' 'peru' 'portugal' 'brazil'\n",
            " 'austria' 'united kingdom' 'hungary' 'south africa' 'nepal' 'nicaragua'\n",
            " 'russia' 'turkey' 'italy' 'china' 'iran' 'spain' 'czech republic'\n",
            " 'germany' 'japan' 'nigeria' 'new zealand' 'pakistan' 'philippines'\n",
            " 'australia' 'sri lanka' 'ukraine' 'switzerland' 'singapore' 'france'\n",
            " 'belgium' 'chile' 'india' 'poland' 'taiwan' 'bangladesh' 'finland'\n",
            " 'costa rica' 'netherlands' 'lithuania' 'greece' 'ireland' 'south korea'\n",
            " 'norway' 'denmark' 'argentina' 'venezuela' 'belarus'\n",
            " 'northern mariana islands' 'vietnam' 'luxembourg' 'lebanon' 'uzbekistan'\n",
            " 'sweden' 'bulgaria' 'uganda' 'slovenia' 'croatia' 'united arab emirates'\n",
            " 'estonia' 'israel' 'panama' 'indonesia' 'latvia' 'mexico' 'romania'\n",
            " 'uruguay' 'jersey' 'mauritius' 'thailand' 'albania' 'morocco' 'jordan'\n",
            " 'kenya' 'zambia' 'azerbaijan' 'afghanistan' 'kazakhstan'\n",
            " 'bosnia and herzegovina' 'hong kong' 'cuba' 'malta' 'ecuador'\n",
            " 'mozambique' 'fiji' 'colombia' 'greenland' 'tunisia' 'tanzania' 'brunei'\n",
            " 'congo' 'saudi arabia' 'macedonia' 'algeria' 'reunion' 'serbia' 'iceland'\n",
            " 'egypt' 'bolivia' 'trinidad and tobago' 'el salvador' 'cyprus' 'yemen'\n",
            " 'anguilla' 'cambodia' 'jamaica' 'ghana' 'guernsey' 'kyrgyzstan'\n",
            " 'puerto rico' 'kuwait' 'honduras' 'palestinian territories' 'senegal'\n",
            " 'guatemala' 'gibraltar' 'antarctica' 'dominican republic' 'malawi'\n",
            " 'zimbabwe' 'myanmar' 'barbados' 'cameroon' 'georgia' \"cote d'ivoire\"\n",
            " 'iraq' 'benin' 'grenada' 'haiti' 'andorra' 'slovakia' 'bermuda' 'mali'\n",
            " 'faroe islands' 'paraguay' 'moldova' 'turks and caicos islands'\n",
            " 'ethiopia' 'san marino' 'mongolia' 'pitcairn islands' 'guadeloupe'\n",
            " 'swaziland' 'syria' 'north korea' 'maldives' 'french polynesia'\n",
            " 'equatorial guinea' 'armenia' 'kosovo' 'bahrain' 'montserrat' 'laos'\n",
            " 'new caledonia' 'isle of man' 'rwanda' 'virgin islands' 'martinique'\n",
            " 'togo' 'netherlands antilles' 'angola' 'macau' 'madagascar'\n",
            " 'cayman islands' 'liechtenstein' 'guam' 'cocos islands' 'somalia'\n",
            " 'mauritania' 'bhutan' 'turkmenistan' 'oman' 'mayotte' 'monaco'] , # 176\n",
            "contrib_affiliation : [nan 'sas' 'red hat' ... 'schlumberger' 'virginia commonwealth university'\n",
            " 'infusionsoft'] , # 1203\n",
            "contrib_first_emo : [nan 'neutral' 'negative' 'positive'] , # 4\n"
          ]
        }
      ],
      "source": [
        "object_metrics = ['ci_first_build_status', 'ci_last_build_status', 'language', \n",
        "                  'contrib_gender', 'contrib_country', 'contrib_affiliation', 'contrib_first_emo']\n",
        "\n",
        "for metric in object_metrics:\n",
        "  if metric == 'ci_first_build_status':\n",
        "    ci_first_build_unique = train_test[metric].unique()\n",
        "    print(metric,':', ci_first_build_unique, ', #',len(ci_first_build_unique))\n",
        "  if metric == 'ci_last_build_status':\n",
        "    ci_last_build_unique = train_test[metric].unique()\n",
        "    print(metric,':', ci_last_build_unique, ', #',len(ci_last_build_unique))\n",
        "  if metric == 'language':\n",
        "    language_unique = train_test[metric].unique()\n",
        "    print(metric,':', language_unique, ', #',len(language_unique))\n",
        "  if metric == 'contrib_gender':\n",
        "    cotrib_gender_unique = train_test[metric].unique()\n",
        "    print(metric,':', cotrib_gender_unique, ', #',len(cotrib_gender_unique))\n",
        "  if metric == 'contrib_country':\n",
        "    cotrib_country_unique = train_test[metric].unique()\n",
        "    print(metric,':', cotrib_country_unique, ', #',len(cotrib_country_unique))\n",
        "  if metric == 'contrib_affiliation':\n",
        "    cotrib_affiliation_unique = train_test[metric].unique()\n",
        "    print(metric,':', cotrib_affiliation_unique, ', #',len(cotrib_affiliation_unique))\n",
        "  if metric == 'contrib_first_emo':\n",
        "    cotrib_first_emo_unique = train_test[metric].unique()\n",
        "    print(metric,':', cotrib_first_emo_unique, ', #',len(cotrib_first_emo_unique))   "
      ]
    },
    {
      "cell_type": "markdown",
      "source": [
        "[LabelEncoder](https://scikit-learn.org/stable/modules/generated/sklearn.preprocessing.LabelEncoder.html) from sklearn's preprocessing package was used to annotate these unique values. However, a separate DataFrame was created to preserve the original data as that would come handy later on while recommendations are done."
      ],
      "metadata": {
        "id": "lUzgROIQEZIb"
      }
    },
    {
      "cell_type": "code",
      "execution_count": 13,
      "metadata": {
        "id": "3zk8aGqsnMap"
      },
      "outputs": [],
      "source": [
        "from sklearn import preprocessing\n",
        "\n",
        "le = preprocessing.LabelEncoder()\n",
        "\n",
        "labelled_data = pd.DataFrame(columns = object_metrics)\n",
        "for metric in object_metrics:\n",
        "  labelled_data[metric] = train_test[metric]\n",
        "for metric in object_metrics:\n",
        "  train_test[metric] = le.fit_transform(train_test[metric])"
      ]
    },
    {
      "cell_type": "code",
      "source": [
        "labelled_data"
      ],
      "metadata": {
        "id": "nqnR-ITJIiPC",
        "colab": {
          "base_uri": "https://localhost:8080/",
          "height": 424
        },
        "outputId": "b6568c50-1400-4609-d6bc-35b3933bafef"
      },
      "execution_count": 14,
      "outputs": [
        {
          "output_type": "execute_result",
          "data": {
            "text/plain": [
              "        ci_first_build_status ci_last_build_status    language contrib_gender  \\\n",
              "0                     success              success  JavaScript            NaN   \n",
              "1                     failure              failure      Python            NaN   \n",
              "2                     success              success  JavaScript           male   \n",
              "3                     success              success          Go           male   \n",
              "4                     success              success      Python            NaN   \n",
              "...                       ...                  ...         ...            ...   \n",
              "1673963               success              success  JavaScript           male   \n",
              "1673964               success              failure      Python           male   \n",
              "1673965                   NaN                  NaN        Java           male   \n",
              "1673966                   NaN                  NaN        Java           male   \n",
              "1673967               success              success  JavaScript           male   \n",
              "\n",
              "        contrib_country contrib_affiliation contrib_first_emo  \n",
              "0                   NaN                 NaN               NaN  \n",
              "1                   NaN                 NaN               NaN  \n",
              "2              malaysia                 NaN               NaN  \n",
              "3                canada                 NaN               NaN  \n",
              "4                   NaN                 NaN               NaN  \n",
              "...                 ...                 ...               ...  \n",
              "1673963  czech republic                suse           neutral  \n",
              "1673964   united states              mapbox           neutral  \n",
              "1673965   united states                 acm               NaN  \n",
              "1673966             NaN                 NaN               NaN  \n",
              "1673967             NaN                 NaN               NaN  \n",
              "\n",
              "[1673968 rows x 7 columns]"
            ],
            "text/html": [
              "\n",
              "  <div id=\"df-b6a1dfde-df96-44b2-aa74-5dd41c40f672\">\n",
              "    <div class=\"colab-df-container\">\n",
              "      <div>\n",
              "<style scoped>\n",
              "    .dataframe tbody tr th:only-of-type {\n",
              "        vertical-align: middle;\n",
              "    }\n",
              "\n",
              "    .dataframe tbody tr th {\n",
              "        vertical-align: top;\n",
              "    }\n",
              "\n",
              "    .dataframe thead th {\n",
              "        text-align: right;\n",
              "    }\n",
              "</style>\n",
              "<table border=\"1\" class=\"dataframe\">\n",
              "  <thead>\n",
              "    <tr style=\"text-align: right;\">\n",
              "      <th></th>\n",
              "      <th>ci_first_build_status</th>\n",
              "      <th>ci_last_build_status</th>\n",
              "      <th>language</th>\n",
              "      <th>contrib_gender</th>\n",
              "      <th>contrib_country</th>\n",
              "      <th>contrib_affiliation</th>\n",
              "      <th>contrib_first_emo</th>\n",
              "    </tr>\n",
              "  </thead>\n",
              "  <tbody>\n",
              "    <tr>\n",
              "      <th>0</th>\n",
              "      <td>success</td>\n",
              "      <td>success</td>\n",
              "      <td>JavaScript</td>\n",
              "      <td>NaN</td>\n",
              "      <td>NaN</td>\n",
              "      <td>NaN</td>\n",
              "      <td>NaN</td>\n",
              "    </tr>\n",
              "    <tr>\n",
              "      <th>1</th>\n",
              "      <td>failure</td>\n",
              "      <td>failure</td>\n",
              "      <td>Python</td>\n",
              "      <td>NaN</td>\n",
              "      <td>NaN</td>\n",
              "      <td>NaN</td>\n",
              "      <td>NaN</td>\n",
              "    </tr>\n",
              "    <tr>\n",
              "      <th>2</th>\n",
              "      <td>success</td>\n",
              "      <td>success</td>\n",
              "      <td>JavaScript</td>\n",
              "      <td>male</td>\n",
              "      <td>malaysia</td>\n",
              "      <td>NaN</td>\n",
              "      <td>NaN</td>\n",
              "    </tr>\n",
              "    <tr>\n",
              "      <th>3</th>\n",
              "      <td>success</td>\n",
              "      <td>success</td>\n",
              "      <td>Go</td>\n",
              "      <td>male</td>\n",
              "      <td>canada</td>\n",
              "      <td>NaN</td>\n",
              "      <td>NaN</td>\n",
              "    </tr>\n",
              "    <tr>\n",
              "      <th>4</th>\n",
              "      <td>success</td>\n",
              "      <td>success</td>\n",
              "      <td>Python</td>\n",
              "      <td>NaN</td>\n",
              "      <td>NaN</td>\n",
              "      <td>NaN</td>\n",
              "      <td>NaN</td>\n",
              "    </tr>\n",
              "    <tr>\n",
              "      <th>...</th>\n",
              "      <td>...</td>\n",
              "      <td>...</td>\n",
              "      <td>...</td>\n",
              "      <td>...</td>\n",
              "      <td>...</td>\n",
              "      <td>...</td>\n",
              "      <td>...</td>\n",
              "    </tr>\n",
              "    <tr>\n",
              "      <th>1673963</th>\n",
              "      <td>success</td>\n",
              "      <td>success</td>\n",
              "      <td>JavaScript</td>\n",
              "      <td>male</td>\n",
              "      <td>czech republic</td>\n",
              "      <td>suse</td>\n",
              "      <td>neutral</td>\n",
              "    </tr>\n",
              "    <tr>\n",
              "      <th>1673964</th>\n",
              "      <td>success</td>\n",
              "      <td>failure</td>\n",
              "      <td>Python</td>\n",
              "      <td>male</td>\n",
              "      <td>united states</td>\n",
              "      <td>mapbox</td>\n",
              "      <td>neutral</td>\n",
              "    </tr>\n",
              "    <tr>\n",
              "      <th>1673965</th>\n",
              "      <td>NaN</td>\n",
              "      <td>NaN</td>\n",
              "      <td>Java</td>\n",
              "      <td>male</td>\n",
              "      <td>united states</td>\n",
              "      <td>acm</td>\n",
              "      <td>NaN</td>\n",
              "    </tr>\n",
              "    <tr>\n",
              "      <th>1673966</th>\n",
              "      <td>NaN</td>\n",
              "      <td>NaN</td>\n",
              "      <td>Java</td>\n",
              "      <td>male</td>\n",
              "      <td>NaN</td>\n",
              "      <td>NaN</td>\n",
              "      <td>NaN</td>\n",
              "    </tr>\n",
              "    <tr>\n",
              "      <th>1673967</th>\n",
              "      <td>success</td>\n",
              "      <td>success</td>\n",
              "      <td>JavaScript</td>\n",
              "      <td>male</td>\n",
              "      <td>NaN</td>\n",
              "      <td>NaN</td>\n",
              "      <td>NaN</td>\n",
              "    </tr>\n",
              "  </tbody>\n",
              "</table>\n",
              "<p>1673968 rows × 7 columns</p>\n",
              "</div>\n",
              "      <button class=\"colab-df-convert\" onclick=\"convertToInteractive('df-b6a1dfde-df96-44b2-aa74-5dd41c40f672')\"\n",
              "              title=\"Convert this dataframe to an interactive table.\"\n",
              "              style=\"display:none;\">\n",
              "        \n",
              "  <svg xmlns=\"http://www.w3.org/2000/svg\" height=\"24px\"viewBox=\"0 0 24 24\"\n",
              "       width=\"24px\">\n",
              "    <path d=\"M0 0h24v24H0V0z\" fill=\"none\"/>\n",
              "    <path d=\"M18.56 5.44l.94 2.06.94-2.06 2.06-.94-2.06-.94-.94-2.06-.94 2.06-2.06.94zm-11 1L8.5 8.5l.94-2.06 2.06-.94-2.06-.94L8.5 2.5l-.94 2.06-2.06.94zm10 10l.94 2.06.94-2.06 2.06-.94-2.06-.94-.94-2.06-.94 2.06-2.06.94z\"/><path d=\"M17.41 7.96l-1.37-1.37c-.4-.4-.92-.59-1.43-.59-.52 0-1.04.2-1.43.59L10.3 9.45l-7.72 7.72c-.78.78-.78 2.05 0 2.83L4 21.41c.39.39.9.59 1.41.59.51 0 1.02-.2 1.41-.59l7.78-7.78 2.81-2.81c.8-.78.8-2.07 0-2.86zM5.41 20L4 18.59l7.72-7.72 1.47 1.35L5.41 20z\"/>\n",
              "  </svg>\n",
              "      </button>\n",
              "      \n",
              "  <style>\n",
              "    .colab-df-container {\n",
              "      display:flex;\n",
              "      flex-wrap:wrap;\n",
              "      gap: 12px;\n",
              "    }\n",
              "\n",
              "    .colab-df-convert {\n",
              "      background-color: #E8F0FE;\n",
              "      border: none;\n",
              "      border-radius: 50%;\n",
              "      cursor: pointer;\n",
              "      display: none;\n",
              "      fill: #1967D2;\n",
              "      height: 32px;\n",
              "      padding: 0 0 0 0;\n",
              "      width: 32px;\n",
              "    }\n",
              "\n",
              "    .colab-df-convert:hover {\n",
              "      background-color: #E2EBFA;\n",
              "      box-shadow: 0px 1px 2px rgba(60, 64, 67, 0.3), 0px 1px 3px 1px rgba(60, 64, 67, 0.15);\n",
              "      fill: #174EA6;\n",
              "    }\n",
              "\n",
              "    [theme=dark] .colab-df-convert {\n",
              "      background-color: #3B4455;\n",
              "      fill: #D2E3FC;\n",
              "    }\n",
              "\n",
              "    [theme=dark] .colab-df-convert:hover {\n",
              "      background-color: #434B5C;\n",
              "      box-shadow: 0px 1px 3px 1px rgba(0, 0, 0, 0.15);\n",
              "      filter: drop-shadow(0px 1px 2px rgba(0, 0, 0, 0.3));\n",
              "      fill: #FFFFFF;\n",
              "    }\n",
              "  </style>\n",
              "\n",
              "      <script>\n",
              "        const buttonEl =\n",
              "          document.querySelector('#df-b6a1dfde-df96-44b2-aa74-5dd41c40f672 button.colab-df-convert');\n",
              "        buttonEl.style.display =\n",
              "          google.colab.kernel.accessAllowed ? 'block' : 'none';\n",
              "\n",
              "        async function convertToInteractive(key) {\n",
              "          const element = document.querySelector('#df-b6a1dfde-df96-44b2-aa74-5dd41c40f672');\n",
              "          const dataTable =\n",
              "            await google.colab.kernel.invokeFunction('convertToInteractive',\n",
              "                                                     [key], {});\n",
              "          if (!dataTable) return;\n",
              "\n",
              "          const docLinkHtml = 'Like what you see? Visit the ' +\n",
              "            '<a target=\"_blank\" href=https://colab.research.google.com/notebooks/data_table.ipynb>data table notebook</a>'\n",
              "            + ' to learn more about interactive tables.';\n",
              "          element.innerHTML = '';\n",
              "          dataTable['output_type'] = 'display_data';\n",
              "          await google.colab.output.renderOutput(dataTable, element);\n",
              "          const docLink = document.createElement('div');\n",
              "          docLink.innerHTML = docLinkHtml;\n",
              "          element.appendChild(docLink);\n",
              "        }\n",
              "      </script>\n",
              "    </div>\n",
              "  </div>\n",
              "  "
            ]
          },
          "metadata": {},
          "execution_count": 14
        }
      ]
    },
    {
      "cell_type": "code",
      "source": [
        "train_test.language"
      ],
      "metadata": {
        "id": "imtXWiaJImzw",
        "colab": {
          "base_uri": "https://localhost:8080/"
        },
        "outputId": "7e9c86dc-5c1d-4c8d-ef2b-afd02ac4f726"
      },
      "execution_count": 15,
      "outputs": [
        {
          "output_type": "execute_result",
          "data": {
            "text/plain": [
              "0          2\n",
              "1          3\n",
              "2          2\n",
              "3          0\n",
              "4          3\n",
              "          ..\n",
              "1673963    2\n",
              "1673964    3\n",
              "1673965    1\n",
              "1673966    1\n",
              "1673967    2\n",
              "Name: language, Length: 1673968, dtype: int64"
            ]
          },
          "metadata": {},
          "execution_count": 15
        }
      ]
    },
    {
      "cell_type": "code",
      "source": [
        "for metric in object_metrics:\n",
        "  globals()['dict_%s' % metric] = pd.Series(labelled_data[metric].values,index=train_test[metric]).to_dict()"
      ],
      "metadata": {
        "id": "gWAEafmevNHF"
      },
      "execution_count": 21,
      "outputs": []
    },
    {
      "cell_type": "code",
      "source": [
        "dict_ci_first_build_status"
      ],
      "metadata": {
        "colab": {
          "base_uri": "https://localhost:8080/"
        },
        "id": "r3rNIKRsw94p",
        "outputId": "c67f72e4-6716-40b5-b59f-d054b72b2338"
      },
      "execution_count": 26,
      "outputs": [
        {
          "output_type": "execute_result",
          "data": {
            "text/plain": [
              "{0: 'failure', 1: 'success', 2: nan}"
            ]
          },
          "metadata": {},
          "execution_count": 26
        }
      ]
    },
    {
      "cell_type": "code",
      "source": [
        "dict_ci_last_build_status"
      ],
      "metadata": {
        "colab": {
          "base_uri": "https://localhost:8080/"
        },
        "id": "ruwg46DmzJlb",
        "outputId": "0c1281ad-232d-4c53-cd3b-4eb6a0825ac6"
      },
      "execution_count": 28,
      "outputs": [
        {
          "output_type": "execute_result",
          "data": {
            "text/plain": [
              "{0: 'failure', 1: 'success', 2: nan}"
            ]
          },
          "metadata": {},
          "execution_count": 28
        }
      ]
    },
    {
      "cell_type": "code",
      "source": [
        "dict_language"
      ],
      "metadata": {
        "colab": {
          "base_uri": "https://localhost:8080/"
        },
        "id": "-ve5TLS4zfBB",
        "outputId": "5865b002-2657-4b87-bee7-01edf3a2fb46"
      },
      "execution_count": 29,
      "outputs": [
        {
          "output_type": "execute_result",
          "data": {
            "text/plain": [
              "{0: 'Go', 1: 'Java', 2: 'JavaScript', 3: 'Python', 4: 'Ruby', 5: 'Scala'}"
            ]
          },
          "metadata": {},
          "execution_count": 29
        }
      ]
    },
    {
      "cell_type": "code",
      "source": [
        "dict_contrib_gender"
      ],
      "metadata": {
        "colab": {
          "base_uri": "https://localhost:8080/"
        },
        "id": "0Qz0JLA5ziuf",
        "outputId": "9efb9aed-b5cf-456e-e099-8917e3ca49cd"
      },
      "execution_count": 30,
      "outputs": [
        {
          "output_type": "execute_result",
          "data": {
            "text/plain": [
              "{0: 'female', 1: 'male', 2: nan}"
            ]
          },
          "metadata": {},
          "execution_count": 30
        }
      ]
    },
    {
      "cell_type": "code",
      "source": [
        "dict_contrib_country"
      ],
      "metadata": {
        "colab": {
          "base_uri": "https://localhost:8080/"
        },
        "id": "MHeJSA7kzkcp",
        "outputId": "63cffc82-2f47-4872-8574-bfb5570b7fa4"
      },
      "execution_count": 31,
      "outputs": [
        {
          "output_type": "execute_result",
          "data": {
            "text/plain": [
              "{0: 'afghanistan',\n",
              " 1: 'albania',\n",
              " 2: 'algeria',\n",
              " 3: 'andorra',\n",
              " 4: 'angola',\n",
              " 5: 'anguilla',\n",
              " 6: 'antarctica',\n",
              " 7: 'argentina',\n",
              " 8: 'armenia',\n",
              " 9: 'australia',\n",
              " 10: 'austria',\n",
              " 11: 'azerbaijan',\n",
              " 12: 'bahrain',\n",
              " 13: 'bangladesh',\n",
              " 14: 'barbados',\n",
              " 15: 'belarus',\n",
              " 16: 'belgium',\n",
              " 17: 'benin',\n",
              " 18: 'bermuda',\n",
              " 19: 'bhutan',\n",
              " 20: 'bolivia',\n",
              " 21: 'bosnia and herzegovina',\n",
              " 22: 'brazil',\n",
              " 23: 'brunei',\n",
              " 24: 'bulgaria',\n",
              " 25: 'cambodia',\n",
              " 26: 'cameroon',\n",
              " 27: 'canada',\n",
              " 28: 'cayman islands',\n",
              " 29: 'chile',\n",
              " 30: 'china',\n",
              " 31: 'cocos islands',\n",
              " 32: 'colombia',\n",
              " 33: 'congo',\n",
              " 34: 'costa rica',\n",
              " 35: \"cote d'ivoire\",\n",
              " 36: 'croatia',\n",
              " 37: 'cuba',\n",
              " 38: 'cyprus',\n",
              " 39: 'czech republic',\n",
              " 40: 'denmark',\n",
              " 41: 'dominican republic',\n",
              " 42: 'ecuador',\n",
              " 43: 'egypt',\n",
              " 44: 'el salvador',\n",
              " 45: 'equatorial guinea',\n",
              " 46: 'estonia',\n",
              " 47: 'ethiopia',\n",
              " 48: 'faroe islands',\n",
              " 49: 'fiji',\n",
              " 50: 'finland',\n",
              " 51: 'france',\n",
              " 52: 'french polynesia',\n",
              " 53: 'georgia',\n",
              " 54: 'germany',\n",
              " 55: 'ghana',\n",
              " 56: 'gibraltar',\n",
              " 57: 'greece',\n",
              " 58: 'greenland',\n",
              " 59: 'grenada',\n",
              " 60: 'guadeloupe',\n",
              " 61: 'guam',\n",
              " 62: 'guatemala',\n",
              " 63: 'guernsey',\n",
              " 64: 'haiti',\n",
              " 65: 'honduras',\n",
              " 66: 'hong kong',\n",
              " 67: 'hungary',\n",
              " 68: 'iceland',\n",
              " 69: 'india',\n",
              " 70: 'indonesia',\n",
              " 71: 'iran',\n",
              " 72: 'iraq',\n",
              " 73: 'ireland',\n",
              " 74: 'isle of man',\n",
              " 75: 'israel',\n",
              " 76: 'italy',\n",
              " 77: 'jamaica',\n",
              " 78: 'japan',\n",
              " 79: 'jersey',\n",
              " 80: 'jordan',\n",
              " 81: 'kazakhstan',\n",
              " 82: 'kenya',\n",
              " 83: 'kosovo',\n",
              " 84: 'kuwait',\n",
              " 85: 'kyrgyzstan',\n",
              " 86: 'laos',\n",
              " 87: 'latvia',\n",
              " 88: 'lebanon',\n",
              " 89: 'liechtenstein',\n",
              " 90: 'lithuania',\n",
              " 91: 'luxembourg',\n",
              " 92: 'macau',\n",
              " 93: 'macedonia',\n",
              " 94: 'madagascar',\n",
              " 95: 'malawi',\n",
              " 96: 'malaysia',\n",
              " 97: 'maldives',\n",
              " 98: 'mali',\n",
              " 99: 'malta',\n",
              " 100: 'martinique',\n",
              " 101: 'mauritania',\n",
              " 102: 'mauritius',\n",
              " 103: 'mayotte',\n",
              " 104: 'mexico',\n",
              " 105: 'moldova',\n",
              " 106: 'monaco',\n",
              " 107: 'mongolia',\n",
              " 108: 'montserrat',\n",
              " 109: 'morocco',\n",
              " 110: 'mozambique',\n",
              " 111: 'myanmar',\n",
              " 112: 'nepal',\n",
              " 113: 'netherlands',\n",
              " 114: 'netherlands antilles',\n",
              " 115: 'new caledonia',\n",
              " 116: 'new zealand',\n",
              " 117: 'nicaragua',\n",
              " 118: 'nigeria',\n",
              " 119: 'north korea',\n",
              " 120: 'northern mariana islands',\n",
              " 121: 'norway',\n",
              " 122: 'oman',\n",
              " 123: 'pakistan',\n",
              " 124: 'palestinian territories',\n",
              " 125: 'panama',\n",
              " 126: 'paraguay',\n",
              " 127: 'peru',\n",
              " 128: 'philippines',\n",
              " 129: 'pitcairn islands',\n",
              " 130: 'poland',\n",
              " 131: 'portugal',\n",
              " 132: 'puerto rico',\n",
              " 133: 'reunion',\n",
              " 134: 'romania',\n",
              " 135: 'russia',\n",
              " 136: 'rwanda',\n",
              " 137: 'san marino',\n",
              " 138: 'saudi arabia',\n",
              " 139: 'senegal',\n",
              " 140: 'serbia',\n",
              " 141: 'singapore',\n",
              " 142: 'slovakia',\n",
              " 143: 'slovenia',\n",
              " 144: 'somalia',\n",
              " 145: 'south africa',\n",
              " 146: 'south korea',\n",
              " 147: 'spain',\n",
              " 148: 'sri lanka',\n",
              " 149: 'swaziland',\n",
              " 150: 'sweden',\n",
              " 151: 'switzerland',\n",
              " 152: 'syria',\n",
              " 153: 'taiwan',\n",
              " 154: 'tanzania',\n",
              " 155: 'thailand',\n",
              " 156: 'togo',\n",
              " 157: 'trinidad and tobago',\n",
              " 158: 'tunisia',\n",
              " 159: 'turkey',\n",
              " 160: 'turkmenistan',\n",
              " 161: 'turks and caicos islands',\n",
              " 162: 'uganda',\n",
              " 163: 'ukraine',\n",
              " 164: 'united arab emirates',\n",
              " 165: 'united kingdom',\n",
              " 166: 'united states',\n",
              " 167: 'uruguay',\n",
              " 168: 'uzbekistan',\n",
              " 169: 'venezuela',\n",
              " 170: 'vietnam',\n",
              " 171: 'virgin islands',\n",
              " 172: 'yemen',\n",
              " 173: 'zambia',\n",
              " 174: 'zimbabwe',\n",
              " 175: nan}"
            ]
          },
          "metadata": {},
          "execution_count": 31
        }
      ]
    },
    {
      "cell_type": "code",
      "source": [
        "dict_contrib_affiliation"
      ],
      "metadata": {
        "colab": {
          "base_uri": "https://localhost:8080/"
        },
        "id": "UTkn3p0_zo7N",
        "outputId": "0e2f7b50-d904-44b1-b323-68467db4276f"
      },
      "execution_count": 32,
      "outputs": [
        {
          "output_type": "execute_result",
          "data": {
            "text/plain": [
              "{1202: nan,\n",
              " 815: 'sas',\n",
              " 775: 'red hat',\n",
              " 46: 'apache',\n",
              " 719: 'pentaho',\n",
              " 232: 'databricks',\n",
              " 918: 'tableau',\n",
              " 515: 'kitware',\n",
              " 618: 'mulesoft',\n",
              " 440: 'ibm',\n",
              " 314: 'facebook',\n",
              " 1183: 'zalando',\n",
              " 407: 'hazelcast',\n",
              " 599: 'microsoft',\n",
              " 570: 'massachusetts institute of technology',\n",
              " 805: 'salesforce',\n",
              " 445: 'igalia',\n",
              " 59: 'arm',\n",
              " 960: 'thoughtworks',\n",
              " 121: 'bosch software innovations gmbh',\n",
              " 686: 'odoo',\n",
              " 1070: 'university of michigan-ann arbor',\n",
              " 617: 'mozilla',\n",
              " 282: 'eleme',\n",
              " 592: 'mesosphere',\n",
              " 741: 'princeton university',\n",
              " 76: 'automattic',\n",
              " 713: 'paypal',\n",
              " 384: 'google',\n",
              " 893: 'stanford university',\n",
              " 279: 'elastic',\n",
              " 1019: 'university college london',\n",
              " 335: 'forter',\n",
              " 744: 'proofpoint',\n",
              " 433: 'hubspot',\n",
              " 924: 'target',\n",
              " 233: 'datadog',\n",
              " 393: 'gridgain',\n",
              " 874: 'sonarsource',\n",
              " 265: 'duckduckgo',\n",
              " 787: 'ringcentral',\n",
              " 184: 'code',\n",
              " 1029: 'university of california, berkeley',\n",
              " 371: 'github',\n",
              " 425: 'hortonworks',\n",
              " 1132: 'voltdb',\n",
              " 716: 'peking university',\n",
              " 428: 'hpe',\n",
              " 247: 'devexpress',\n",
              " 179: 'cloudera',\n",
              " 543: 'linode',\n",
              " 145: 'camptocamp',\n",
              " 131: 'broad institute',\n",
              " 430: 'huawei',\n",
              " 785: 'rightscale',\n",
              " 156: 'carto',\n",
              " 385: 'googlecloudplatform',\n",
              " 21: 'adobe',\n",
              " 910: 'suse',\n",
              " 1158: 'workday',\n",
              " 183: 'cnrs',\n",
              " 210: 'coupang',\n",
              " 567: 'mapbox',\n",
              " 130: 'brightcove',\n",
              " 747: 'puppetlabs',\n",
              " 921: 'talend',\n",
              " 642: 'neo4j',\n",
              " 654: 'new york university',\n",
              " 1137: 'walmartlabs',\n",
              " 35: 'alphagov',\n",
              " 3: '18f',\n",
              " 728: 'pivotal',\n",
              " 848: 'sinnerschrader',\n",
              " 610: 'mongodb',\n",
              " 840: 'shopify',\n",
              " 161: 'cern',\n",
              " 1118: 'vanderbilt university',\n",
              " 1161: 'wso2',\n",
              " 475: 'instructure',\n",
              " 1140: 'wazuh',\n",
              " 165: 'chef',\n",
              " 1164: 'xebia',\n",
              " 1000: 'uber',\n",
              " 43: 'ansible',\n",
              " 1149: 'wikimedia',\n",
              " 1100: 'university of washington',\n",
              " 1074: 'university of notre dame',\n",
              " 185: 'codecentric',\n",
              " 806: 'saltstack',\n",
              " 275: 'edx',\n",
              " 657: 'nexmo',\n",
              " 264: 'dropbox',\n",
              " 236: 'datastax',\n",
              " 323: 'feedzai',\n",
              " 904: 'stripe',\n",
              " 1142: 'weibo',\n",
              " 51: 'appfolio',\n",
              " 1106: 'universität bremen',\n",
              " 271: 'ebay',\n",
              " 300: 'etsy',\n",
              " 405: 'hashicorp',\n",
              " 628: 'national chiao tung university',\n",
              " 862: 'socrata',\n",
              " 357: 'gamil',\n",
              " 93: 'beihang university',\n",
              " 890: 'square',\n",
              " 204: 'consensys',\n",
              " 178: 'cloudbees',\n",
              " 861: 'snapchat',\n",
              " 491: 'ixsystems',\n",
              " 11: 'abb',\n",
              " 607: 'mitre',\n",
              " 203: 'connexta',\n",
              " 746: 'puppet',\n",
              " 402: 'harvard medical school',\n",
              " 634: 'naver',\n",
              " 1044: 'university of delaware',\n",
              " 32: 'alibaba',\n",
              " 562: 'mailbox',\n",
              " 298: 'esri',\n",
              " 1138: 'washington university, saint louis',\n",
              " 84: 'azure',\n",
              " 208: 'cornell university',\n",
              " 703: 'oregon state university',\n",
              " 299: 'eth zurich',\n",
              " 1113: 'usgs',\n",
              " 1031: 'university of california, irvine',\n",
              " 1153: 'wix',\n",
              " 297: 'ericsson',\n",
              " 1007: 'ultimaker',\n",
              " 411: 'heptio',\n",
              " 102: 'binary',\n",
              " 470: 'inria',\n",
              " 1046: 'university of dundee',\n",
              " 857: 'smartbear',\n",
              " 476: 'intel',\n",
              " 547: 'live',\n",
              " 42: 'andela',\n",
              " 534: 'lge',\n",
              " 1130: 'vmware',\n",
              " 8: '42 fr',\n",
              " 97: 'bekk',\n",
              " 776: 'red hat,',\n",
              " 73: 'auth0',\n",
              " 60: 'armmbed',\n",
              " 769: 'rancher',\n",
              " 1188: 'zenoss',\n",
              " 251: 'digitalasset',\n",
              " 770: 'rapid7',\n",
              " 1058: 'university of illinois at urbana-champaign',\n",
              " 38: 'amazon',\n",
              " 505: 'kaltura',\n",
              " 537: 'lightbend',\n",
              " 123: 'boston university',\n",
              " 31: 'algolia',\n",
              " 26: 'airbnb',\n",
              " 656: 'newrelic',\n",
              " 542: 'linkedin',\n",
              " 258: 'docker',\n",
              " 1092: 'university of texas at austin',\n",
              " 997: 'twitter',\n",
              " 168: 'chromium',\n",
              " 1177: 'yelp',\n",
              " 29: 'akvelon',\n",
              " 867: 'software engineer',\n",
              " 40: 'amdocs',\n",
              " 677: 'nuxeo',\n",
              " 648: 'netflix',\n",
              " 1101: 'university of waterloo',\n",
              " 864: 'softserve',\n",
              " 414: 'heroku',\n",
              " 897: 'stevens institute of technology',\n",
              " 375: 'globo',\n",
              " 743: 'progress',\n",
              " 823: 'scrapinghub',\n",
              " 669: 'northern arizona university',\n",
              " 604: 'mirantis',\n",
              " 768: 'rambler&co',\n",
              " 465: 'infragistics',\n",
              " 898: 'stitch fix',\n",
              " 793: 'rochester institute of technology',\n",
              " 176: 'citrix',\n",
              " 779: 'redfin',\n",
              " 1049: 'university of florida',\n",
              " 711: 'palantir',\n",
              " 1195: 'zte',\n",
              " 880: 'soundcloud',\n",
              " 1184: 'zapier',\n",
              " 311: 'f-secure',\n",
              " 66: 'atlassian',\n",
              " 354: 'fundingcircle',\n",
              " 454: 'indeed',\n",
              " 157: 'cartodb',\n",
              " 536: 'liferay',\n",
              " 712: 'pandora',\n",
              " 147: 'canonical',\n",
              " 731: 'planet',\n",
              " 173: 'circleci',\n",
              " 909: 'suning',\n",
              " 1181: 'yunify',\n",
              " 812: 'sap',\n",
              " 842: 'siemens',\n",
              " 194: 'columbia university',\n",
              " 234: 'datadoghq',\n",
              " 799: 'rutgers university',\n",
              " 88: 'baidu',\n",
              " 825: 'seatgeek',\n",
              " 707: 'ovh',\n",
              " 1119: 'vauxoo',\n",
              " 392: 'griddynamics',\n",
              " 1067: 'university of massachusetts at amherst',\n",
              " 162: 'cerner',\n",
              " 796: 'rstudio',\n",
              " 132: 'broadinstitute',\n",
              " 959: 'thoughtbot',\n",
              " 872: 'soldevelo',\n",
              " 83: 'azavea',\n",
              " 396: 'guardian',\n",
              " 124: 'box',\n",
              " 899: 'stitchfix',\n",
              " 1102: 'university of western ontario',\n",
              " 308: 'expedia',\n",
              " 639: 'nearform',\n",
              " 509: 'kenshoo',\n",
              " 202: 'confluentinc',\n",
              " 320: 'fastly',\n",
              " 75: 'autodesk',\n",
              " 55: 'arbisoft',\n",
              " 998: 'twosigma',\n",
              " 53: 'apple',\n",
              " 987: 'tsinghua university',\n",
              " 932: 'technical university of munich',\n",
              " 653: 'new relic',\n",
              " 663: 'nike',\n",
              " 1148: 'wikia',\n",
              " 497: 'jfrog',\n",
              " 780: 'redhatofficial',\n",
              " 692: 'openerp',\n",
              " 643: 'nerdwallet',\n",
              " 27: 'akamai',\n",
              " 784: 'rice university',\n",
              " 30: 'alfresco',\n",
              " 546: 'lithium',\n",
              " 239: 'debian',\n",
              " 85: 'babylonpartners',\n",
              " 737: 'portworx',\n",
              " 1187: 'zenika',\n",
              " 980: 'travis-ci',\n",
              " 496: 'jetbrains',\n",
              " 852: 'skyscanner',\n",
              " 14: 'acm',\n",
              " 886: 'spotify',\n",
              " 146: 'camunda',\n",
              " 1173: 'yahoo',\n",
              " 1116: 'vaadin',\n",
              " 688: 'okta',\n",
              " 1099: 'university of warwick',\n",
              " 253: 'digitalocean',\n",
              " 18: 'adacore',\n",
              " 196: 'commercetools',\n",
              " 1038: 'university of central florida',\n",
              " 1127: 'virginia polytechnic institute and state university',\n",
              " 292: 'epam',\n",
              " 558: 'luxoft',\n",
              " 594: 'metaswitch',\n",
              " 99: 'bigbinary',\n",
              " 415: 'hewlett packard enterprise',\n",
              " 766: 'rackspace',\n",
              " 725: 'pingcap',\n",
              " 708: 'owasp',\n",
              " 285: 'embl-ebi',\n",
              " 441: 'ibm canada',\n",
              " 595: 'mi',\n",
              " 535: 'lianjia',\n",
              " 1146: 'westfälische wilhelms-universität münster',\n",
              " 574: 'mcmaster university',\n",
              " 572: 'mavenlink',\n",
              " 112: 'bloomberg',\n",
              " 1189: 'zhejiang university',\n",
              " 155: 'carnegie mellon university',\n",
              " 152: 'cardiff university',\n",
              " 949: 'the new york times',\n",
              " 975: 'torchbox',\n",
              " 200: 'condé nast',\n",
              " 1104: 'university of york',\n",
              " 671: 'novoda',\n",
              " 670: 'northwestern university',\n",
              " 1089: 'university of southampton',\n",
              " 754: 'qihoo360',\n",
              " 209: 'couchbase',\n",
              " 699: 'optimizely',\n",
              " 41: 'amzn',\n",
              " 765: 'quora',\n",
              " 675: 'nubank',\n",
              " 926: 'tata consultancy services',\n",
              " 706: 'outlook',\n",
              " 940: 'tencent',\n",
              " 999: 'typeform',\n",
              " 82: 'axway',\n",
              " 383: 'gooddata',\n",
              " 136: 'bullhorn',\n",
              " 512: \"king's college london\",\n",
              " 532: 'lexisnexis',\n",
              " 370: 'ghent university',\n",
              " 790: 'ripple',\n",
              " 67: 'atos',\n",
              " 1171: 'xing',\n",
              " 1190: 'zhejiang university of technology',\n",
              " 142: 'california institute of technology',\n",
              " 735: 'politecnico di milano',\n",
              " 581: 'meetup',\n",
              " 1034: 'university of california, san diego',\n",
              " 1025: 'university of birmingham',\n",
              " 632: 'national university of singapore',\n",
              " 529: 'lawrence livermore national laboratory',\n",
              " 201: 'confluent',\n",
              " 827: 'segment',\n",
              " 781: 'rediffmail',\n",
              " 174: 'cisco',\n",
              " 925: 'targetprocess',\n",
              " 395: 'grubhub',\n",
              " 373: 'globallogic',\n",
              " 1027: 'university of british columbia',\n",
              " 394: 'groupon',\n",
              " 1159: 'workiva',\n",
              " 1165: 'xebialabs',\n",
              " 978: 'transferwise',\n",
              " 302: 'eventbrite',\n",
              " 742: 'procore',\n",
              " 215: 'credit karma',\n",
              " 701: 'oracle',\n",
              " 1064: 'university of manchester',\n",
              " 367: 'georgia institute of technology',\n",
              " 1026: 'university of bristol',\n",
              " 644: 'ness',\n",
              " 732: 'plangrid',\n",
              " 5: '2gis',\n",
              " 702: 'orange',\n",
              " 541: 'linecorp',\n",
              " 937: 'telerik',\n",
              " 773: 'reaktor',\n",
              " 1150: 'wikimedia foundation',\n",
              " 801: 'rwth aachen university',\n",
              " 469: 'inmobi',\n",
              " 829: 'sendgrid',\n",
              " 895: 'state university of new york at buffalo',\n",
              " 928: 'teambition',\n",
              " 843: 'sifive',\n",
              " 403: 'harvard university',\n",
              " 682: 'oath',\n",
              " 559: 'lyft',\n",
              " 958: 'thomsonreuters',\n",
              " 149: 'capgemini',\n",
              " 238: 'db',\n",
              " 1185: 'zendesk',\n",
              " 821: 'scottlogic',\n",
              " 58: 'arizona state university',\n",
              " 525: 'kth royal institute of technology',\n",
              " 461: 'indraprastha institute of information technology, delhi',\n",
              " 608: 'mogujie',\n",
              " 351: 'ft',\n",
              " 256: 'disroot',\n",
              " 647: 'netease',\n",
              " 817: 'scality',\n",
              " 390: 'gradle',\n",
              " 705: 'outbrain',\n",
              " 472: 'instacart',\n",
              " 273: \"ecole pour l'informatique et les nouvelles technologies\",\n",
              " 193: 'coinbase',\n",
              " 341: 'framgia',\n",
              " 115: 'bonitasoft',\n",
              " 107: 'blackbaud',\n",
              " 953: 'the university of melbourne',\n",
              " 966: 'ticketmaster',\n",
              " 976: 'totvs',\n",
              " 539: 'linaro',\n",
              " 309: 'expediainc',\n",
              " 540: 'line',\n",
              " 413: 'heremaps',\n",
              " 884: 'space telescope science institute',\n",
              " 150: 'capital one',\n",
              " 480: 'invisionapp',\n",
              " 1079: 'university of ottawa',\n",
              " 828: 'segmentio',\n",
              " 290: 'enthought',\n",
              " 487: 'itechart',\n",
              " 303: 'everis',\n",
              " 1059: 'university of iowa',\n",
              " 412: 'here',\n",
              " 33: 'allegro',\n",
              " 397: 'guavus',\n",
              " 1022: 'university of arizona',\n",
              " 808: 'samsung electronics',\n",
              " 477: 'intercom',\n",
              " 180: 'cloudflare',\n",
              " 246: 'despegar',\n",
              " 851: 'sky-uk',\n",
              " 660: 'ni',\n",
              " 381: 'gofore',\n",
              " 1005: 'udacity',\n",
              " 163: 'cgi',\n",
              " 212: 'coveo',\n",
              " 868: 'softwire',\n",
              " 462: 'infoblox',\n",
              " 841: 'shutterstock',\n",
              " 195: 'comcast',\n",
              " 729: 'pivotal-cf',\n",
              " 267: 'dynatrace',\n",
              " 138: 'bytedance',\n",
              " 15: 'acquia',\n",
              " 80: 'avinetworks',\n",
              " 217: 'criteo',\n",
              " 269: 'easemob',\n",
              " 431: 'huawei technologies co.,',\n",
              " 1156: 'worcester polytechnic institute',\n",
              " 0: '10gen',\n",
              " 293: 'epfl',\n",
              " 759: 'qualtrics',\n",
              " 726: 'pinterest',\n",
              " 101: 'bilibili',\n",
              " 1114: 'usharesoft',\n",
              " 1041: 'university of colorado at boulder',\n",
              " 1134: 'vtex',\n",
              " 600: 'microsoft @azure',\n",
              " 13: 'accenture',\n",
              " 263: 'drexel university',\n",
              " 888: 'springernature',\n",
              " 159: 'catawiki',\n",
              " 1054: 'university of helsinki',\n",
              " 177: 'clemson university',\n",
              " 995: 'twilio',\n",
              " 1120: 'verizon',\n",
              " 266: 'duke university',\n",
              " 1081: 'university of pennsylvania',\n",
              " 1090: 'university of southern california',\n",
              " 337: 'fossasia',\n",
              " 855: 'slackhq',\n",
              " 678: 'nvidia',\n",
              " 90: 'bbc',\n",
              " 1176: 'yandex',\n",
              " 241: 'deliveroo',\n",
              " 34: 'alleninstitute',\n",
              " 1109: 'uppsala university',\n",
              " 879: 'soprasteria',\n",
              " 552: 'logmein',\n",
              " 1010: 'unity',\n",
              " 213: 'covermymeds',\n",
              " 942: 'tesco',\n",
              " 128: 'brave',\n",
              " 114: 'bol',\n",
              " 482: 'iqiyi',\n",
              " 499: 'johns hopkins university',\n",
              " 240: 'delft university of technology',\n",
              " 388: 'grab',\n",
              " 590: 'mercadolibre',\n",
              " 734: 'pluralsight',\n",
              " 504: 'kakao',\n",
              " 125: 'braintree',\n",
              " 597: 'michigan technological university',\n",
              " 1069: 'university of michigan',\n",
              " 689: 'olx',\n",
              " 71: 'aurea',\n",
              " 609: 'monash university',\n",
              " 188: 'codilime',\n",
              " 17: 'activeeon',\n",
              " 478: 'intuit',\n",
              " 596: 'michigan state university',\n",
              " 353: 'fujitsu',\n",
              " 583: 'meituan',\n",
              " 459: 'indiana university',\n",
              " 262: 'doximity',\n",
              " 635: 'navercorp',\n",
              " 164: 'chartiq',\n",
              " 206: 'contentful',\n",
              " 774: 'recurly',\n",
              " 313: 'f5 networks',\n",
              " 990: 'tufts university',\n",
              " 104: 'bitnami',\n",
              " 789: 'riotgames',\n",
              " 694: 'opensuse',\n",
              " 673: 'ntt data',\n",
              " 1001: 'ubisoft',\n",
              " 96: 'beijing university of posts and telecommunications',\n",
              " 936: 'telefónica',\n",
              " 378: 'gocardless',\n",
              " 573: 'mcgill university',\n",
              " 691: 'opayq',\n",
              " 1097: 'university of victoria',\n",
              " 356: 'galvanize',\n",
              " 278: 'ekino',\n",
              " 613: 'moovel',\n",
              " 1023: 'university of basel',\n",
              " 938: 'telstra',\n",
              " 23: 'affirm',\n",
              " 967: 'tieto',\n",
              " 977: 'tradeshift',\n",
              " 25: 'aim',\n",
              " 291: 'envato',\n",
              " 424: 'hootsuite',\n",
              " 257: 'dnanexus',\n",
              " 344: 'freecodecamp',\n",
              " 331: 'flexport',\n",
              " 106: 'blablacar',\n",
              " 522: 'kpmg',\n",
              " 939: 'temple university',\n",
              " 579: 'mediatek',\n",
              " 866: 'software developer',\n",
              " 901: 'stony brook university',\n",
              " 387: 'gopro',\n",
              " 892: 'squareup',\n",
              " 434: 'hudl',\n",
              " 1085: 'university of san francisco',\n",
              " 116: 'booking',\n",
              " 47: 'apigee',\n",
              " 19: 'addepar',\n",
              " 972: 'tomtom',\n",
              " 1111: 'upwork',\n",
              " 641: 'nec',\n",
              " 86: 'badoo',\n",
              " 778: 'reddit',\n",
              " 1039: 'university of chicago',\n",
              " 853: 'slack',\n",
              " 1032: 'university of california, los angeles',\n",
              " 379: 'godaddy',\n",
              " 696: 'opentext',\n",
              " 1125: 'vipshop',\n",
              " 118: 'bookmyshow',\n",
              " 187: 'codeminer42',\n",
              " 399: 'gusto',\n",
              " 1037: 'university of cambridge',\n",
              " 207: 'cookpad',\n",
              " 985: 'trivago',\n",
              " 74: 'autistici',\n",
              " 914: 'synopsys',\n",
              " 1082: 'university of pittsburgh',\n",
              " 865: 'softserveinc',\n",
              " 772: 'readify',\n",
              " 1072: 'university of minnesota-twin cities',\n",
              " 103: 'bit',\n",
              " 658: 'nextdoor',\n",
              " 54: 'appnexus',\n",
              " 757: 'qlik',\n",
              " 800: 'rutgers university, newark',\n",
              " 665: 'nokia',\n",
              " 372: 'gitlab',\n",
              " 1065: 'university of maryland',\n",
              " 1123: 'vimeo',\n",
              " 820: 'schubergphilis',\n",
              " 956: 'the washington post',\n",
              " 186: 'codecentric ag',\n",
              " 221: 'cvent',\n",
              " 944: 'test',\n",
              " 528: 'lawrence berkeley national laboratory',\n",
              " 376: 'gnome',\n",
              " 915: 'syracuse university',\n",
              " 760: 'quantcast',\n",
              " 127: 'brandwatch',\n",
              " 242: 'dell',\n",
              " 1013: 'universidad de los andes',\n",
              " 550: 'llnl',\n",
              " 457: 'indian institutes of technology kharagpur',\n",
              " 348: 'freshdesk',\n",
              " 382: 'goldman sachs',\n",
              " 322: 'fedoraproject',\n",
              " 715: 'pearson',\n",
              " 962: 'thousandeyes',\n",
              " 783: 'rensselaer polytechnic institute',\n",
              " 584: 'meituan-dianping',\n",
              " 481: 'iowa state university',\n",
              " 166: 'chinamobile',\n",
              " 730: 'plaid',\n",
              " 1098: 'university of virginia',\n",
              " 616: 'movile',\n",
              " 885: 'splunk',\n",
              " 1012: 'universidad complutense de madrid',\n",
              " 1036: 'university of california, santa cruz',\n",
              " 1174: 'yale university',\n",
              " 814: 'sapientrazorfish',\n",
              " 923: 'tanium',\n",
              " 598: 'microfocus',\n",
              " 591: 'mercari',\n",
              " 520: 'korea advanced institute of science and technology',\n",
              " 4: '1stdibs',\n",
              " 991: 'tumblr',\n",
              " 818: 'schibsted',\n",
              " 690: 'ooyala',\n",
              " 871: 'solarwinds',\n",
              " 363: 'gentoo',\n",
              " 332: 'flipkart',\n",
              " 1166: 'xero',\n",
              " 1087: 'university of science and technology of china',\n",
              " 143: 'california polytechnic state university, san luis obispo',\n",
              " 620: 'myntra',\n",
              " 1093: 'university of texas at dallas',\n",
              " 171: 'ciklum',\n",
              " 105: 'bits pilani',\n",
              " 749: 'pusher',\n",
              " 334: 'forgerock',\n",
              " 824: 'scylladb',\n",
              " 148: 'canva',\n",
              " 695: 'opentable',\n",
              " 974: 'toptal',\n",
              " 717: 'penn state university',\n",
              " 133: 'brown university',\n",
              " 438: 'hw',\n",
              " 516: 'kiwi',\n",
              " 748: 'purdue university',\n",
              " 419: 'homeaway',\n",
              " 286: 'emc',\n",
              " 645: 'netapp',\n",
              " 72: 'australian national university',\n",
              " 501: 'juniper networks',\n",
              " 531: 'lenovo',\n",
              " 612: 'monzo',\n",
              " 117: 'bookingcom',\n",
              " 277: 'eindhoven university of technology',\n",
              " 724: 'pingan',\n",
              " 77: 'availity',\n",
              " 1077: 'university of oregon',\n",
              " 355: 'futurice',\n",
              " 328: 'fiverr',\n",
              " 588: 'mendix',\n",
              " 667: 'north carolina state university',\n",
              " 1047: 'university of edinburgh',\n",
              " 366: 'georgetown university',\n",
              " 456: 'indian institutes of technology bombay',\n",
              " 1175: 'yammer',\n",
              " 350: 'fsf',\n",
              " 859: 'smartthings',\n",
              " 243: 'dell emc',\n",
              " 98: 'betterment',\n",
              " 81: 'avito',\n",
              " 287: 'emory university',\n",
              " 649: 'netguru',\n",
              " 833: 'serpro',\n",
              " 248: 'dianping',\n",
              " 452: 'imperial college london',\n",
              " 1030: 'university of california, davis',\n",
              " 979: 'traveloka',\n",
              " 948: 'the chinese university of hong kong',\n",
              " 139: 'ca',\n",
              " 807: 'samsung',\n",
              " 981: 'trend micro',\n",
              " 498: 'jilin university',\n",
              " 727: 'pipedrive',\n",
              " 61: 'asana',\n",
              " 218: 'crowdstrike',\n",
              " 566: 'makersacademy',\n",
              " 1192: 'zillow',\n",
              " 24: 'agoda',\n",
              " 878: 'sopra steria',\n",
              " 222: 'cwi',\n",
              " 1094: 'university of toronto',\n",
              " 28: 'akqa',\n",
              " 681: 'oak ridge national laboratory',\n",
              " 510: 'kickstarter',\n",
              " 473: 'instagram',\n",
              " 1136: 'walmart',\n",
              " 1035: 'university of california, san francisco',\n",
              " 795: 'rr',\n",
              " 1043: 'university of copenhagen',\n",
              " 336: 'fortinet',\n",
              " 555: 'los alamos national laboratory',\n",
              " 442: 'ict',\n",
              " 1199: 'école polytechnique',\n",
              " 471: 'inspur',\n",
              " 189: 'cogniance',\n",
              " 333: 'florida international university',\n",
              " 1105: 'university of zurich',\n",
              " 427: 'hp',\n",
              " 1006: 'udemy',\n",
              " 494: 'jd',\n",
              " 343: 'freebsd',\n",
              " 50: 'appdynamics',\n",
              " 63: 'asos',\n",
              " 410: 'hellofresh',\n",
              " 751: 'pythian',\n",
              " 503: 'kainos',\n",
              " 810: 'san jose state university',\n",
              " 137: 'buzzfeed',\n",
              " 100: 'bigcommerce',\n",
              " 697: 'opera',\n",
              " 219: 'csiro',\n",
              " 1075: 'university of nottingham',\n",
              " 1071: 'university of minnesota',\n",
              " 1117: 'valtech',\n",
              " 782: 'redventures',\n",
              " 561: 'mail.ru',\n",
              " 347: 'freie universität berlin',\n",
              " 89: 'bazaarvoice',\n",
              " 786: 'ring',\n",
              " 1151: 'windowslive',\n",
              " 432: 'huazhong university of science and technology',\n",
              " 190: 'cognifide',\n",
              " 523: 'kpn',\n",
              " 284: 'emarsys',\n",
              " 324: 'feup',\n",
              " 1091: 'university of sussex',\n",
              " 518: 'klarna',\n",
              " 955: 'the university of tokyo',\n",
              " 837: 'shanghai jiaotong university',\n",
              " 1147: 'wework',\n",
              " 406: 'hashrocket',\n",
              " 172: 'cimpress',\n",
              " 443: 'ieee',\n",
              " 502: 'jwplayer',\n",
              " 889: 'sprinklr',\n",
              " 191: 'cognitivescale',\n",
              " 1002: 'ubuntu',\n",
              " 835: 'sfeir',\n",
              " 680: 'nytimes',\n",
              " 929: 'teamwork',\n",
              " 312: 'f5',\n",
              " 1124: 'vip',\n",
              " 996: 'twitch',\n",
              " 943: 'tesla',\n",
              " 1157: 'workable',\n",
              " 627: 'nasa',\n",
              " 10: 'aalto university',\n",
              " 1016: 'universidade de são paulo',\n",
              " 530: 'lazada',\n",
              " 288: 'endava',\n",
              " 931: 'technical university of denmark',\n",
              " 151: 'capitalone',\n",
              " 226: 'dailymotion',\n",
              " 408: 'hbo',\n",
              " 549: 'liveramp',\n",
              " 224: 'cybervisiontech',\n",
              " 718: 'pennsylvania state university',\n",
              " 1042: 'university of connecticut',\n",
              " 652: 'new jersey institute of technology',\n",
              " 307: 'exoplatform',\n",
              " 364: 'george mason university',\n",
              " 453: 'improbable',\n",
              " 306: 'example',\n",
              " 352: 'fudan university',\n",
              " 361: 'general assembly',\n",
              " 450: 'illumina',\n",
              " 1135: 'wacai',\n",
              " 439: 'iadvize',\n",
              " 113: 'blueapron',\n",
              " 847: 'sina',\n",
              " 327: 'fitbit',\n",
              " 755: 'qiniu',\n",
              " 646: 'netcracker',\n",
              " 973: 'tongji university',\n",
              " 544: 'linux',\n",
              " 489: 'itmo university',\n",
              " 220: 'ctrip',\n",
              " 78: 'avanade',\n",
              " 933: 'technische universität berlin',\n",
              " 122: 'boston college',\n",
              " 804: 'sage',\n",
              " 630: 'national taiwan university',\n",
              " 569: 'marklogic',\n",
              " 761: 'qubole',\n",
              " 1139: 'wayfair',\n",
              " 1024: 'university of bath',\n",
              " 988: 'tu dresden',\n",
              " 586: 'mellanox',\n",
              " 1068: 'university of melbourne',\n",
              " 249: 'didi',\n",
              " 963: 'thumbtack',\n",
              " 255: 'disney',\n",
              " 950: 'the ohio state university',\n",
              " 326: 'fireeye',\n",
              " 668: 'northeastern university',\n",
              " 205: 'contaazul',\n",
              " 1078: 'university of oslo',\n",
              " 767: 'rakuten',\n",
              " 48: 'appannie',\n",
              " 295: 'epic',\n",
              " 1060: 'university of kansas',\n",
              " 44: 'antfin',\n",
              " 56: 'argonne national laboratory',\n",
              " 797: 'runbox',\n",
              " 903: 'streamsets',\n",
              " 315: 'factset',\n",
              " 710: 'pagerduty',\n",
              " 1028: 'university of calgary',\n",
              " 260: 'doordash',\n",
              " 1169: 'xiaomi',\n",
              " 492: 'izettle',\n",
              " 1080: 'university of oxford',\n",
              " 662: 'nifty',\n",
              " 738: 'postmates',\n",
              " 858: 'smartling',\n",
              " 1004: 'ucsd',\n",
              " 283: 'elsevier',\n",
              " 908: 'sun yat-sen university',\n",
              " 92: 'beeva',\n",
              " 740: 'prezi',\n",
              " 120: 'bosch',\n",
              " 135: 'bukalapak',\n",
              " 891: 'squarespace',\n",
              " 593: 'messagebird',\n",
              " 446: 'iiit hyderabad',\n",
              " 301: 'eu',\n",
              " 365: 'george washington university',\n",
              " 64: 'at&t',\n",
              " 619: 'murex',\n",
              " 1194: 'zomato',\n",
              " 1088: 'university of sheffield',\n",
              " 259: 'domo',\n",
              " 870: 'sohu',\n",
              " 916: 't-mobile',\n",
              " 500: 'joyent',\n",
              " 345: 'freedom',\n",
              " 225: 'd2l',\n",
              " 1: '10up',\n",
              " 1045: 'university of dublin, trinity college',\n",
              " 777: 'red ventures',\n",
              " 1197: 'zuehlke',\n",
              " 907: 'sumup',\n",
              " 1155: 'wolox',\n",
              " 342: 'free code camp',\n",
              " 360: 'ge digital',\n",
              " 1008: 'umass amherst',\n",
              " 404: 'harvey mudd college',\n",
              " 294: 'epfl-epf lausanne',\n",
              " 902: 'stratio',\n",
              " 603: 'mindtree',\n",
              " 1133: 'vonage',\n",
              " 321: 'fastmail',\n",
              " 374: 'globant',\n",
              " 941: 'teradata',\n",
              " 1172: 'xing ag',\n",
              " 809: 'samsung sds',\n",
              " 479: 'inviqa',\n",
              " 845: 'simon fraser university',\n",
              " 1033: 'university of california, riverside',\n",
              " 548: 'liveperson',\n",
              " 1056: 'university of illinois',\n",
              " 1154: 'wizeline',\n",
              " 883: 'southern methodist university',\n",
              " 36: 'altoros',\n",
              " 1020: 'university of alberta',\n",
              " 816: 'savoirfairelinux',\n",
              " 679: 'nxp',\n",
              " 474: 'instituto superior técnico',\n",
              " 533: 'lg electronics',\n",
              " 685: 'octo technology',\n",
              " 934: 'technische universität dortmund',\n",
              " 992: 'tune',\n",
              " 577: 'mediamath',\n",
              " 560: 'magento',\n",
              " 557: 'luizalabs',\n",
              " 684: 'octo',\n",
              " 1011: 'unity3d',\n",
              " 881: 'south china university of technology',\n",
              " 930: 'tech mahindra',\n",
              " 1180: 'youzan',\n",
              " 1096: 'university of utah',\n",
              " 771: 'rea-group',\n",
              " 830: 'seneca college',\n",
              " 1040: 'university of colorado',\n",
              " 993: 'turingschool',\n",
              " 693: 'openmailbox',\n",
              " 745: 'ptc',\n",
              " 181: 'cloudreach',\n",
              " 659: 'nhn entertainment',\n",
              " 252: 'digitalglobe',\n",
              " 1144: 'wellesley college',\n",
              " 788: 'riot games',\n",
              " 580: 'medidata solutions',\n",
              " 736: 'portland state university',\n",
              " 463: 'infosys',\n",
              " 846: 'simple',\n",
              " 756: 'qiyi',\n",
              " 526: 'ku leuven',\n",
              " 1122: 'viasat',\n",
              " 676: 'nutanix',\n",
              " 129: 'brigham young university',\n",
              " 134: 'browserstack',\n",
              " 519: 'knownsec',\n",
              " 626: 'nanyang technological university',\n",
              " 216: 'creditkarma',\n",
              " 493: 'jayway',\n",
              " 947: 'texas tech university',\n",
              " 672: 'ntt communications',\n",
              " 1110: 'uptake',\n",
              " 330: 'flatstack',\n",
              " 633: 'nativescript',\n",
              " 957: 'thomson reuters',\n",
              " 175: 'citi',\n",
              " 198: 'concur',\n",
              " 1095: 'university of tsukuba',\n",
              " 87: 'bah',\n",
              " 965: 'tibco',\n",
              " 798: 'runtastic',\n",
              " 1160: 'worldline',\n",
              " 1108: 'université libre de bruxelles',\n",
              " 511: 'king',\n",
              " 318: 'fanduel',\n",
              " 369: 'gft',\n",
              " 1182: 'yy',\n",
              " 68: 'att',\n",
              " 1186: 'zenefits',\n",
              " 636: 'ncr',\n",
              " 876: 'sony',\n",
              " 231: 'dataart',\n",
              " 458: 'indian institutes of technology roorkee',\n",
              " 386: 'googlegroups',\n",
              " 214: 'cpan',\n",
              " 436: 'hulu',\n",
              " 380: 'goeuro',\n",
              " 900: 'stone-payments',\n",
              " 304: 'evernote',\n",
              " 935: 'technische universität dresden',\n",
              " 826: 'seek',\n",
              " 274: \"ecole pour l'informatique et les techniques avancees\",\n",
              " 733: 'plataformatec',\n",
              " 111: 'blizzard entertainment',\n",
              " 296: 'equalexperts',\n",
              " 524: 'kth',\n",
              " 490: 'itransition',\n",
              " 261: 'douban',\n",
              " 1052: 'university of guelph',\n",
              " 57: 'arista networks',\n",
              " 1015: 'universidade de aveiro',\n",
              " 1084: 'university of rochester',\n",
              " 310: 'ey',\n",
              " 7: '42',\n",
              " 1193: 'zoho',\n",
              " 144: 'caltech',\n",
              " 565: 'mailoo',\n",
              " 9: '58',\n",
              " 576: 'medallia',\n",
              " 917: 't-systems',\n",
              " 739: 'practo',\n",
              " 709: 'pagarme',\n",
              " 1018: 'university at buffalo',\n",
              " 927: 'teamaol',\n",
              " 289: 'engineer',\n",
              " 763: 'quest',\n",
              " 622: 'myteksi',\n",
              " 484: 'isobar',\n",
              " 276: 'egovernments',\n",
              " 601: 'middle east technical university',\n",
              " 666: 'nordstrom',\n",
              " 1163: 'x-team',\n",
              " 951: 'the university of british columbia',\n",
              " 423: 'hong kong university of science and technology',\n",
              " 961: 'thoughtworksinc',\n",
              " 968: 'tinyerp',\n",
              " 362: 'genesys',\n",
              " 575: 'mdsol',\n",
              " 753: 'qihoo 360',\n",
              " 377: 'go-jek',\n",
              " 508: 'keio university',\n",
              " 109: 'blackrock',\n",
              " 1121: 'versent',\n",
              " 969: 'tokopedia',\n",
              " 906: 'sumologic',\n",
              " 945: 'texas a&m university',\n",
              " 223: 'cyberagent',\n",
              " 211: 'coursera',\n",
              " 483: 'iscas',\n",
              " 605: 'mirego',\n",
              " 563: 'mailchimp',\n",
              " 488: 'itechart-group',\n",
              " 435: 'huge',\n",
              " 272: 'ebsco',\n",
              " 268: 'ea',\n",
              " 687: 'oklahoma state university',\n",
              " 237: 'datto',\n",
              " 623: 'nanjing university',\n",
              " 140: 'cabify',\n",
              " 338: 'foursquare',\n",
              " 922: 'talkdesk',\n",
              " 45: 'aol',\n",
              " 2: '163',\n",
              " 794: 'rose-hulman institute of technology',\n",
              " 640: 'nearsoft',\n",
              " 37: 'amadeus',\n",
              " 813: 'sapient',\n",
              " 1128: 'visa',\n",
              " 538: 'linagora',\n",
              " 1112: 'usc',\n",
              " 1103: 'university of wisconsin-madison',\n",
              " 621: 'myob',\n",
              " 250: 'didichuxing',\n",
              " 854: 'slack-corp',\n",
              " 571: 'mastercard',\n",
              " 495: 'jet',\n",
              " 1050: 'university of georgia',\n",
              " 1009: 'unemployed',\n",
              " 913: 'synacor',\n",
              " 629: 'national instruments',\n",
              " 556: 'lucidworks',\n",
              " 280: 'ele.me',\n",
              " 1167: \"xi'an jiaotong university\",\n",
              " 554: 'looker',\n",
              " 235: 'datarobot',\n",
              " 989: 'tuenti',\n",
              " 803: 'sabre',\n",
              " 873: 'somaiya vidyavihar',\n",
              " 460: 'indiana university at bloomington',\n",
              " 553: 'lohika',\n",
              " 141: 'cable',\n",
              " ...}"
            ]
          },
          "metadata": {},
          "execution_count": 32
        }
      ]
    },
    {
      "cell_type": "code",
      "source": [
        "dict_contrib_first_emo"
      ],
      "metadata": {
        "colab": {
          "base_uri": "https://localhost:8080/"
        },
        "id": "SQ1nmvnr0Gg3",
        "outputId": "16fbf384-425b-4ea7-e646-ed294a354171"
      },
      "execution_count": 33,
      "outputs": [
        {
          "output_type": "execute_result",
          "data": {
            "text/plain": [
              "{0: 'negative', 1: 'neutral', 2: 'positive', 3: nan}"
            ]
          },
          "metadata": {},
          "execution_count": 33
        }
      ]
    },
    {
      "cell_type": "markdown",
      "source": [
        "The train_test dataframe is divided into two. One will be used to train the model while the other will be used for testing. The training sample will contain 60% of the rows present in the original train_test dataframe while the testing sample will contain the remaining 40%."
      ],
      "metadata": {
        "id": "LYCvZajMOykM"
      }
    },
    {
      "cell_type": "markdown",
      "source": [
        "Code in the next 2 cells were taken from [here](https://stackoverflow.com/a/57198258)."
      ],
      "metadata": {
        "id": "iuuHlAII03hg"
      }
    },
    {
      "cell_type": "code",
      "source": [
        "def flow_from_df(dataframe: pd.DataFrame, chunk_size: int = int(len(train_test)*0.6)):\n",
        "  for start_row in range(0, dataframe.shape[0], chunk_size):\n",
        "    end_row  = min(start_row + chunk_size, dataframe.shape[0])\n",
        "    yield dataframe.iloc[start_row:end_row, :]"
      ],
      "metadata": {
        "id": "DCDS1CLcLpcx"
      },
      "execution_count": 34,
      "outputs": []
    },
    {
      "cell_type": "code",
      "source": [
        "get_chunk = flow_from_df(train_test)\n",
        "train = next(get_chunk)"
      ],
      "metadata": {
        "id": "wh4qHzTdLqTP"
      },
      "execution_count": 35,
      "outputs": []
    },
    {
      "cell_type": "code",
      "source": [
        "test = train_test.iloc[(train.index[-1]+1):train_test.index[-1], :]"
      ],
      "metadata": {
        "id": "bKCt9IIeOHGf"
      },
      "execution_count": 36,
      "outputs": []
    },
    {
      "cell_type": "code",
      "execution_count": 37,
      "metadata": {
        "id": "7xdbuozIVEKA",
        "colab": {
          "base_uri": "https://localhost:8080/"
        },
        "outputId": "962d11f2-48c1-4cfe-db5e-f3d1667724af"
      },
      "outputs": [
        {
          "output_type": "execute_result",
          "data": {
            "text/plain": [
              "(1004380, 669587)"
            ]
          },
          "metadata": {},
          "execution_count": 37
        }
      ],
      "source": [
        "len(train), len(test)"
      ]
    },
    {
      "cell_type": "code",
      "execution_count": 38,
      "metadata": {
        "id": "xgafnBuRVgrO",
        "colab": {
          "base_uri": "https://localhost:8080/",
          "height": 237
        },
        "outputId": "7d14fcf9-9b72-43c1-e7eb-dfe577311249"
      },
      "outputs": [
        {
          "output_type": "execute_result",
          "data": {
            "text/plain": [
              "   id  merged_or_not  perc_external_contribs  churn_addition  churn_deletion  \\\n",
              "0   1              1                0.089869               0               0   \n",
              "1   2              0                0.014019               0               0   \n",
              "2   3              1                0.256849               0               0   \n",
              "\n",
              "   pr_comment_num  part_num_issue  part_num_commit  part_num_pr  \\\n",
              "0               0               1                0            0   \n",
              "1               0               1                0            0   \n",
              "2               0               0                0            0   \n",
              "\n",
              "   part_num_code  ...  contrib_affiliation  contrib_first_emo  \\\n",
              "0              0  ...                 1202                  3   \n",
              "1              0  ...                 1202                  3   \n",
              "2              0  ...                 1202                  3   \n",
              "\n",
              "   perc_inte_neg_emo  perc_inte_pos_emo  perc_inte_neu_emo  \\\n",
              "0                0.0                0.0                1.0   \n",
              "1                0.0                0.0                0.0   \n",
              "2                0.0                0.0                0.0   \n",
              "\n",
              "   contrib_follow_integrator  prior_interaction  social_strength  \\\n",
              "0                          0                 28         0.000000   \n",
              "1                          0                300         0.250000   \n",
              "2                          0                505         0.428571   \n",
              "\n",
              "   same_country  same_affiliation  \n",
              "0           NaN               NaN  \n",
              "1           NaN               NaN  \n",
              "2           1.0               NaN  \n",
              "\n",
              "[3 rows x 47 columns]"
            ],
            "text/html": [
              "\n",
              "  <div id=\"df-6b59d6e6-aee1-4347-ae27-b5cbea62f035\">\n",
              "    <div class=\"colab-df-container\">\n",
              "      <div>\n",
              "<style scoped>\n",
              "    .dataframe tbody tr th:only-of-type {\n",
              "        vertical-align: middle;\n",
              "    }\n",
              "\n",
              "    .dataframe tbody tr th {\n",
              "        vertical-align: top;\n",
              "    }\n",
              "\n",
              "    .dataframe thead th {\n",
              "        text-align: right;\n",
              "    }\n",
              "</style>\n",
              "<table border=\"1\" class=\"dataframe\">\n",
              "  <thead>\n",
              "    <tr style=\"text-align: right;\">\n",
              "      <th></th>\n",
              "      <th>id</th>\n",
              "      <th>merged_or_not</th>\n",
              "      <th>perc_external_contribs</th>\n",
              "      <th>churn_addition</th>\n",
              "      <th>churn_deletion</th>\n",
              "      <th>pr_comment_num</th>\n",
              "      <th>part_num_issue</th>\n",
              "      <th>part_num_commit</th>\n",
              "      <th>part_num_pr</th>\n",
              "      <th>part_num_code</th>\n",
              "      <th>...</th>\n",
              "      <th>contrib_affiliation</th>\n",
              "      <th>contrib_first_emo</th>\n",
              "      <th>perc_inte_neg_emo</th>\n",
              "      <th>perc_inte_pos_emo</th>\n",
              "      <th>perc_inte_neu_emo</th>\n",
              "      <th>contrib_follow_integrator</th>\n",
              "      <th>prior_interaction</th>\n",
              "      <th>social_strength</th>\n",
              "      <th>same_country</th>\n",
              "      <th>same_affiliation</th>\n",
              "    </tr>\n",
              "  </thead>\n",
              "  <tbody>\n",
              "    <tr>\n",
              "      <th>0</th>\n",
              "      <td>1</td>\n",
              "      <td>1</td>\n",
              "      <td>0.089869</td>\n",
              "      <td>0</td>\n",
              "      <td>0</td>\n",
              "      <td>0</td>\n",
              "      <td>1</td>\n",
              "      <td>0</td>\n",
              "      <td>0</td>\n",
              "      <td>0</td>\n",
              "      <td>...</td>\n",
              "      <td>1202</td>\n",
              "      <td>3</td>\n",
              "      <td>0.0</td>\n",
              "      <td>0.0</td>\n",
              "      <td>1.0</td>\n",
              "      <td>0</td>\n",
              "      <td>28</td>\n",
              "      <td>0.000000</td>\n",
              "      <td>NaN</td>\n",
              "      <td>NaN</td>\n",
              "    </tr>\n",
              "    <tr>\n",
              "      <th>1</th>\n",
              "      <td>2</td>\n",
              "      <td>0</td>\n",
              "      <td>0.014019</td>\n",
              "      <td>0</td>\n",
              "      <td>0</td>\n",
              "      <td>0</td>\n",
              "      <td>1</td>\n",
              "      <td>0</td>\n",
              "      <td>0</td>\n",
              "      <td>0</td>\n",
              "      <td>...</td>\n",
              "      <td>1202</td>\n",
              "      <td>3</td>\n",
              "      <td>0.0</td>\n",
              "      <td>0.0</td>\n",
              "      <td>0.0</td>\n",
              "      <td>0</td>\n",
              "      <td>300</td>\n",
              "      <td>0.250000</td>\n",
              "      <td>NaN</td>\n",
              "      <td>NaN</td>\n",
              "    </tr>\n",
              "    <tr>\n",
              "      <th>2</th>\n",
              "      <td>3</td>\n",
              "      <td>1</td>\n",
              "      <td>0.256849</td>\n",
              "      <td>0</td>\n",
              "      <td>0</td>\n",
              "      <td>0</td>\n",
              "      <td>0</td>\n",
              "      <td>0</td>\n",
              "      <td>0</td>\n",
              "      <td>0</td>\n",
              "      <td>...</td>\n",
              "      <td>1202</td>\n",
              "      <td>3</td>\n",
              "      <td>0.0</td>\n",
              "      <td>0.0</td>\n",
              "      <td>0.0</td>\n",
              "      <td>0</td>\n",
              "      <td>505</td>\n",
              "      <td>0.428571</td>\n",
              "      <td>1.0</td>\n",
              "      <td>NaN</td>\n",
              "    </tr>\n",
              "  </tbody>\n",
              "</table>\n",
              "<p>3 rows × 47 columns</p>\n",
              "</div>\n",
              "      <button class=\"colab-df-convert\" onclick=\"convertToInteractive('df-6b59d6e6-aee1-4347-ae27-b5cbea62f035')\"\n",
              "              title=\"Convert this dataframe to an interactive table.\"\n",
              "              style=\"display:none;\">\n",
              "        \n",
              "  <svg xmlns=\"http://www.w3.org/2000/svg\" height=\"24px\"viewBox=\"0 0 24 24\"\n",
              "       width=\"24px\">\n",
              "    <path d=\"M0 0h24v24H0V0z\" fill=\"none\"/>\n",
              "    <path d=\"M18.56 5.44l.94 2.06.94-2.06 2.06-.94-2.06-.94-.94-2.06-.94 2.06-2.06.94zm-11 1L8.5 8.5l.94-2.06 2.06-.94-2.06-.94L8.5 2.5l-.94 2.06-2.06.94zm10 10l.94 2.06.94-2.06 2.06-.94-2.06-.94-.94-2.06-.94 2.06-2.06.94z\"/><path d=\"M17.41 7.96l-1.37-1.37c-.4-.4-.92-.59-1.43-.59-.52 0-1.04.2-1.43.59L10.3 9.45l-7.72 7.72c-.78.78-.78 2.05 0 2.83L4 21.41c.39.39.9.59 1.41.59.51 0 1.02-.2 1.41-.59l7.78-7.78 2.81-2.81c.8-.78.8-2.07 0-2.86zM5.41 20L4 18.59l7.72-7.72 1.47 1.35L5.41 20z\"/>\n",
              "  </svg>\n",
              "      </button>\n",
              "      \n",
              "  <style>\n",
              "    .colab-df-container {\n",
              "      display:flex;\n",
              "      flex-wrap:wrap;\n",
              "      gap: 12px;\n",
              "    }\n",
              "\n",
              "    .colab-df-convert {\n",
              "      background-color: #E8F0FE;\n",
              "      border: none;\n",
              "      border-radius: 50%;\n",
              "      cursor: pointer;\n",
              "      display: none;\n",
              "      fill: #1967D2;\n",
              "      height: 32px;\n",
              "      padding: 0 0 0 0;\n",
              "      width: 32px;\n",
              "    }\n",
              "\n",
              "    .colab-df-convert:hover {\n",
              "      background-color: #E2EBFA;\n",
              "      box-shadow: 0px 1px 2px rgba(60, 64, 67, 0.3), 0px 1px 3px 1px rgba(60, 64, 67, 0.15);\n",
              "      fill: #174EA6;\n",
              "    }\n",
              "\n",
              "    [theme=dark] .colab-df-convert {\n",
              "      background-color: #3B4455;\n",
              "      fill: #D2E3FC;\n",
              "    }\n",
              "\n",
              "    [theme=dark] .colab-df-convert:hover {\n",
              "      background-color: #434B5C;\n",
              "      box-shadow: 0px 1px 3px 1px rgba(0, 0, 0, 0.15);\n",
              "      filter: drop-shadow(0px 1px 2px rgba(0, 0, 0, 0.3));\n",
              "      fill: #FFFFFF;\n",
              "    }\n",
              "  </style>\n",
              "\n",
              "      <script>\n",
              "        const buttonEl =\n",
              "          document.querySelector('#df-6b59d6e6-aee1-4347-ae27-b5cbea62f035 button.colab-df-convert');\n",
              "        buttonEl.style.display =\n",
              "          google.colab.kernel.accessAllowed ? 'block' : 'none';\n",
              "\n",
              "        async function convertToInteractive(key) {\n",
              "          const element = document.querySelector('#df-6b59d6e6-aee1-4347-ae27-b5cbea62f035');\n",
              "          const dataTable =\n",
              "            await google.colab.kernel.invokeFunction('convertToInteractive',\n",
              "                                                     [key], {});\n",
              "          if (!dataTable) return;\n",
              "\n",
              "          const docLinkHtml = 'Like what you see? Visit the ' +\n",
              "            '<a target=\"_blank\" href=https://colab.research.google.com/notebooks/data_table.ipynb>data table notebook</a>'\n",
              "            + ' to learn more about interactive tables.';\n",
              "          element.innerHTML = '';\n",
              "          dataTable['output_type'] = 'display_data';\n",
              "          await google.colab.output.renderOutput(dataTable, element);\n",
              "          const docLink = document.createElement('div');\n",
              "          docLink.innerHTML = docLinkHtml;\n",
              "          element.appendChild(docLink);\n",
              "        }\n",
              "      </script>\n",
              "    </div>\n",
              "  </div>\n",
              "  "
            ]
          },
          "metadata": {},
          "execution_count": 38
        }
      ],
      "source": [
        "train.head(3)"
      ]
    },
    {
      "cell_type": "code",
      "execution_count": 39,
      "metadata": {
        "id": "ZwTwowxmpW16",
        "colab": {
          "base_uri": "https://localhost:8080/",
          "height": 237
        },
        "outputId": "76e90a59-02e6-4725-c3f9-8355450a3d09"
      },
      "outputs": [
        {
          "output_type": "execute_result",
          "data": {
            "text/plain": [
              "              id  merged_or_not  perc_external_contribs  churn_addition  \\\n",
              "1004380  1004381              1                0.000000               0   \n",
              "1004381  1004382              1                0.032621               0   \n",
              "1004382  1004383              1                0.042122            2450   \n",
              "\n",
              "         churn_deletion  pr_comment_num  part_num_issue  part_num_commit  \\\n",
              "1004380               0               0               4                0   \n",
              "1004381               0               0               0                0   \n",
              "1004382             249               0               2                0   \n",
              "\n",
              "         part_num_pr  part_num_code  ...  contrib_affiliation  \\\n",
              "1004380            0              0  ...                  904   \n",
              "1004381            0              0  ...                 1202   \n",
              "1004382            0              0  ...                 1202   \n",
              "\n",
              "         contrib_first_emo  perc_inte_neg_emo  perc_inte_pos_emo  \\\n",
              "1004380                  1                0.0                0.0   \n",
              "1004381                  3                0.0                0.0   \n",
              "1004382                  3                0.0                0.0   \n",
              "\n",
              "         perc_inte_neu_emo  contrib_follow_integrator  prior_interaction  \\\n",
              "1004380                0.0                          0                523   \n",
              "1004381                0.0                          0                 13   \n",
              "1004382                0.0                          0                 31   \n",
              "\n",
              "         social_strength  same_country  same_affiliation  \n",
              "1004380         0.714286           1.0               1.0  \n",
              "1004381         0.000000           NaN               NaN  \n",
              "1004382         0.266667           NaN               NaN  \n",
              "\n",
              "[3 rows x 47 columns]"
            ],
            "text/html": [
              "\n",
              "  <div id=\"df-0a8f4bb4-e079-41e1-9c24-4e21294e39af\">\n",
              "    <div class=\"colab-df-container\">\n",
              "      <div>\n",
              "<style scoped>\n",
              "    .dataframe tbody tr th:only-of-type {\n",
              "        vertical-align: middle;\n",
              "    }\n",
              "\n",
              "    .dataframe tbody tr th {\n",
              "        vertical-align: top;\n",
              "    }\n",
              "\n",
              "    .dataframe thead th {\n",
              "        text-align: right;\n",
              "    }\n",
              "</style>\n",
              "<table border=\"1\" class=\"dataframe\">\n",
              "  <thead>\n",
              "    <tr style=\"text-align: right;\">\n",
              "      <th></th>\n",
              "      <th>id</th>\n",
              "      <th>merged_or_not</th>\n",
              "      <th>perc_external_contribs</th>\n",
              "      <th>churn_addition</th>\n",
              "      <th>churn_deletion</th>\n",
              "      <th>pr_comment_num</th>\n",
              "      <th>part_num_issue</th>\n",
              "      <th>part_num_commit</th>\n",
              "      <th>part_num_pr</th>\n",
              "      <th>part_num_code</th>\n",
              "      <th>...</th>\n",
              "      <th>contrib_affiliation</th>\n",
              "      <th>contrib_first_emo</th>\n",
              "      <th>perc_inte_neg_emo</th>\n",
              "      <th>perc_inte_pos_emo</th>\n",
              "      <th>perc_inte_neu_emo</th>\n",
              "      <th>contrib_follow_integrator</th>\n",
              "      <th>prior_interaction</th>\n",
              "      <th>social_strength</th>\n",
              "      <th>same_country</th>\n",
              "      <th>same_affiliation</th>\n",
              "    </tr>\n",
              "  </thead>\n",
              "  <tbody>\n",
              "    <tr>\n",
              "      <th>1004380</th>\n",
              "      <td>1004381</td>\n",
              "      <td>1</td>\n",
              "      <td>0.000000</td>\n",
              "      <td>0</td>\n",
              "      <td>0</td>\n",
              "      <td>0</td>\n",
              "      <td>4</td>\n",
              "      <td>0</td>\n",
              "      <td>0</td>\n",
              "      <td>0</td>\n",
              "      <td>...</td>\n",
              "      <td>904</td>\n",
              "      <td>1</td>\n",
              "      <td>0.0</td>\n",
              "      <td>0.0</td>\n",
              "      <td>0.0</td>\n",
              "      <td>0</td>\n",
              "      <td>523</td>\n",
              "      <td>0.714286</td>\n",
              "      <td>1.0</td>\n",
              "      <td>1.0</td>\n",
              "    </tr>\n",
              "    <tr>\n",
              "      <th>1004381</th>\n",
              "      <td>1004382</td>\n",
              "      <td>1</td>\n",
              "      <td>0.032621</td>\n",
              "      <td>0</td>\n",
              "      <td>0</td>\n",
              "      <td>0</td>\n",
              "      <td>0</td>\n",
              "      <td>0</td>\n",
              "      <td>0</td>\n",
              "      <td>0</td>\n",
              "      <td>...</td>\n",
              "      <td>1202</td>\n",
              "      <td>3</td>\n",
              "      <td>0.0</td>\n",
              "      <td>0.0</td>\n",
              "      <td>0.0</td>\n",
              "      <td>0</td>\n",
              "      <td>13</td>\n",
              "      <td>0.000000</td>\n",
              "      <td>NaN</td>\n",
              "      <td>NaN</td>\n",
              "    </tr>\n",
              "    <tr>\n",
              "      <th>1004382</th>\n",
              "      <td>1004383</td>\n",
              "      <td>1</td>\n",
              "      <td>0.042122</td>\n",
              "      <td>2450</td>\n",
              "      <td>249</td>\n",
              "      <td>0</td>\n",
              "      <td>2</td>\n",
              "      <td>0</td>\n",
              "      <td>0</td>\n",
              "      <td>0</td>\n",
              "      <td>...</td>\n",
              "      <td>1202</td>\n",
              "      <td>3</td>\n",
              "      <td>0.0</td>\n",
              "      <td>0.0</td>\n",
              "      <td>0.0</td>\n",
              "      <td>0</td>\n",
              "      <td>31</td>\n",
              "      <td>0.266667</td>\n",
              "      <td>NaN</td>\n",
              "      <td>NaN</td>\n",
              "    </tr>\n",
              "  </tbody>\n",
              "</table>\n",
              "<p>3 rows × 47 columns</p>\n",
              "</div>\n",
              "      <button class=\"colab-df-convert\" onclick=\"convertToInteractive('df-0a8f4bb4-e079-41e1-9c24-4e21294e39af')\"\n",
              "              title=\"Convert this dataframe to an interactive table.\"\n",
              "              style=\"display:none;\">\n",
              "        \n",
              "  <svg xmlns=\"http://www.w3.org/2000/svg\" height=\"24px\"viewBox=\"0 0 24 24\"\n",
              "       width=\"24px\">\n",
              "    <path d=\"M0 0h24v24H0V0z\" fill=\"none\"/>\n",
              "    <path d=\"M18.56 5.44l.94 2.06.94-2.06 2.06-.94-2.06-.94-.94-2.06-.94 2.06-2.06.94zm-11 1L8.5 8.5l.94-2.06 2.06-.94-2.06-.94L8.5 2.5l-.94 2.06-2.06.94zm10 10l.94 2.06.94-2.06 2.06-.94-2.06-.94-.94-2.06-.94 2.06-2.06.94z\"/><path d=\"M17.41 7.96l-1.37-1.37c-.4-.4-.92-.59-1.43-.59-.52 0-1.04.2-1.43.59L10.3 9.45l-7.72 7.72c-.78.78-.78 2.05 0 2.83L4 21.41c.39.39.9.59 1.41.59.51 0 1.02-.2 1.41-.59l7.78-7.78 2.81-2.81c.8-.78.8-2.07 0-2.86zM5.41 20L4 18.59l7.72-7.72 1.47 1.35L5.41 20z\"/>\n",
              "  </svg>\n",
              "      </button>\n",
              "      \n",
              "  <style>\n",
              "    .colab-df-container {\n",
              "      display:flex;\n",
              "      flex-wrap:wrap;\n",
              "      gap: 12px;\n",
              "    }\n",
              "\n",
              "    .colab-df-convert {\n",
              "      background-color: #E8F0FE;\n",
              "      border: none;\n",
              "      border-radius: 50%;\n",
              "      cursor: pointer;\n",
              "      display: none;\n",
              "      fill: #1967D2;\n",
              "      height: 32px;\n",
              "      padding: 0 0 0 0;\n",
              "      width: 32px;\n",
              "    }\n",
              "\n",
              "    .colab-df-convert:hover {\n",
              "      background-color: #E2EBFA;\n",
              "      box-shadow: 0px 1px 2px rgba(60, 64, 67, 0.3), 0px 1px 3px 1px rgba(60, 64, 67, 0.15);\n",
              "      fill: #174EA6;\n",
              "    }\n",
              "\n",
              "    [theme=dark] .colab-df-convert {\n",
              "      background-color: #3B4455;\n",
              "      fill: #D2E3FC;\n",
              "    }\n",
              "\n",
              "    [theme=dark] .colab-df-convert:hover {\n",
              "      background-color: #434B5C;\n",
              "      box-shadow: 0px 1px 3px 1px rgba(0, 0, 0, 0.15);\n",
              "      filter: drop-shadow(0px 1px 2px rgba(0, 0, 0, 0.3));\n",
              "      fill: #FFFFFF;\n",
              "    }\n",
              "  </style>\n",
              "\n",
              "      <script>\n",
              "        const buttonEl =\n",
              "          document.querySelector('#df-0a8f4bb4-e079-41e1-9c24-4e21294e39af button.colab-df-convert');\n",
              "        buttonEl.style.display =\n",
              "          google.colab.kernel.accessAllowed ? 'block' : 'none';\n",
              "\n",
              "        async function convertToInteractive(key) {\n",
              "          const element = document.querySelector('#df-0a8f4bb4-e079-41e1-9c24-4e21294e39af');\n",
              "          const dataTable =\n",
              "            await google.colab.kernel.invokeFunction('convertToInteractive',\n",
              "                                                     [key], {});\n",
              "          if (!dataTable) return;\n",
              "\n",
              "          const docLinkHtml = 'Like what you see? Visit the ' +\n",
              "            '<a target=\"_blank\" href=https://colab.research.google.com/notebooks/data_table.ipynb>data table notebook</a>'\n",
              "            + ' to learn more about interactive tables.';\n",
              "          element.innerHTML = '';\n",
              "          dataTable['output_type'] = 'display_data';\n",
              "          await google.colab.output.renderOutput(dataTable, element);\n",
              "          const docLink = document.createElement('div');\n",
              "          docLink.innerHTML = docLinkHtml;\n",
              "          element.appendChild(docLink);\n",
              "        }\n",
              "      </script>\n",
              "    </div>\n",
              "  </div>\n",
              "  "
            ]
          },
          "metadata": {},
          "execution_count": 39
        }
      ],
      "source": [
        "test.head(3)"
      ]
    },
    {
      "cell_type": "markdown",
      "metadata": {
        "id": "zxMK7MfASMlM"
      },
      "source": [
        "# ***XGBoost***"
      ]
    },
    {
      "cell_type": "markdown",
      "metadata": {
        "id": "593UsD-EShcX"
      },
      "source": [
        "Run the following cell to install XGBoost. Skip otherwise."
      ]
    },
    {
      "cell_type": "code",
      "execution_count": null,
      "metadata": {
        "id": "Flfmv8bQSR5F"
      },
      "outputs": [],
      "source": [
        "#!pip3 install xgboost"
      ]
    },
    {
      "cell_type": "code",
      "execution_count": 40,
      "metadata": {
        "id": "munzGzTTScpS"
      },
      "outputs": [],
      "source": [
        "from xgboost import XGBClassifier as xgb\n",
        "from xgboost import plot_importance\n",
        "import xgboost as xgb\n",
        "from sklearn.model_selection import RepeatedStratifiedKFold, cross_val_score\n",
        "from sklearn.metrics import accuracy_score"
      ]
    },
    {
      "cell_type": "markdown",
      "source": [
        "Hyperparameter Tuning of XGBoost.\n",
        "\n",
        "The next 3 cells contains code from the Kaggle notebook \"[A Guide on XGBoost hyperparameters tuning](https://www.kaggle.com/code/prashant111/a-guide-on-xgboost-hyperparameters-tuning/notebook)\"\n",
        "\n"
      ],
      "metadata": {
        "id": "6X-3IGpf89xb"
      }
    },
    {
      "cell_type": "code",
      "source": [
        "from hyperopt import STATUS_OK, Trials, fmin, hp, tpe\n",
        "\n",
        "space={'max_depth': hp.quniform(\"max_depth\", 3, 18, 1),\n",
        "        'gamma': hp.uniform ('gamma', 1,9),\n",
        "        'reg_alpha' : hp.quniform('reg_alpha', 40,180,1),\n",
        "        'reg_lambda' : hp.uniform('reg_lambda', 0,1),\n",
        "        'colsample_bytree' : hp.uniform('colsample_bytree', 0.5,1),\n",
        "        'min_child_weight' : hp.quniform('min_child_weight', 0, 10, 1),\n",
        "        'n_estimators': 180,\n",
        "        'seed': 0}\n",
        "\n",
        "def objective(space):\n",
        "    clf=xgb.XGBClassifier(n_estimators =space['n_estimators'], max_depth = int(space['max_depth']), gamma = space['gamma'],\n",
        "                    reg_alpha = int(space['reg_alpha']),min_child_weight=int(space['min_child_weight']),\n",
        "                    colsample_bytree=int(space['colsample_bytree']))\n",
        "    \n",
        "    evaluation = [(train.iloc[:, 2:], train[\"merged_or_not\"]), (test.iloc[:, 2:], test[\"merged_or_not\"])]\n",
        "    \n",
        "    clf.fit(train.iloc[:, 2:], train[\"merged_or_not\"],\n",
        "            eval_set=evaluation, eval_metric=\"auc\",\n",
        "            early_stopping_rounds=10,verbose=False)\n",
        "    \n",
        "\n",
        "    pred = clf.predict(test.iloc[:, 2:])\n",
        "    accuracy = accuracy_score(test[\"merged_or_not\"], pred>0.5)\n",
        "    print (\"SCORE:\", accuracy)\n",
        "    return {'loss': -accuracy, 'status': STATUS_OK }"
      ],
      "metadata": {
        "id": "NP68l0sO9DTo"
      },
      "execution_count": 44,
      "outputs": []
    },
    {
      "cell_type": "code",
      "source": [
        "trials = Trials()\n",
        "\n",
        "best_hyperparams = fmin(fn = objective,\n",
        "                        space = space,\n",
        "                        algo = tpe.suggest,\n",
        "                        max_evals = 100,\n",
        "                        trials = trials)"
      ],
      "metadata": {
        "colab": {
          "base_uri": "https://localhost:8080/"
        },
        "id": "BYiwW-so9FT3",
        "outputId": "b991d396-d2d0-41b6-dd04-af02b341f044"
      },
      "execution_count": 45,
      "outputs": [
        {
          "output_type": "stream",
          "name": "stdout",
          "text": [
            "SCORE:\n",
            "0.810451815820797\n",
            "SCORE:\n",
            "0.8105936943220223\n",
            "SCORE:\n",
            "0.8104697373156886\n",
            "SCORE:\n",
            "0.8104786980631344\n",
            "SCORE:\n",
            "0.8105892139482995\n",
            "SCORE:\n",
            "0.8104607765682428\n",
            "SCORE:\n",
            "0.8104622700261505\n",
            "SCORE:\n",
            "0.8104592831103352\n",
            "SCORE:\n",
            "0.810451815820797\n",
            "SCORE:\n",
            "0.8104548027366123\n",
            "SCORE:\n",
            "0.8104622700261505\n",
            "SCORE:\n",
            "0.8105473971268857\n",
            "SCORE:\n",
            "0.8105324625478093\n",
            "SCORE:\n",
            "0.8104533092787046\n",
            "SCORE:\n",
            "0.8105473971268857\n",
            "SCORE:\n",
            "0.8104996064738413\n",
            "SCORE:\n",
            "0.8105877204903918\n",
            "SCORE:\n",
            "0.8104757111473192\n",
            "SCORE:\n",
            "0.8105025933896566\n",
            "SCORE:\n",
            "0.8104548027366123\n",
            "SCORE:\n",
            "0.8105712924534079\n",
            "SCORE:\n",
            "0.8105264887161788\n",
            "SCORE:\n",
            "0.8105070737633795\n",
            "SCORE:\n",
            "0.8105697989955002\n",
            "SCORE:\n",
            "0.8105309690899016\n",
            "SCORE:\n",
            "0.810578759742946\n",
            "SCORE:\n",
            "0.8105100606791947\n",
            "SCORE:\n",
            "0.8105055803054719\n",
            "SCORE:\n",
            "0.8105488905847933\n",
            "SCORE:\n",
            "0.8105220083424559\n",
            "SCORE:\n",
            "0.8105414232952551\n",
            "SCORE:\n",
            "0.8104592831103352\n",
            "SCORE:\n",
            "0.8105055803054719\n",
            "SCORE:\n",
            "0.8104727242315038\n",
            "SCORE:\n",
            "0.8105369429215322\n",
            "SCORE:\n",
            "0.8104816849789497\n",
            "SCORE:\n",
            "0.810550384042701\n",
            "SCORE:\n",
            "0.8104816849789497\n",
            "SCORE:\n",
            "0.8104607765682428\n",
            "SCORE:\n",
            "0.8105683055375926\n",
            "SCORE:\n",
            "0.810501099931749\n",
            "SCORE:\n",
            "0.810517527968733\n",
            "SCORE:\n",
            "0.8104637634840581\n",
            "SCORE:\n",
            "0.8105354494636245\n",
            "SCORE:\n",
            "0.8105757728271308\n",
            "SCORE:\n",
            "0.8105712924534079\n",
            "SCORE:\n",
            "0.8104533092787046\n",
            "SCORE:\n",
            "0.8104548027366123\n",
            "SCORE:\n",
            "0.8104607765682428\n",
            "SCORE:\n",
            "0.8104742176894115\n",
            "SCORE:\n",
            "0.8104533092787046\n",
            "SCORE:\n",
            "0.8104996064738413\n",
            "SCORE:\n",
            "0.8105279821740864\n",
            "SCORE:\n",
            "0.8105220083424559\n",
            "SCORE:\n",
            "0.8105264887161788\n",
            "SCORE:\n",
            "0.8105025933896566\n",
            "SCORE:\n",
            "0.8105354494636245\n",
            "SCORE:\n",
            "0.8105593447901468\n",
            "SCORE:\n",
            "0.810451815820797\n",
            "SCORE:\n",
            "0.8104786980631344\n",
            "SCORE:\n",
            "0.8105399298373475\n",
            "SCORE:\n",
            "0.8105444102110704\n",
            "SCORE:\n",
            "0.8105772662850383\n",
            "SCORE:\n",
            "0.8105444102110704\n",
            "SCORE:\n",
            "0.8105055803054719\n",
            "SCORE:\n",
            "0.8105742793692231\n",
            "SCORE:\n",
            "0.8105518775006085\n",
            "SCORE:\n",
            "0.8105936943220223\n",
            "SCORE:\n",
            "0.8105697989955002\n",
            "SCORE:\n",
            "0.8105936943220223\n",
            "SCORE:\n",
            "0.8105936943220223\n",
            "SCORE:\n",
            "0.8105727859113154\n",
            "SCORE:\n",
            "0.8105279821740864\n",
            "SCORE:\n",
            "0.8105279821740864\n",
            "SCORE:\n",
            "0.8105369429215322\n",
            "SCORE:\n",
            "0.8105414232952551\n",
            "SCORE:\n",
            "0.8105488905847933\n",
            "SCORE:\n",
            "0.8104533092787046\n",
            "SCORE:\n",
            "0.8105907074062071\n",
            "SCORE:\n",
            "0.8105563578743314\n",
            "SCORE:\n",
            "0.8105727859113154\n",
            "SCORE:\n",
            "0.8104637634840581\n",
            "SCORE:\n",
            "0.8105279821740864\n",
            "SCORE:\n",
            "0.810533956005717\n",
            "SCORE:\n",
            "0.8104861653526726\n",
            "SCORE:\n",
            "0.8104562961945199\n",
            "SCORE:\n",
            "0.8105220083424559\n",
            "SCORE:\n",
            "0.81059518777993\n",
            "SCORE:\n",
            "0.8104548027366123\n",
            "SCORE:\n",
            "0.8105473971268857\n",
            "SCORE:\n",
            "0.8105025933896566\n",
            "SCORE:\n",
            "0.8105369429215322\n",
            "SCORE:\n",
            "0.8105429167531628\n",
            "SCORE:\n",
            "0.8104742176894115\n",
            "SCORE:\n",
            "0.810550384042701\n",
            "SCORE:\n",
            "0.8105697989955002\n",
            "SCORE:\n",
            "0.8104607765682428\n",
            "SCORE:\n",
            "0.8104637634840581\n",
            "SCORE:\n",
            "0.8105862270324842\n",
            "SCORE:\n",
            "0.8105563578743314\n",
            "100%|██████████| 100/100 [2:08:57<00:00, 77.37s/it, best loss: -0.81059518777993]\n"
          ]
        }
      ]
    },
    {
      "cell_type": "code",
      "source": [
        "print(\"The best hyperparameters are : \",\"\\n\")\n",
        "print(best_hyperparams)"
      ],
      "metadata": {
        "colab": {
          "base_uri": "https://localhost:8080/"
        },
        "id": "bGLeKrjT9QcM",
        "outputId": "49b4db6d-4cd8-4f2e-97e1-dab00e38278c"
      },
      "execution_count": 46,
      "outputs": [
        {
          "output_type": "stream",
          "name": "stdout",
          "text": [
            "The best hyperparameters are :  \n",
            "\n",
            "{'colsample_bytree': 0.6181684614170972, 'gamma': 4.08581721001597, 'max_depth': 13.0, 'min_child_weight': 4.0, 'reg_alpha': 40.0, 'reg_lambda': 0.15452176042374727}\n"
          ]
        }
      ]
    },
    {
      "cell_type": "code",
      "execution_count": 41,
      "metadata": {
        "id": "uJQ9B5mjVvg5"
      },
      "outputs": [],
      "source": [
        "X = train.iloc[:, 2:]\n",
        "y = train[\"merged_or_not\"]"
      ]
    },
    {
      "cell_type": "code",
      "execution_count": 42,
      "metadata": {
        "id": "PZIs2s5X9KVn"
      },
      "outputs": [],
      "source": [
        "model = XGBClassifier()"
      ]
    },
    {
      "cell_type": "code",
      "execution_count": 43,
      "metadata": {
        "id": "VeTmmu2j9nvc",
        "colab": {
          "base_uri": "https://localhost:8080/"
        },
        "outputId": "60f1fca8-63de-4114-952e-b5f631bafe92"
      },
      "outputs": [
        {
          "output_type": "stream",
          "name": "stdout",
          "text": [
            "Computation Time\n",
            "0:02:42.284250\n"
          ]
        }
      ],
      "source": [
        "print(\"Computation Time\")\n",
        "start=datetime.now()\n",
        "\n",
        "model.fit(X,y)\n",
        "\n",
        "print(datetime.now()-start)"
      ]
    },
    {
      "cell_type": "markdown",
      "metadata": {
        "id": "SNPdpGUjlN4h"
      },
      "source": [
        "It is time to test the model out."
      ]
    },
    {
      "cell_type": "markdown",
      "metadata": {
        "id": "Fsp6QStxkcBE"
      },
      "source": [
        "K-fold cross validation on XGBoost model. Setting some parameter values based off of educated guess."
      ]
    },
    {
      "cell_type": "code",
      "execution_count": null,
      "metadata": {
        "colab": {
          "base_uri": "https://localhost:8080/",
          "height": 71
        },
        "id": "EQ1wYnzokdTD",
        "outputId": "11ba7bc3-b939-4b76-e33b-e2c34d60118e"
      },
      "outputs": [
        {
          "output_type": "execute_result",
          "data": {
            "text/plain": [
              "'\\nfrom xgboost import cv\\n\\ntrain_xgb = xgb.DMatrix(X, y)\\nparams = {\"objective\":\"binary:logistic\",\\'colsample_bytree\\': 0.3,\\'learning_rate\\': 0.1,\\n                \\'max_depth\\': 5, \\'alpha\\': 10}\\n\\nxgb_cv = cv(dtrain=train_xgb, params=params, nfold=3,\\n            num_boost_round=50, early_stopping_rounds=10, \\n            metrics=\"auc\", as_pandas=True, seed=123)\\n'"
            ],
            "application/vnd.google.colaboratory.intrinsic+json": {
              "type": "string"
            }
          },
          "metadata": {},
          "execution_count": 28
        }
      ],
      "source": [
        "'''\n",
        "from xgboost import cv\n",
        "\n",
        "train_xgb = xgb.DMatrix(X, y)\n",
        "params = {\"objective\":\"binary:logistic\",'colsample_bytree': 0.3,'learning_rate': 0.1,\n",
        "                'max_depth': 5, 'alpha': 10}\n",
        "\n",
        "xgb_cv = cv(dtrain=train_xgb, params=params, nfold=3,\n",
        "            num_boost_round=50, early_stopping_rounds=10, \n",
        "            metrics=\"auc\", as_pandas=True, seed=123)\n",
        "'''"
      ]
    },
    {
      "cell_type": "code",
      "execution_count": null,
      "metadata": {
        "id": "-C7zOprvktDb"
      },
      "outputs": [],
      "source": [
        "#xgb_cv.head()"
      ]
    },
    {
      "cell_type": "code",
      "execution_count": null,
      "metadata": {
        "id": "av6JYPrEkuzp",
        "colab": {
          "base_uri": "https://localhost:8080/"
        },
        "outputId": "3e2c1be7-6183-431b-89cd-8e4de44c725f"
      },
      "outputs": [
        {
          "output_type": "stream",
          "name": "stdout",
          "text": [
            "[1 1 1 ... 1 1 1]\n"
          ]
        }
      ],
      "source": [
        "y_pred = model.predict(test.iloc[:, 2:])\n",
        "print(y_pred)"
      ]
    },
    {
      "cell_type": "code",
      "execution_count": null,
      "metadata": {
        "id": "YmKX4IWekzMi",
        "colab": {
          "base_uri": "https://localhost:8080/"
        },
        "outputId": "98ee6554-3e45-444b-eb7d-502ca4b7c39e"
      },
      "outputs": [
        {
          "output_type": "stream",
          "name": "stdout",
          "text": [
            "0.8453240579640883\n"
          ]
        }
      ],
      "source": [
        "results = (test['merged_or_not'] == y_pred)\n",
        "accuracy = results.sum() / results.size\n",
        "print(accuracy)"
      ]
    },
    {
      "cell_type": "code",
      "execution_count": null,
      "metadata": {
        "id": "c-qkxUS_B4Yc"
      },
      "outputs": [],
      "source": [
        "from sklearn.metrics import classification_report\n",
        "from sklearn.metrics import confusion_matrix\n",
        "from sklearn.metrics import precision_score\n",
        "from sklearn.metrics import recall_score\n",
        "from sklearn.metrics import accuracy_score\n",
        "from sklearn.metrics import fbeta_score\n",
        "\n",
        "def evaluation_summary(description, true_labels, predictions, target_classes):\n",
        "  print(\"Evaluation for: \" + description)\n",
        "  target_names = target_classes\n",
        "  report = classification_report(true_labels, predictions,  digits=3, zero_division=0, target_names=target_names)\n",
        "  cm = confusion_matrix(true_labels, predictions)\n",
        "  plt.figure(figsize=(5,5))\n",
        "  ax= plt.subplot()\n",
        "  sns.heatmap(cm, annot=True, fmt='g', ax=ax)\n",
        "  # labels, title and ticks\n",
        "  ax.set_xlabel('Predicted labels')\n",
        "  ax.set_ylabel('True labels')\n",
        "  ax.set_title(\"Confusion Matrix\")\n",
        "  ax.xaxis.set_ticklabels(target_names) \n",
        "  ax.yaxis.set_ticklabels(target_names)\n",
        "  return report"
      ]
    },
    {
      "cell_type": "code",
      "execution_count": null,
      "metadata": {
        "id": "CDGR_t29AJkH",
        "colab": {
          "base_uri": "https://localhost:8080/",
          "height": 529
        },
        "outputId": "a9f2c766-9741-4116-cff1-ebbf1b40b75d"
      },
      "outputs": [
        {
          "output_type": "stream",
          "name": "stdout",
          "text": [
            "Evaluation for: Baseline Model\n",
            "              precision    recall  f1-score   support\n",
            "\n",
            "    Rejected      0.744     0.281     0.408    126934\n",
            "    Accepted      0.853     0.977     0.911    542653\n",
            "\n",
            "    accuracy                          0.845    669587\n",
            "   macro avg      0.798     0.629     0.659    669587\n",
            "weighted avg      0.832     0.845     0.816    669587\n",
            "\n"
          ]
        },
        {
          "output_type": "display_data",
          "data": {
            "text/plain": [
              "<Figure size 360x360 with 2 Axes>"
            ],
            "image/png": "[encoded data removed]"
          },
          "metadata": {
            "needs_background": "light"
          }
        }
      ],
      "source": [
        "target_classes = ['Rejected', 'Accepted']\n",
        "print(evaluation_summary(\"Baseline Model\", test[\"merged_or_not\"], y_pred , target_classes))"
      ]
    },
    {
      "cell_type": "markdown",
      "metadata": {
        "id": "z01rKZHKJAff"
      },
      "source": [
        "ROC-AUC curve code taken from [here](https://www.kaggle.com/code/beletecheneke/xgboost-with-roc-curve-notebook-auprc-93) "
      ]
    },
    {
      "cell_type": "code",
      "execution_count": null,
      "metadata": {
        "id": "REDgR2T-IrAx"
      },
      "outputs": [],
      "source": [
        "from sklearn.metrics import roc_curve, auc,recall_score,precision_score\n",
        "def roc_auc_curve(test_results, y_pred):\n",
        "  fpr, tpr, _ = roc_curve(test_results.values, y_pred)\n",
        "  roc_auc = auc(fpr, tpr)\n",
        "  #xgb.plot_importance(gbm)\n",
        "  #plt.show()\n",
        "  plt.figure(figsize=(5,5))\n",
        "  lw = 2\n",
        "  plt.plot(fpr, tpr, color='darkorange',\n",
        "          lw=lw, label='ROC curve (area = %0.2f)' % roc_auc)\n",
        "  plt.plot([0, 1], [0, 1], color='navy', lw=lw, linestyle='--')\n",
        "  plt.xlim([-0.02, 1.0])\n",
        "  plt.ylim([0.0, 1.05])\n",
        "  plt.xlabel('False Positive Rate')\n",
        "  plt.ylabel('True Positive Rate')\n",
        "  plt.title('ROC curve')\n",
        "  plt.legend(loc=\"lower right\")\n",
        "  plt.show()"
      ]
    },
    {
      "cell_type": "code",
      "execution_count": null,
      "metadata": {
        "id": "11rB__yEKI2_",
        "colab": {
          "base_uri": "https://localhost:8080/",
          "height": 350
        },
        "outputId": "632c4a67-142c-48a3-9e3c-ee3e0e0f8b4f"
      },
      "outputs": [
        {
          "output_type": "display_data",
          "data": {
            "text/plain": [
              "<Figure size 360x360 with 1 Axes>"
            ],
            "image/png": "[encoded data removed]"
          },
          "metadata": {
            "needs_background": "light"
          }
        }
      ],
      "source": [
        "roc_auc_curve(test[\"merged_or_not\"], y_pred)"
      ]
    },
    {
      "cell_type": "markdown",
      "metadata": {
        "id": "H9wKuLldkFnh"
      },
      "source": [
        "### **Feature Selection with XGBoost and SHAP**"
      ]
    },
    {
      "cell_type": "markdown",
      "metadata": {
        "id": "eW-SOwZ6Msx4"
      },
      "source": [
        "Study [this](https://notebook.community/minesh1291/MachineLearning/xgboost/feature_importance_v1) to understand how feature importance is decided in the following graph."
      ]
    },
    {
      "cell_type": "code",
      "execution_count": null,
      "metadata": {
        "id": "-XmKYjivZtFB",
        "colab": {
          "base_uri": "https://localhost:8080/",
          "height": 621
        },
        "outputId": "14127ef8-b3b3-44d2-baf8-7a2c208e9f60"
      },
      "outputs": [
        {
          "output_type": "display_data",
          "data": {
            "text/plain": [
              "<Figure size 1080x720 with 1 Axes>"
            ],
            "image/png": "[encoded data removed]"
          },
          "metadata": {
            "needs_background": "light"
          }
        }
      ],
      "source": [
        "plt.rcParams[\"figure.figsize\"] = (15, 10)\n",
        "plot_importance(model)\n",
        "plt.show()"
      ]
    },
    {
      "cell_type": "code",
      "execution_count": null,
      "metadata": {
        "id": "xNMGN6dCoTdZ"
      },
      "outputs": [],
      "source": [
        "#!pip3 install shap"
      ]
    },
    {
      "cell_type": "code",
      "execution_count": null,
      "metadata": {
        "id": "6ZpFcARClblm"
      },
      "outputs": [],
      "source": [
        "#import shap"
      ]
    },
    {
      "cell_type": "code",
      "execution_count": null,
      "metadata": {
        "colab": {
          "base_uri": "https://localhost:8080/",
          "height": 35
        },
        "id": "cS5bVYGYmBSx",
        "outputId": "b8a3754c-49f4-47fd-dd3e-c9dcf0a0f5f4"
      },
      "outputs": [
        {
          "output_type": "execute_result",
          "data": {
            "text/plain": [
              "'\\nexplainer = shap.TreeExplainer(model)\\nshap_values = explainer.shap_values(test)\\n\\nshap.initjs()\\nshap.summary_plot(shap_values, test)\\n'"
            ],
            "application/vnd.google.colaboratory.intrinsic+json": {
              "type": "string"
            }
          },
          "metadata": {},
          "execution_count": 39
        }
      ],
      "source": [
        "'''\n",
        "explainer = shap.TreeExplainer(model)\n",
        "shap_values = explainer.shap_values(test)\n",
        "\n",
        "shap.initjs()\n",
        "shap.summary_plot(shap_values, test)\n",
        "'''"
      ]
    },
    {
      "cell_type": "markdown",
      "metadata": {
        "id": "QcAAp8FLPTYA"
      },
      "source": [
        "Understanding the Shapley Value [here](https://christophm.github.io/interpretable-ml-book/shapley.html). [More](https://arxiv.org/pdf/2102.10936.pdf) things about Shapley."
      ]
    },
    {
      "cell_type": "markdown",
      "metadata": {
        "id": "6l9Jd3HmO-L4"
      },
      "source": [
        "Get rid of features one by one!"
      ]
    },
    {
      "cell_type": "markdown",
      "metadata": {
        "id": "kJxxG4rTvToD"
      },
      "source": [
        "Interpreting the SHAP plot:\n",
        "1. The y-axis indicates importance of the metrics with the top-most one being the most important one and the bottom one being the least important metric.\n",
        "2. The x-axis is the SHAP values, indiacting the change in log-odds.\n",
        "3. Gradient color indicates the original value for that variable. \n",
        "4. Each point represents the row from the original dataset.\n",
        "\n",
        "[Reference] [link text](https://blog.datascienceheroes.com/how-to-interpret-shap-values-in-r/)"
      ]
    },
    {
      "cell_type": "code",
      "execution_count": null,
      "metadata": {
        "id": "HWuKikXlYbvv"
      },
      "outputs": [],
      "source": [
        "from sklearn.metrics import accuracy_score\n",
        "from sklearn.feature_selection import SelectFromModel"
      ]
    },
    {
      "cell_type": "code",
      "execution_count": null,
      "metadata": {
        "id": "9u_uJyzgqVtK",
        "colab": {
          "base_uri": "https://localhost:8080/"
        },
        "outputId": "e0d5ad12-697b-475a-a53e-615ab781af66"
      },
      "outputs": [
        {
          "output_type": "stream",
          "name": "stdout",
          "text": [
            "[36 32 41 29 42 18  4 20 27 31 26 24 25 15 14 22 23  1 34 33 12 38 16 43\n",
            " 28  3  9 21  2  5 30 40  6 39  0 44 10 35  8  7 11 13 17 19 37]\n",
            "['contrib_first_emo', 0.10956657]\n",
            "['core_member', 0.103117965]\n",
            "['prior_interaction', 0.07892003]\n",
            "['acc_commit_num', 0.06839227]\n",
            "['social_strength', 0.064916484]\n",
            "['ci_failed_perc', 0.052375916]\n",
            "['part_num_issue', 0.040689394]\n",
            "['ci_last_build_status', 0.039726775]\n",
            "['first_response_time', 0.0361695]\n",
            "['account_creation_days', 0.03162656]\n",
            "['open_pr_num', 0.028820295]\n",
            "['open_issue_num', 0.02873026]\n",
            "['pr_succ_rate', 0.026845938]\n",
            "['ci_latency', 0.02636137]\n",
            "['ci_exists', 0.024105432]\n",
            "['fork_num', 0.022885673]\n",
            "['project_age', 0.020077327]\n",
            "['churn_addition', 0.016750911]\n",
            "['contrib_country', 0.016352264]\n",
            "['contrib_gender', 0.01584987]\n",
            "['description_length', 0.014709954]\n",
            "['perc_inte_pos_emo', 0.013268841]\n",
            "['ci_build_num', 0.012396535]\n",
            "['same_country', 0.011858753]\n",
            "['pushed_delta', 0.011754432]\n",
            "['pr_comment_num', 0.00984267]\n",
            "['hash_tag', 0.008755989]\n",
            "['language', 0.008519574]\n",
            "['churn_deletion', 0.008284915]\n",
            "['part_num_commit', 0.007267415]\n",
            "['first_pr', 0.0068132067]\n",
            "['contrib_follow_integrator', 0.006649413]\n",
            "['part_num_pr', 0.006502194]\n",
            "['perc_inte_neu_emo', 0.0062671728]\n",
            "['perc_external_contribs', 0.00607049]\n",
            "['same_affiliation', 0.0039749304]\n",
            "['at_tag', 0.002400078]\n",
            "['contrib_affiliation', 0.0023825986]\n",
            "['comment_conflict', 0.0]\n",
            "['part_num_code', 0.0]\n",
            "['test_inclusion', 0.0]\n",
            "['bug_fix', 0.0]\n",
            "['ci_test_passed', 0.0]\n",
            "['ci_first_build_status', 0.0]\n",
            "['perc_inte_neg_emo', 0.0]\n"
          ]
        }
      ],
      "source": [
        "sorted_idx = np.argsort(model.feature_importances_)[::-1]\n",
        "print(sorted_idx)\n",
        "for index in sorted_idx:\n",
        "  print([X.columns[index], model.feature_importances_[index]])"
      ]
    },
    {
      "cell_type": "markdown",
      "metadata": {
        "id": "a7UKE2W6ojjX"
      },
      "source": [
        "Average for determining threshold."
      ]
    },
    {
      "cell_type": "code",
      "execution_count": null,
      "metadata": {
        "id": "qWZIjarvqh6s",
        "colab": {
          "base_uri": "https://localhost:8080/"
        },
        "outputId": "ccca883c-190a-4159-a457-923adf95ed63"
      },
      "outputs": [
        {
          "output_type": "stream",
          "name": "stdout",
          "text": [
            "0.022222221404727963\n"
          ]
        }
      ],
      "source": [
        "sum = 0.0\n",
        "for value in model.feature_importances_:\n",
        "  sum = sum+value\n",
        "\n",
        "threshold_1 = sum/len(model.feature_importances_)\n",
        "print(threshold_1)"
      ]
    },
    {
      "cell_type": "code",
      "execution_count": null,
      "metadata": {
        "id": "b0DA-KGDq6_I",
        "colab": {
          "base_uri": "https://localhost:8080/"
        },
        "outputId": "c241f3b5-f9e2-4141-9e75-385c28a091eb"
      },
      "outputs": [
        {
          "output_type": "stream",
          "name": "stdout",
          "text": [
            "['contrib_first_emo', 'core_member', 'prior_interaction', 'acc_commit_num', 'social_strength', 'ci_failed_perc', 'part_num_issue', 'ci_last_build_status', 'first_response_time', 'account_creation_days', 'open_pr_num', 'open_issue_num', 'pr_succ_rate', 'ci_latency', 'ci_exists', 'fork_num']\n",
            "16\n"
          ]
        }
      ],
      "source": [
        "imp_features_1 = []\n",
        "for index in sorted_idx:\n",
        "  if model.feature_importances_[index]>=threshold_1:\n",
        "    imp_features_1.append(X.columns[index])\n",
        "\n",
        "print(imp_features_1)\n",
        "print(len(imp_features_1))"
      ]
    },
    {
      "cell_type": "code",
      "execution_count": null,
      "metadata": {
        "id": "9LEq1kQRtu_l",
        "colab": {
          "base_uri": "https://localhost:8080/"
        },
        "outputId": "d14ff6ba-1cf3-46c6-e086-fd166e6a4730"
      },
      "outputs": [
        {
          "output_type": "stream",
          "name": "stdout",
          "text": [
            "Computation Time\n",
            "0:01:20.896454\n"
          ]
        }
      ],
      "source": [
        "X_new_1 = pd.DataFrame(columns = imp_features_1)\n",
        "for feature in imp_features_1:\n",
        "  X_new_1[feature] = train[feature]\n",
        "\n",
        "model_new = XGBClassifier()\n",
        "\n",
        "print(\"Computation Time\")\n",
        "start=datetime.now()\n",
        "\n",
        "model_new.fit(X_new_1, y)\n",
        "\n",
        "print(datetime.now()-start)\n",
        "\n",
        "test_new_1 = pd.DataFrame(columns = imp_features_1)\n",
        "for feature in imp_features_1:\n",
        "  test_new_1[feature] = test[feature]\n",
        "\n",
        "y_pred_new_1 = model_new.predict(test_new_1)"
      ]
    },
    {
      "cell_type": "code",
      "execution_count": null,
      "metadata": {
        "id": "csFl9kuFyK2o",
        "colab": {
          "base_uri": "https://localhost:8080/"
        },
        "outputId": "26197a7f-2566-4bfe-d60f-193d10e792d4"
      },
      "outputs": [
        {
          "output_type": "stream",
          "name": "stdout",
          "text": [
            "0.8444922019095353\n"
          ]
        }
      ],
      "source": [
        "results_new_1 = (test[\"merged_or_not\"] == y_pred_new_1)\n",
        "accuracy_new_1 = results_new_1.sum() / results_new_1.size\n",
        "print(accuracy_new_1)"
      ]
    },
    {
      "cell_type": "code",
      "execution_count": null,
      "metadata": {
        "id": "GqSo9wfDE3M2",
        "colab": {
          "base_uri": "https://localhost:8080/",
          "height": 529
        },
        "outputId": "fd86929c-fa82-41aa-c2d8-42575c6146e0"
      },
      "outputs": [
        {
          "output_type": "stream",
          "name": "stdout",
          "text": [
            "Evaluation for: New Model with better performing features\n",
            "              precision    recall  f1-score   support\n",
            "\n",
            "    Rejected      0.734     0.282     0.407    126934\n",
            "    Accepted      0.853     0.976     0.911    542653\n",
            "\n",
            "    accuracy                          0.844    669587\n",
            "   macro avg      0.794     0.629     0.659    669587\n",
            "weighted avg      0.831     0.844     0.815    669587\n",
            "\n"
          ]
        },
        {
          "output_type": "display_data",
          "data": {
            "text/plain": [
              "<Figure size 360x360 with 2 Axes>"
            ],
            "image/png": "[encoded data removed]"
          },
          "metadata": {
            "needs_background": "light"
          }
        }
      ],
      "source": [
        "print(evaluation_summary(\"New Model with better performing features\", test[\"merged_or_not\"], y_pred_new_1 , target_classes))"
      ]
    },
    {
      "cell_type": "code",
      "execution_count": null,
      "metadata": {
        "id": "dA28m-VyKAh1",
        "colab": {
          "base_uri": "https://localhost:8080/",
          "height": 350
        },
        "outputId": "3c6e2c50-61fb-4de1-a13a-b8290f4269ca"
      },
      "outputs": [
        {
          "output_type": "display_data",
          "data": {
            "text/plain": [
              "<Figure size 360x360 with 1 Axes>"
            ],
            "image/png": "[encoded data removed]"
          },
          "metadata": {
            "needs_background": "light"
          }
        }
      ],
      "source": [
        "roc_auc_curve(test[\"merged_or_not\"], y_pred_new_1)"
      ]
    },
    {
      "cell_type": "markdown",
      "metadata": {
        "id": "6Hoab7kUQmG_"
      },
      "source": [
        "Read [this](https://ai.stanford.edu/blog/removing-spuriousfeature/).\n",
        "[Deciding the threshold for feature importance.](https://journalofbigdata.springeropen.com/articles/10.1186/s40537-021-00472-4)"
      ]
    },
    {
      "cell_type": "code",
      "execution_count": null,
      "metadata": {
        "colab": {
          "base_uri": "https://localhost:8080/",
          "height": 53
        },
        "id": "qLBj_ujlO15K",
        "outputId": "f554e60c-befe-4216-a5ae-188563e45f06"
      },
      "outputs": [
        {
          "output_type": "execute_result",
          "data": {
            "text/plain": [
              "'\\nexplainer_new_1 = shap.TreeExplainer(model_new)\\nshap_values_new_1 = explainer_new_1.shap_values(test_new_1)\\n\\nshap.initjs()\\nshap.summary_plot(shap_values_new_1, test_new_1)\\n'"
            ],
            "application/vnd.google.colaboratory.intrinsic+json": {
              "type": "string"
            }
          },
          "metadata": {},
          "execution_count": 48
        }
      ],
      "source": [
        "'''\n",
        "explainer_new_1 = shap.TreeExplainer(model_new)\n",
        "shap_values_new_1 = explainer_new_1.shap_values(test_new_1)\n",
        "\n",
        "shap.initjs()\n",
        "shap.summary_plot(shap_values_new_1, test_new_1)\n",
        "'''"
      ]
    },
    {
      "cell_type": "markdown",
      "metadata": {
        "id": "aWh3tQn3oogp"
      },
      "source": [
        "Standard Deviation for determining threshold."
      ]
    },
    {
      "cell_type": "code",
      "execution_count": null,
      "metadata": {
        "id": "eNGCHHJ2oI6W",
        "colab": {
          "base_uri": "https://localhost:8080/"
        },
        "outputId": "34f01e5a-83bd-4cd9-cb3d-e3895198de9b"
      },
      "outputs": [
        {
          "output_type": "stream",
          "name": "stdout",
          "text": [
            "['contrib_first_emo', 'core_member', 'prior_interaction', 'acc_commit_num', 'social_strength', 'ci_failed_perc', 'part_num_issue', 'ci_last_build_status', 'first_response_time', 'account_creation_days', 'open_pr_num', 'open_issue_num', 'pr_succ_rate', 'ci_latency']\n",
            "14\n"
          ]
        }
      ],
      "source": [
        "threshold_2 = np.std(model.feature_importances_)\n",
        "\n",
        "imp_features_2 = []\n",
        "for index in sorted_idx:\n",
        "  if model.feature_importances_[index]>=threshold_2:\n",
        "    feature_to_consider_1 = X.columns[index]\n",
        "    imp_features_2.append(feature_to_consider_1)\n",
        "\n",
        "print(imp_features_2)\n",
        "print(len(imp_features_2))"
      ]
    },
    {
      "cell_type": "code",
      "execution_count": null,
      "metadata": {
        "id": "LISV49Mgo-nx",
        "colab": {
          "base_uri": "https://localhost:8080/"
        },
        "outputId": "5bad703a-3d2e-41ba-ace9-539d0fbdc222"
      },
      "outputs": [
        {
          "output_type": "stream",
          "name": "stdout",
          "text": [
            "Computation Time\n",
            "0:01:15.124644\n"
          ]
        }
      ],
      "source": [
        "X_new_2 = pd.DataFrame(columns = imp_features_2)\n",
        "for feature in imp_features_2:\n",
        "  X_new_2[feature] = train[feature]\n",
        "\n",
        "print(\"Computation Time\")\n",
        "start=datetime.now()\n",
        "\n",
        "model_new.fit(X_new_2, y)\n",
        "\n",
        "print(datetime.now()-start)\n",
        "\n",
        "test_new_2 = pd.DataFrame(columns = imp_features_2)\n",
        "for feature in imp_features_2:\n",
        "  test_new_2[feature] = test[feature]\n",
        "\n",
        "y_pred_new_2 = model_new.predict(test_new_2)"
      ]
    },
    {
      "cell_type": "code",
      "execution_count": null,
      "metadata": {
        "id": "bBzgHKzYpQ9D",
        "colab": {
          "base_uri": "https://localhost:8080/"
        },
        "outputId": "0c8ad4ff-d316-468b-db41-73888c39607d"
      },
      "outputs": [
        {
          "output_type": "stream",
          "name": "stdout",
          "text": [
            "0.8431988673615228\n"
          ]
        }
      ],
      "source": [
        "results_new_2 = (test[\"merged_or_not\"] == y_pred_new_2)\n",
        "accuracy_new_2 = results_new_2.sum() / results_new_2.size\n",
        "print(accuracy_new_2)"
      ]
    },
    {
      "cell_type": "code",
      "execution_count": null,
      "metadata": {
        "id": "wvsPdUxMpY-b",
        "colab": {
          "base_uri": "https://localhost:8080/",
          "height": 529
        },
        "outputId": "51ca5cf1-8e17-41e4-c6ac-68763fc4e605"
      },
      "outputs": [
        {
          "output_type": "stream",
          "name": "stdout",
          "text": [
            "Evaluation for: New Model with better performing features\n",
            "              precision    recall  f1-score   support\n",
            "\n",
            "    Rejected      0.727     0.277     0.401    126934\n",
            "    Accepted      0.852     0.976     0.910    542653\n",
            "\n",
            "    accuracy                          0.843    669587\n",
            "   macro avg      0.789     0.626     0.656    669587\n",
            "weighted avg      0.828     0.843     0.813    669587\n",
            "\n"
          ]
        },
        {
          "output_type": "display_data",
          "data": {
            "text/plain": [
              "<Figure size 360x360 with 2 Axes>"
            ],
            "image/png": "[encoded data removed]"
          },
          "metadata": {
            "needs_background": "light"
          }
        }
      ],
      "source": [
        "print(evaluation_summary(\"New Model with better performing features\", test[\"merged_or_not\"], y_pred_new_2 , target_classes))"
      ]
    },
    {
      "cell_type": "code",
      "execution_count": null,
      "metadata": {
        "id": "0b_LYHrXpcz8",
        "colab": {
          "base_uri": "https://localhost:8080/",
          "height": 350
        },
        "outputId": "131257e2-e7a5-4a68-fe21-2f117923b862"
      },
      "outputs": [
        {
          "output_type": "display_data",
          "data": {
            "text/plain": [
              "<Figure size 360x360 with 1 Axes>"
            ],
            "image/png": "[encoded data removed]"
          },
          "metadata": {
            "needs_background": "light"
          }
        }
      ],
      "source": [
        "roc_auc_curve(test[\"merged_or_not\"], y_pred_new_2)"
      ]
    },
    {
      "cell_type": "code",
      "execution_count": null,
      "metadata": {
        "colab": {
          "base_uri": "https://localhost:8080/",
          "height": 53
        },
        "id": "q_cPFr3mpiMY",
        "outputId": "822c4ee0-811e-4fd3-e7ba-195695bff421"
      },
      "outputs": [
        {
          "output_type": "execute_result",
          "data": {
            "text/plain": [
              "'\\nexplainer_new_2 = shap.TreeExplainer(model_new)\\nshap_values_new_2 = explainer_new_2.shap_values(test_new_2)\\n\\nshap.initjs()\\nshap.summary_plot(shap_values_new_2, test_new_2)\\n'"
            ],
            "application/vnd.google.colaboratory.intrinsic+json": {
              "type": "string"
            }
          },
          "metadata": {},
          "execution_count": 54
        }
      ],
      "source": [
        "'''\n",
        "explainer_new_2 = shap.TreeExplainer(model_new)\n",
        "shap_values_new_2 = explainer_new_2.shap_values(test_new_2)\n",
        "\n",
        "shap.initjs()\n",
        "shap.summary_plot(shap_values_new_2, test_new_2)\n",
        "'''"
      ]
    },
    {
      "cell_type": "markdown",
      "metadata": {
        "id": "WxwzgaKBtP4h"
      },
      "source": [
        "Derivatives of feature importance values where dy = the feature importance value itself and dx = the mean of all the feature importance values. Determining the average of the dydx values for threshold."
      ]
    },
    {
      "cell_type": "code",
      "execution_count": null,
      "metadata": {
        "id": "sPIusDvktO6M",
        "colab": {
          "base_uri": "https://localhost:8080/"
        },
        "outputId": "d9a582a0-087d-46e6-d963-7b5014471b6d"
      },
      "outputs": [
        {
          "output_type": "stream",
          "name": "stdout",
          "text": [
            "[ 0.48061898 -0.38096985  0.07009895  1.3881027  -1.5039891  -0.03443496\n",
            " -0.29259875  0.          0.39401954 -0.28601605 -0.10800352  0.66194797\n",
            " -0.66194797  1.0847445   0.10151726 -0.6284176  -0.5578441   2.3569164\n",
            " -2.3569164   1.787705   -1.404324    0.6464745  -0.12637556  0.389382\n",
            " -0.08479452  0.08884608  0.33071423 -1.0986781   2.548703   -2.771058\n",
            "  1.116601    3.2171135  -3.9270647   0.02260775 -0.628635    4.823279\n",
            " -4.9304957   0.5970979  -0.3150751   0.01720082  3.252178   -0.63015956\n",
            " -2.387598   -0.35477203]\n",
            "-0.002143183088099415\n",
            "['contrib_affiliation', 'account_creation_days', 'contrib_follow_integrator', 'pushed_delta', 'prior_interaction', 'ci_test_passed', 'pr_comment_num', 'ci_first_build_status', 'open_pr_num', 'first_pr', 'pr_succ_rate', 'project_age', 'open_issue_num', 'ci_exists', 'bug_fix', 'language', 'fork_num', 'perc_external_contribs', 'contrib_gender', 'core_member', 'test_inclusion', 'perc_inte_neg_emo', 'ci_latency', 'social_strength', 'first_response_time', 'churn_deletion', 'comment_conflict', 'ci_last_build_status', 'churn_addition', 'part_num_issue', 'acc_commit_num', 'perc_inte_neu_emo', 'part_num_commit', 'perc_inte_pos_emo', 'same_affiliation', 'same_country', 'hash_tag', 'contrib_country', 'part_num_code', 'part_num_pr', 'at_tag', 'description_length', 'ci_build_num', 'ci_failed_perc', 'contrib_first_emo']\n",
            "45\n"
          ]
        }
      ],
      "source": [
        "from numpy import diff\n",
        "\n",
        "dx = threshold_1\n",
        "features_dydx = diff(model.feature_importances_)/dx\n",
        "print(features_dydx)\n",
        "\n",
        "sum = 0.0\n",
        "for value in features_dydx:\n",
        "  sum = sum+value\n",
        "threshold_3 = sum/len(features_dydx)\n",
        "print(threshold_3)\n",
        "\n",
        "imp_features_3 = []\n",
        "for index in sorted_idx-1:\n",
        "  for val in features_dydx:\n",
        "    if val > threshold_3:\n",
        "      feature_to_consider_2 = X.columns[index]\n",
        "  imp_features_3.append(feature_to_consider_2)\n",
        "\n",
        "print(imp_features_3)\n",
        "print(len(imp_features_3))"
      ]
    },
    {
      "cell_type": "code",
      "execution_count": null,
      "metadata": {
        "id": "gq7dvYV1u1Bo",
        "colab": {
          "base_uri": "https://localhost:8080/"
        },
        "outputId": "8f8bad65-00f1-4520-92c7-09ec644c465b"
      },
      "outputs": [
        {
          "output_type": "stream",
          "name": "stdout",
          "text": [
            "Computation Time\n",
            "0:02:46.954308\n"
          ]
        }
      ],
      "source": [
        "X_new_3 = pd.DataFrame(columns = imp_features_3)\n",
        "for feature in imp_features_3:\n",
        "  X_new_3[feature] = train[feature]\n",
        "\n",
        "print(\"Computation Time\")\n",
        "start=datetime.now()\n",
        "\n",
        "model_new.fit(X_new_3, y)\n",
        "\n",
        "print(datetime.now()-start)\n",
        "\n",
        "test_new_3 = pd.DataFrame(columns = imp_features_3)\n",
        "for feature in imp_features_3:\n",
        "  test_new_3[feature] = test[feature]\n",
        "\n",
        "y_pred_new_3 = model_new.predict(test_new_3)"
      ]
    },
    {
      "cell_type": "code",
      "execution_count": null,
      "metadata": {
        "id": "w7UxeU7AvejP",
        "colab": {
          "base_uri": "https://localhost:8080/"
        },
        "outputId": "bd949501-8bf4-419b-f864-d05d5ca08d66"
      },
      "outputs": [
        {
          "output_type": "stream",
          "name": "stdout",
          "text": [
            "0.8453240579640883\n"
          ]
        }
      ],
      "source": [
        "results_new_3 = (test[\"merged_or_not\"] == y_pred_new_3)\n",
        "accuracy_new_3 = results_new_3.sum() / results_new_3.size\n",
        "print(accuracy_new_3)"
      ]
    },
    {
      "cell_type": "code",
      "execution_count": null,
      "metadata": {
        "id": "wbJTnizzvnQ0",
        "colab": {
          "base_uri": "https://localhost:8080/",
          "height": 529
        },
        "outputId": "9e848f20-647b-4252-9e09-9275fbffdb15"
      },
      "outputs": [
        {
          "output_type": "stream",
          "name": "stdout",
          "text": [
            "Evaluation for: New Model with better performing features\n",
            "              precision    recall  f1-score   support\n",
            "\n",
            "    Rejected      0.744     0.281     0.408    126934\n",
            "    Accepted      0.853     0.977     0.911    542653\n",
            "\n",
            "    accuracy                          0.845    669587\n",
            "   macro avg      0.798     0.629     0.659    669587\n",
            "weighted avg      0.832     0.845     0.816    669587\n",
            "\n"
          ]
        },
        {
          "output_type": "display_data",
          "data": {
            "text/plain": [
              "<Figure size 360x360 with 2 Axes>"
            ],
            "image/png": "[encoded data removed]"
          },
          "metadata": {
            "needs_background": "light"
          }
        }
      ],
      "source": [
        "print(evaluation_summary(\"New Model with better performing features\", test[\"merged_or_not\"], y_pred_new_3 , target_classes))"
      ]
    },
    {
      "cell_type": "code",
      "execution_count": null,
      "metadata": {
        "id": "9OGFJOGsvpVh",
        "colab": {
          "base_uri": "https://localhost:8080/",
          "height": 350
        },
        "outputId": "ac54ca96-dc38-46e4-93dd-58f36a333a2e"
      },
      "outputs": [
        {
          "output_type": "display_data",
          "data": {
            "text/plain": [
              "<Figure size 360x360 with 1 Axes>"
            ],
            "image/png": "[encoded data removed]"
          },
          "metadata": {
            "needs_background": "light"
          }
        }
      ],
      "source": [
        "roc_auc_curve(test[\"merged_or_not\"], y_pred_new_3)"
      ]
    },
    {
      "cell_type": "code",
      "execution_count": null,
      "metadata": {
        "colab": {
          "base_uri": "https://localhost:8080/",
          "height": 53
        },
        "id": "NKqWzW7svvdr",
        "outputId": "d8733533-4580-42b2-ef40-a0f9d7375309"
      },
      "outputs": [
        {
          "output_type": "execute_result",
          "data": {
            "text/plain": [
              "'\\nexplainer_new_3 = shap.TreeExplainer(model_new)\\nshap_values_new_3 = explainer_new_3.shap_values(test_new_3)\\n\\nshap.initjs()\\nshap.summary_plot(shap_values_new_3, test_new_3)\\n'"
            ],
            "application/vnd.google.colaboratory.intrinsic+json": {
              "type": "string"
            }
          },
          "metadata": {},
          "execution_count": 60
        }
      ],
      "source": [
        "'''\n",
        "explainer_new_3 = shap.TreeExplainer(model_new)\n",
        "shap_values_new_3 = explainer_new_3.shap_values(test_new_3)\n",
        "\n",
        "shap.initjs()\n",
        "shap.summary_plot(shap_values_new_3, test_new_3)\n",
        "'''"
      ]
    },
    {
      "cell_type": "markdown",
      "metadata": {
        "id": "GlPrVSuovkdn"
      },
      "source": [
        ""
      ]
    },
    {
      "cell_type": "markdown",
      "metadata": {
        "id": "FP3JD_VzPscs"
      },
      "source": [
        "Feature Selection with information gain and entropy.\n",
        "[Here](https://www.kaggle.com/code/ma7555/decision-trees-information-gain-from-scratch), [here](https://https://www.sciencedirect.com/science/article/pii/S0957417420302001)."
      ]
    },
    {
      "cell_type": "markdown",
      "metadata": {
        "id": "oAQFRNJcoujb"
      },
      "source": [
        "Information gain and entropy for feature selection."
      ]
    },
    {
      "cell_type": "code",
      "execution_count": null,
      "metadata": {
        "id": "movy7LUdo0yX",
        "colab": {
          "base_uri": "https://localhost:8080/",
          "height": 143
        },
        "outputId": "6e4da213-4d38-4ca9-db3c-86bdcc127550"
      },
      "outputs": [
        {
          "output_type": "execute_result",
          "data": {
            "text/plain": [
              "'\\nimport math\\nfrom collections import Counter\\n\\nfeature_gain = pd.DataFrame(columns = [\"feature\", \"gain\"])\\n\\ndef entropy(labels):\\n    entropy=0\\n    label_counts = Counter(labels)\\n    for label in label_counts:\\n        prob_of_label = label_counts[label] / len(labels)\\n        entropy -= prob_of_label * math.log2(prob_of_label)\\n    return entropy\\n\\ndef information_gain(starting_labels, split_labels):\\n    info_gain = entropy(starting_labels)\\n    for branched_subset in split_labels:\\n        info_gain -= len(branched_subset) * entropy(branched_subset) / len(starting_labels)\\n    return info_gain\\n\\ndef split(dataset, column):\\n    split_data = []\\n    col_vals = dataset[column].unique()\\n    for col_val in col_vals:\\n        split_data.append(dataset[dataset[column] == col_val])\\n    return(split_data)\\n\\ndef find_best_split(dataset):\\n  global feature_gain \\n  feature_gain = pd.DataFrame(columns=[\\'feature\\', \\'gain\\'])\\n  best_gain = 0\\n  best_feature = 0\\n  features = list(dataset.columns)\\n  features.remove(\\'merged_or_not\\')\\n  for feature in features:\\n    split_data = split(dataset, feature)\\n    split_labels = [dataframe[\\'merged_or_not\\'] for dataframe in split_data]\\n    gain = information_gain(dataset[\\'merged_or_not\\'], split_labels)\\n    new_row = {\\'feature\\': feature, \\'gain\\': gain}\\n    feature_gain = feature_gain.append(new_row, ignore_index = True)\\n    if gain>best_gain:\\n      best_gain = gain\\n      best_feature = feature\\n  return best_feature, best_gain\\n\\nnew_data = split(train, find_best_split(train)[0])\\n'"
            ],
            "application/vnd.google.colaboratory.intrinsic+json": {
              "type": "string"
            }
          },
          "metadata": {},
          "execution_count": 61
        }
      ],
      "source": [
        "'''\n",
        "import math\n",
        "from collections import Counter\n",
        "\n",
        "feature_gain = pd.DataFrame(columns = [\"feature\", \"gain\"])\n",
        "\n",
        "def entropy(labels):\n",
        "    entropy=0\n",
        "    label_counts = Counter(labels)\n",
        "    for label in label_counts:\n",
        "        prob_of_label = label_counts[label] / len(labels)\n",
        "        entropy -= prob_of_label * math.log2(prob_of_label)\n",
        "    return entropy\n",
        "\n",
        "def information_gain(starting_labels, split_labels):\n",
        "    info_gain = entropy(starting_labels)\n",
        "    for branched_subset in split_labels:\n",
        "        info_gain -= len(branched_subset) * entropy(branched_subset) / len(starting_labels)\n",
        "    return info_gain\n",
        "\n",
        "def split(dataset, column):\n",
        "    split_data = []\n",
        "    col_vals = dataset[column].unique()\n",
        "    for col_val in col_vals:\n",
        "        split_data.append(dataset[dataset[column] == col_val])\n",
        "    return(split_data)\n",
        "\n",
        "def find_best_split(dataset):\n",
        "  global feature_gain \n",
        "  feature_gain = pd.DataFrame(columns=['feature', 'gain'])\n",
        "  best_gain = 0\n",
        "  best_feature = 0\n",
        "  features = list(dataset.columns)\n",
        "  features.remove('merged_or_not')\n",
        "  for feature in features:\n",
        "    split_data = split(dataset, feature)\n",
        "    split_labels = [dataframe['merged_or_not'] for dataframe in split_data]\n",
        "    gain = information_gain(dataset['merged_or_not'], split_labels)\n",
        "    new_row = {'feature': feature, 'gain': gain}\n",
        "    feature_gain = feature_gain.append(new_row, ignore_index = True)\n",
        "    if gain>best_gain:\n",
        "      best_gain = gain\n",
        "      best_feature = feature\n",
        "  return best_feature, best_gain\n",
        "\n",
        "new_data = split(train, find_best_split(train)[0])\n",
        "'''"
      ]
    },
    {
      "cell_type": "code",
      "execution_count": null,
      "metadata": {
        "id": "emPEjstGDKCM",
        "colab": {
          "base_uri": "https://localhost:8080/",
          "height": 35
        },
        "outputId": "9e0138b4-bb9c-4a2d-9d17-5642d047b491"
      },
      "outputs": [
        {
          "output_type": "execute_result",
          "data": {
            "text/plain": [
              "'\\nfeature_gain.head(5)\\n'"
            ],
            "application/vnd.google.colaboratory.intrinsic+json": {
              "type": "string"
            }
          },
          "metadata": {},
          "execution_count": 62
        }
      ],
      "source": [
        "'''\n",
        "feature_gain.head(5)\n",
        "'''"
      ]
    },
    {
      "cell_type": "code",
      "execution_count": null,
      "metadata": {
        "id": "o_BQkWR31WYb",
        "colab": {
          "base_uri": "https://localhost:8080/",
          "height": 53
        },
        "outputId": "0316f9ca-b3bb-488f-b9d3-bafd532ff95d"
      },
      "outputs": [
        {
          "output_type": "execute_result",
          "data": {
            "text/plain": [
              "\"\\nfeature_gain['top_most']=np.where(feature_gain['gain'].cumsum()<=feature_gain['gain'].sum() * 0.2,0,1)\\nfeature_gain.sort_index(inplace=True)\\n\\nfeature_gain\\n\""
            ],
            "application/vnd.google.colaboratory.intrinsic+json": {
              "type": "string"
            }
          },
          "metadata": {},
          "execution_count": 63
        }
      ],
      "source": [
        "'''\n",
        "feature_gain['top_most']=np.where(feature_gain['gain'].cumsum()<=feature_gain['gain'].sum() * 0.2,0,1)\n",
        "feature_gain.sort_index(inplace=True)\n",
        "\n",
        "feature_gain\n",
        "'''"
      ]
    },
    {
      "cell_type": "code",
      "execution_count": null,
      "metadata": {
        "id": "cT2OAmMBuLWb",
        "colab": {
          "base_uri": "https://localhost:8080/",
          "height": 35
        },
        "outputId": "54272d58-0261-491a-ca95-af2a545b7964"
      },
      "outputs": [
        {
          "output_type": "execute_result",
          "data": {
            "text/plain": [
              "'\\nsum = 0.0\\nfor rows in feature_gain.itertuples():\\n  sum = sum+rows.gain\\n\\nthreshold_4 = sum/len(feature_gain)\\nprint(threshold_4)\\n'"
            ],
            "application/vnd.google.colaboratory.intrinsic+json": {
              "type": "string"
            }
          },
          "metadata": {},
          "execution_count": 64
        }
      ],
      "source": [
        "'''\n",
        "sum = 0.0\n",
        "for rows in feature_gain.itertuples():\n",
        "  sum = sum+rows.gain\n",
        "\n",
        "threshold_4 = sum/len(feature_gain)\n",
        "print(threshold_4)\n",
        "'''"
      ]
    },
    {
      "cell_type": "code",
      "execution_count": null,
      "metadata": {
        "id": "zOlheb-gxQOj",
        "colab": {
          "base_uri": "https://localhost:8080/",
          "height": 53
        },
        "outputId": "65f8d838-1165-4f43-9714-f59122c084da"
      },
      "outputs": [
        {
          "output_type": "execute_result",
          "data": {
            "text/plain": [
              "'\\nimp_features_4 = []\\nfor rows in feature_gain.itertuples():\\n  if rows.gain>=threshold_4:\\n    imp_features_4.append(rows.feature)\\n\\nprint(imp_features_4)\\nprint(len(imp_features_4))\\n'"
            ],
            "application/vnd.google.colaboratory.intrinsic+json": {
              "type": "string"
            }
          },
          "metadata": {},
          "execution_count": 65
        }
      ],
      "source": [
        "'''\n",
        "imp_features_4 = []\n",
        "for rows in feature_gain.itertuples():\n",
        "  if rows.gain>=threshold_4:\n",
        "    imp_features_4.append(rows.feature)\n",
        "\n",
        "print(imp_features_4)\n",
        "print(len(imp_features_4))\n",
        "'''"
      ]
    },
    {
      "cell_type": "code",
      "execution_count": null,
      "metadata": {
        "id": "c4r4_dexzAGp",
        "colab": {
          "base_uri": "https://localhost:8080/",
          "height": 71
        },
        "outputId": "15169e0f-e5c9-4e2a-d9f7-fbe40828ef28"
      },
      "outputs": [
        {
          "output_type": "execute_result",
          "data": {
            "text/plain": [
              "'\\nX_new_4 = pd.DataFrame(columns = imp_features_4)\\nfor feature in imp_features_4:\\n  X_new_4[feature] = train[feature]\\n\\nprint(\"Computation Time\")\\nstart=datetime.now()\\n\\nmodel_new.fit(X_new_4, y)\\n\\nprint(datetime.now()-start)\\n\\ntest_new_4 = pd.DataFrame(columns = imp_features_4)\\nfor feature in imp_features_4:\\n  test_new_4[feature] = test[feature]\\n\\ny_pred_new_4 = model_new.predict(test_new_4)\\n'"
            ],
            "application/vnd.google.colaboratory.intrinsic+json": {
              "type": "string"
            }
          },
          "metadata": {},
          "execution_count": 66
        }
      ],
      "source": [
        "'''\n",
        "X_new_4 = pd.DataFrame(columns = imp_features_4)\n",
        "for feature in imp_features_4:\n",
        "  X_new_4[feature] = train[feature]\n",
        "\n",
        "print(\"Computation Time\")\n",
        "start=datetime.now()\n",
        "\n",
        "model_new.fit(X_new_4, y)\n",
        "\n",
        "print(datetime.now()-start)\n",
        "\n",
        "test_new_4 = pd.DataFrame(columns = imp_features_4)\n",
        "for feature in imp_features_4:\n",
        "  test_new_4[feature] = test[feature]\n",
        "\n",
        "y_pred_new_4 = model_new.predict(test_new_4)\n",
        "'''"
      ]
    },
    {
      "cell_type": "code",
      "execution_count": null,
      "metadata": {
        "id": "Pswo8ZZczHOX",
        "colab": {
          "base_uri": "https://localhost:8080/",
          "height": 35
        },
        "outputId": "0cac1887-ffad-4349-ee63-3a63ca1d55dd"
      },
      "outputs": [
        {
          "output_type": "execute_result",
          "data": {
            "text/plain": [
              "'\\nresults_new_4 = (test[\"merged_or_not\"] == y_pred_new_4)\\naccuracy_new_4 = results_new_4.sum() / results_new_4.size\\nprint(accuracy_new_4)\\n'"
            ],
            "application/vnd.google.colaboratory.intrinsic+json": {
              "type": "string"
            }
          },
          "metadata": {},
          "execution_count": 67
        }
      ],
      "source": [
        "'''\n",
        "results_new_4 = (test[\"merged_or_not\"] == y_pred_new_4)\n",
        "accuracy_new_4 = results_new_4.sum() / results_new_4.size\n",
        "print(accuracy_new_4)\n",
        "'''"
      ]
    },
    {
      "cell_type": "code",
      "execution_count": null,
      "metadata": {
        "id": "czhyWycrzOAU",
        "colab": {
          "base_uri": "https://localhost:8080/",
          "height": 35
        },
        "outputId": "2d23495f-d3c0-4c2b-edc3-6b90d28865ed"
      },
      "outputs": [
        {
          "output_type": "execute_result",
          "data": {
            "text/plain": [
              "'\\nprint(evaluation_summary(\"New Model with better performing features\", test[\"merged_or_not\"], y_pred_new_4, target_classes))\\n'"
            ],
            "application/vnd.google.colaboratory.intrinsic+json": {
              "type": "string"
            }
          },
          "metadata": {},
          "execution_count": 68
        }
      ],
      "source": [
        "'''\n",
        "print(evaluation_summary(\"New Model with better performing features\", test[\"merged_or_not\"], y_pred_new_4, target_classes))\n",
        "'''"
      ]
    },
    {
      "cell_type": "code",
      "execution_count": null,
      "metadata": {
        "id": "Zj6baTddzTUV",
        "colab": {
          "base_uri": "https://localhost:8080/",
          "height": 35
        },
        "outputId": "8b7d012b-e127-4d11-dbf7-ec43066f9257"
      },
      "outputs": [
        {
          "output_type": "execute_result",
          "data": {
            "text/plain": [
              "'\\nroc_auc_curve(test[\"merged_or_not\"], y_pred_new_4)\\n'"
            ],
            "application/vnd.google.colaboratory.intrinsic+json": {
              "type": "string"
            }
          },
          "metadata": {},
          "execution_count": 69
        }
      ],
      "source": [
        "'''\n",
        "roc_auc_curve(test[\"merged_or_not\"], y_pred_new_4)\n",
        "'''"
      ]
    },
    {
      "cell_type": "code",
      "execution_count": null,
      "metadata": {
        "id": "6saNShOb1wxq",
        "colab": {
          "base_uri": "https://localhost:8080/",
          "height": 53
        },
        "outputId": "1bbd58a1-685e-4f74-e7c0-03dda84ed00d"
      },
      "outputs": [
        {
          "output_type": "execute_result",
          "data": {
            "text/plain": [
              "'\\nimp_features_5 = []\\nfor rows in feature_gain.itertuples():\\n  if rows.top_most == 1:\\n    imp_features_5.append(rows.feature)\\n\\nprint(imp_features_5)\\nprint(len(imp_features_5))\\n'"
            ],
            "application/vnd.google.colaboratory.intrinsic+json": {
              "type": "string"
            }
          },
          "metadata": {},
          "execution_count": 70
        }
      ],
      "source": [
        "'''\n",
        "imp_features_5 = []\n",
        "for rows in feature_gain.itertuples():\n",
        "  if rows.top_most == 1:\n",
        "    imp_features_5.append(rows.feature)\n",
        "\n",
        "print(imp_features_5)\n",
        "print(len(imp_features_5))\n",
        "'''"
      ]
    },
    {
      "cell_type": "code",
      "execution_count": null,
      "metadata": {
        "id": "P9dsKuK52BAf",
        "colab": {
          "base_uri": "https://localhost:8080/",
          "height": 71
        },
        "outputId": "ce94d97f-1ef9-4d20-8946-9cef06c53623"
      },
      "outputs": [
        {
          "output_type": "execute_result",
          "data": {
            "text/plain": [
              "'\\nX_new_5 = pd.DataFrame(columns = imp_features_5)\\nfor feature in imp_features_5:\\n  X_new_5[feature] = train[feature]\\n\\nmodel_new.fit(X_new_5, y)\\n\\ntest_new_5 = pd.DataFrame(columns = imp_features_5)\\nfor feature in imp_features_5:\\n  test_new_5[feature] = test[feature]\\n\\ny_pred_new_5 = model_new.predict(test_new_5)\\n\\nprint(\"Computation Time\")\\nstart=datetime.now()\\nprint(datetime.now()-start)\\n'"
            ],
            "application/vnd.google.colaboratory.intrinsic+json": {
              "type": "string"
            }
          },
          "metadata": {},
          "execution_count": 71
        }
      ],
      "source": [
        "'''\n",
        "X_new_5 = pd.DataFrame(columns = imp_features_5)\n",
        "for feature in imp_features_5:\n",
        "  X_new_5[feature] = train[feature]\n",
        "\n",
        "model_new.fit(X_new_5, y)\n",
        "\n",
        "test_new_5 = pd.DataFrame(columns = imp_features_5)\n",
        "for feature in imp_features_5:\n",
        "  test_new_5[feature] = test[feature]\n",
        "\n",
        "y_pred_new_5 = model_new.predict(test_new_5)\n",
        "\n",
        "print(\"Computation Time\")\n",
        "start=datetime.now()\n",
        "print(datetime.now()-start)\n",
        "'''"
      ]
    },
    {
      "cell_type": "code",
      "execution_count": null,
      "metadata": {
        "id": "_MJKQF3mVvLg"
      },
      "outputs": [],
      "source": [
        "#X_new_5"
      ]
    },
    {
      "cell_type": "code",
      "execution_count": null,
      "metadata": {
        "id": "QBgxkVWJVz8W"
      },
      "outputs": [],
      "source": [
        "#y"
      ]
    },
    {
      "cell_type": "code",
      "execution_count": null,
      "metadata": {
        "id": "TIA5qzCq2HlP",
        "colab": {
          "base_uri": "https://localhost:8080/",
          "height": 35
        },
        "outputId": "b9e6c0d5-f8a7-49ff-9052-9e90923069a8"
      },
      "outputs": [
        {
          "output_type": "execute_result",
          "data": {
            "text/plain": [
              "'\\nresults_new_5 = (test_results == y_pred_new_5)\\naccuracy_new_5 = results_new_5.sum() / results_new_5.size\\nprint(accuracy_new_5)\\n'"
            ],
            "application/vnd.google.colaboratory.intrinsic+json": {
              "type": "string"
            }
          },
          "metadata": {},
          "execution_count": 74
        }
      ],
      "source": [
        "'''\n",
        "results_new_5 = (test_results == y_pred_new_5)\n",
        "accuracy_new_5 = results_new_5.sum() / results_new_5.size\n",
        "print(accuracy_new_5)\n",
        "'''"
      ]
    },
    {
      "cell_type": "code",
      "execution_count": null,
      "metadata": {
        "id": "yIZuhHqB2Nvf",
        "colab": {
          "base_uri": "https://localhost:8080/",
          "height": 35
        },
        "outputId": "95291009-0ee7-4781-8d78-f847403d79a7"
      },
      "outputs": [
        {
          "output_type": "execute_result",
          "data": {
            "text/plain": [
              "'\\nprint(evaluation_summary(\"New Model with better performing features\", test_results, y_pred_new_5, target_classes))\\n'"
            ],
            "application/vnd.google.colaboratory.intrinsic+json": {
              "type": "string"
            }
          },
          "metadata": {},
          "execution_count": 75
        }
      ],
      "source": [
        "'''\n",
        "print(evaluation_summary(\"New Model with better performing features\", test_results, y_pred_new_5, target_classes))\n",
        "'''"
      ]
    },
    {
      "cell_type": "code",
      "execution_count": null,
      "metadata": {
        "id": "0IpXmOW22SHY"
      },
      "outputs": [],
      "source": [
        "#roc_auc_curve(test_results, y_pred_new_5)"
      ]
    },
    {
      "cell_type": "markdown",
      "metadata": {
        "id": "2vSrs42uMdoA"
      },
      "source": [
        "Using derivative."
      ]
    },
    {
      "cell_type": "code",
      "execution_count": null,
      "metadata": {
        "id": "mMTxYObENlzq",
        "colab": {
          "base_uri": "https://localhost:8080/",
          "height": 522
        },
        "outputId": "4cd3389d-5cd4-4b26-8195-947e8df2a8a7"
      },
      "outputs": [
        {
          "output_type": "execute_result",
          "data": {
            "text/plain": [
              "              id  project_id  github_id  pull_request_id           ownername  \\\n",
              "1673968  1673969    16160044       1198         35541685       projectatomic   \n",
              "1673969  1673970     4314311       2007         11518322            keycloak   \n",
              "1673970  1673971    88889162        245         61433613   ministryofjustice   \n",
              "1673971  1673972     8804952       2436         27958680         SonarSource   \n",
              "1673972  1673973    26051663         91          9852622                JMRI   \n",
              "...          ...         ...        ...              ...                 ...   \n",
              "3347932  3347933    30544060        258         25263316  Kronos-Integration   \n",
              "3347933  3347934        1142      27876          9812944           saltstack   \n",
              "3347934  3347935    31499094        444         19063491              mjmlio   \n",
              "3347935  3347936       55317        651          2087506             zotonic   \n",
              "3347936  3347937     5660659        310         27871263           ikasanEIP   \n",
              "\n",
              "                      reponame  merged_or_not  lifetime_minutes  \\\n",
              "1673968                 atomic              0               143   \n",
              "1673969               keycloak              1                55   \n",
              "1673970                    et3              0              1696   \n",
              "1673971              sonarqube              1              3640   \n",
              "1673972                   JMRI              1                 0   \n",
              "...                        ...            ...               ...   \n",
              "3347932  kronos-service-consul              1                 9   \n",
              "3347933                   salt              0              1165   \n",
              "3347934                   mjml              1              8834   \n",
              "3347935                zotonic              0               703   \n",
              "3347936                 ikasan              1                44   \n",
              "\n",
              "         mergetime_minutes  num_commits  ...  other_comment  num_comments_con  \\\n",
              "1673968                NaN            2  ...              0                 2   \n",
              "1673969               55.0            1  ...              0                 0   \n",
              "1673970                NaN           12  ...              0                 0   \n",
              "1673971             3640.0            2  ...              0                 0   \n",
              "1673972                0.0            1  ...              0                 0   \n",
              "...                    ...          ...  ...            ...               ...   \n",
              "3347932                9.0            1  ...              0                 0   \n",
              "3347933                NaN            1  ...              0                 1   \n",
              "3347934             8834.0            2  ...              0                 8   \n",
              "3347935                NaN            7  ...              0                 0   \n",
              "3347936               44.0           29  ...              0                 2   \n",
              "\n",
              "         num_code_comments  num_code_comments_con  integrator_availability  \\\n",
              "1673968                  0                      0                     19.0   \n",
              "1673969                  0                      0                      9.0   \n",
              "1673970                  0                      0                   1896.0   \n",
              "1673971                  0                      0                     58.0   \n",
              "1673972                  0                      0                     14.0   \n",
              "...                    ...                    ...                      ...   \n",
              "3347932                  0                      0                   2537.0   \n",
              "3347933                  0                      0                     42.0   \n",
              "3347934                  0                      0                    597.0   \n",
              "3347935                  0                      0                     10.0   \n",
              "3347936                  1                      1                    332.0   \n",
              "\n",
              "         friday_effect  contrib_rate_author  reopen_or_not  \\\n",
              "1673968              0             0.305247              0   \n",
              "1673969              0             0.148940              0   \n",
              "1673970              0             0.038939              0   \n",
              "1673971              1             0.150121              0   \n",
              "1673972              0             0.002150              0   \n",
              "...                ...                  ...            ...   \n",
              "3347932              0             0.696970              0   \n",
              "3347933              0             0.056849              0   \n",
              "3347934              0             0.002041              0   \n",
              "3347935              0             0.000732              0   \n",
              "3347936              0             0.208889              0   \n",
              "\n",
              "         first_close_minutes  reopen_num  \n",
              "1673968                  143           0  \n",
              "1673969                   55           0  \n",
              "1673970                 1696           0  \n",
              "1673971                 3640           0  \n",
              "1673972                    0           0  \n",
              "...                      ...         ...  \n",
              "3347932                    9           0  \n",
              "3347933                 1165           0  \n",
              "3347934                 8834           0  \n",
              "3347935                  703           0  \n",
              "3347936                   44           0  \n",
              "\n",
              "[1673969 rows x 120 columns]"
            ],
            "text/html": [
              "\n",
              "  <div id=\"df-713dbb54-913b-430c-9617-69568436f4e3\">\n",
              "    <div class=\"colab-df-container\">\n",
              "      <div>\n",
              "<style scoped>\n",
              "    .dataframe tbody tr th:only-of-type {\n",
              "        vertical-align: middle;\n",
              "    }\n",
              "\n",
              "    .dataframe tbody tr th {\n",
              "        vertical-align: top;\n",
              "    }\n",
              "\n",
              "    .dataframe thead th {\n",
              "        text-align: right;\n",
              "    }\n",
              "</style>\n",
              "<table border=\"1\" class=\"dataframe\">\n",
              "  <thead>\n",
              "    <tr style=\"text-align: right;\">\n",
              "      <th></th>\n",
              "      <th>id</th>\n",
              "      <th>project_id</th>\n",
              "      <th>github_id</th>\n",
              "      <th>pull_request_id</th>\n",
              "      <th>ownername</th>\n",
              "      <th>reponame</th>\n",
              "      <th>merged_or_not</th>\n",
              "      <th>lifetime_minutes</th>\n",
              "      <th>mergetime_minutes</th>\n",
              "      <th>num_commits</th>\n",
              "      <th>...</th>\n",
              "      <th>other_comment</th>\n",
              "      <th>num_comments_con</th>\n",
              "      <th>num_code_comments</th>\n",
              "      <th>num_code_comments_con</th>\n",
              "      <th>integrator_availability</th>\n",
              "      <th>friday_effect</th>\n",
              "      <th>contrib_rate_author</th>\n",
              "      <th>reopen_or_not</th>\n",
              "      <th>first_close_minutes</th>\n",
              "      <th>reopen_num</th>\n",
              "    </tr>\n",
              "  </thead>\n",
              "  <tbody>\n",
              "    <tr>\n",
              "      <th>1673968</th>\n",
              "      <td>1673969</td>\n",
              "      <td>16160044</td>\n",
              "      <td>1198</td>\n",
              "      <td>35541685</td>\n",
              "      <td>projectatomic</td>\n",
              "      <td>atomic</td>\n",
              "      <td>0</td>\n",
              "      <td>143</td>\n",
              "      <td>NaN</td>\n",
              "      <td>2</td>\n",
              "      <td>...</td>\n",
              "      <td>0</td>\n",
              "      <td>2</td>\n",
              "      <td>0</td>\n",
              "      <td>0</td>\n",
              "      <td>19.0</td>\n",
              "      <td>0</td>\n",
              "      <td>0.305247</td>\n",
              "      <td>0</td>\n",
              "      <td>143</td>\n",
              "      <td>0</td>\n",
              "    </tr>\n",
              "    <tr>\n",
              "      <th>1673969</th>\n",
              "      <td>1673970</td>\n",
              "      <td>4314311</td>\n",
              "      <td>2007</td>\n",
              "      <td>11518322</td>\n",
              "      <td>keycloak</td>\n",
              "      <td>keycloak</td>\n",
              "      <td>1</td>\n",
              "      <td>55</td>\n",
              "      <td>55.0</td>\n",
              "      <td>1</td>\n",
              "      <td>...</td>\n",
              "      <td>0</td>\n",
              "      <td>0</td>\n",
              "      <td>0</td>\n",
              "      <td>0</td>\n",
              "      <td>9.0</td>\n",
              "      <td>0</td>\n",
              "      <td>0.148940</td>\n",
              "      <td>0</td>\n",
              "      <td>55</td>\n",
              "      <td>0</td>\n",
              "    </tr>\n",
              "    <tr>\n",
              "      <th>1673970</th>\n",
              "      <td>1673971</td>\n",
              "      <td>88889162</td>\n",
              "      <td>245</td>\n",
              "      <td>61433613</td>\n",
              "      <td>ministryofjustice</td>\n",
              "      <td>et3</td>\n",
              "      <td>0</td>\n",
              "      <td>1696</td>\n",
              "      <td>NaN</td>\n",
              "      <td>12</td>\n",
              "      <td>...</td>\n",
              "      <td>0</td>\n",
              "      <td>0</td>\n",
              "      <td>0</td>\n",
              "      <td>0</td>\n",
              "      <td>1896.0</td>\n",
              "      <td>0</td>\n",
              "      <td>0.038939</td>\n",
              "      <td>0</td>\n",
              "      <td>1696</td>\n",
              "      <td>0</td>\n",
              "    </tr>\n",
              "    <tr>\n",
              "      <th>1673971</th>\n",
              "      <td>1673972</td>\n",
              "      <td>8804952</td>\n",
              "      <td>2436</td>\n",
              "      <td>27958680</td>\n",
              "      <td>SonarSource</td>\n",
              "      <td>sonarqube</td>\n",
              "      <td>1</td>\n",
              "      <td>3640</td>\n",
              "      <td>3640.0</td>\n",
              "      <td>2</td>\n",
              "      <td>...</td>\n",
              "      <td>0</td>\n",
              "      <td>0</td>\n",
              "      <td>0</td>\n",
              "      <td>0</td>\n",
              "      <td>58.0</td>\n",
              "      <td>1</td>\n",
              "      <td>0.150121</td>\n",
              "      <td>0</td>\n",
              "      <td>3640</td>\n",
              "      <td>0</td>\n",
              "    </tr>\n",
              "    <tr>\n",
              "      <th>1673972</th>\n",
              "      <td>1673973</td>\n",
              "      <td>26051663</td>\n",
              "      <td>91</td>\n",
              "      <td>9852622</td>\n",
              "      <td>JMRI</td>\n",
              "      <td>JMRI</td>\n",
              "      <td>1</td>\n",
              "      <td>0</td>\n",
              "      <td>0.0</td>\n",
              "      <td>1</td>\n",
              "      <td>...</td>\n",
              "      <td>0</td>\n",
              "      <td>0</td>\n",
              "      <td>0</td>\n",
              "      <td>0</td>\n",
              "      <td>14.0</td>\n",
              "      <td>0</td>\n",
              "      <td>0.002150</td>\n",
              "      <td>0</td>\n",
              "      <td>0</td>\n",
              "      <td>0</td>\n",
              "    </tr>\n",
              "    <tr>\n",
              "      <th>...</th>\n",
              "      <td>...</td>\n",
              "      <td>...</td>\n",
              "      <td>...</td>\n",
              "      <td>...</td>\n",
              "      <td>...</td>\n",
              "      <td>...</td>\n",
              "      <td>...</td>\n",
              "      <td>...</td>\n",
              "      <td>...</td>\n",
              "      <td>...</td>\n",
              "      <td>...</td>\n",
              "      <td>...</td>\n",
              "      <td>...</td>\n",
              "      <td>...</td>\n",
              "      <td>...</td>\n",
              "      <td>...</td>\n",
              "      <td>...</td>\n",
              "      <td>...</td>\n",
              "      <td>...</td>\n",
              "      <td>...</td>\n",
              "      <td>...</td>\n",
              "    </tr>\n",
              "    <tr>\n",
              "      <th>3347932</th>\n",
              "      <td>3347933</td>\n",
              "      <td>30544060</td>\n",
              "      <td>258</td>\n",
              "      <td>25263316</td>\n",
              "      <td>Kronos-Integration</td>\n",
              "      <td>kronos-service-consul</td>\n",
              "      <td>1</td>\n",
              "      <td>9</td>\n",
              "      <td>9.0</td>\n",
              "      <td>1</td>\n",
              "      <td>...</td>\n",
              "      <td>0</td>\n",
              "      <td>0</td>\n",
              "      <td>0</td>\n",
              "      <td>0</td>\n",
              "      <td>2537.0</td>\n",
              "      <td>0</td>\n",
              "      <td>0.696970</td>\n",
              "      <td>0</td>\n",
              "      <td>9</td>\n",
              "      <td>0</td>\n",
              "    </tr>\n",
              "    <tr>\n",
              "      <th>3347933</th>\n",
              "      <td>3347934</td>\n",
              "      <td>1142</td>\n",
              "      <td>27876</td>\n",
              "      <td>9812944</td>\n",
              "      <td>saltstack</td>\n",
              "      <td>salt</td>\n",
              "      <td>0</td>\n",
              "      <td>1165</td>\n",
              "      <td>NaN</td>\n",
              "      <td>1</td>\n",
              "      <td>...</td>\n",
              "      <td>0</td>\n",
              "      <td>1</td>\n",
              "      <td>0</td>\n",
              "      <td>0</td>\n",
              "      <td>42.0</td>\n",
              "      <td>0</td>\n",
              "      <td>0.056849</td>\n",
              "      <td>0</td>\n",
              "      <td>1165</td>\n",
              "      <td>0</td>\n",
              "    </tr>\n",
              "    <tr>\n",
              "      <th>3347934</th>\n",
              "      <td>3347935</td>\n",
              "      <td>31499094</td>\n",
              "      <td>444</td>\n",
              "      <td>19063491</td>\n",
              "      <td>mjmlio</td>\n",
              "      <td>mjml</td>\n",
              "      <td>1</td>\n",
              "      <td>8834</td>\n",
              "      <td>8834.0</td>\n",
              "      <td>2</td>\n",
              "      <td>...</td>\n",
              "      <td>0</td>\n",
              "      <td>8</td>\n",
              "      <td>0</td>\n",
              "      <td>0</td>\n",
              "      <td>597.0</td>\n",
              "      <td>0</td>\n",
              "      <td>0.002041</td>\n",
              "      <td>0</td>\n",
              "      <td>8834</td>\n",
              "      <td>0</td>\n",
              "    </tr>\n",
              "    <tr>\n",
              "      <th>3347935</th>\n",
              "      <td>3347936</td>\n",
              "      <td>55317</td>\n",
              "      <td>651</td>\n",
              "      <td>2087506</td>\n",
              "      <td>zotonic</td>\n",
              "      <td>zotonic</td>\n",
              "      <td>0</td>\n",
              "      <td>703</td>\n",
              "      <td>NaN</td>\n",
              "      <td>7</td>\n",
              "      <td>...</td>\n",
              "      <td>0</td>\n",
              "      <td>0</td>\n",
              "      <td>0</td>\n",
              "      <td>0</td>\n",
              "      <td>10.0</td>\n",
              "      <td>0</td>\n",
              "      <td>0.000732</td>\n",
              "      <td>0</td>\n",
              "      <td>703</td>\n",
              "      <td>0</td>\n",
              "    </tr>\n",
              "    <tr>\n",
              "      <th>3347936</th>\n",
              "      <td>3347937</td>\n",
              "      <td>5660659</td>\n",
              "      <td>310</td>\n",
              "      <td>27871263</td>\n",
              "      <td>ikasanEIP</td>\n",
              "      <td>ikasan</td>\n",
              "      <td>1</td>\n",
              "      <td>44</td>\n",
              "      <td>44.0</td>\n",
              "      <td>29</td>\n",
              "      <td>...</td>\n",
              "      <td>0</td>\n",
              "      <td>2</td>\n",
              "      <td>1</td>\n",
              "      <td>1</td>\n",
              "      <td>332.0</td>\n",
              "      <td>0</td>\n",
              "      <td>0.208889</td>\n",
              "      <td>0</td>\n",
              "      <td>44</td>\n",
              "      <td>0</td>\n",
              "    </tr>\n",
              "  </tbody>\n",
              "</table>\n",
              "<p>1673969 rows × 120 columns</p>\n",
              "</div>\n",
              "      <button class=\"colab-df-convert\" onclick=\"convertToInteractive('df-713dbb54-913b-430c-9617-69568436f4e3')\"\n",
              "              title=\"Convert this dataframe to an interactive table.\"\n",
              "              style=\"display:none;\">\n",
              "        \n",
              "  <svg xmlns=\"http://www.w3.org/2000/svg\" height=\"24px\"viewBox=\"0 0 24 24\"\n",
              "       width=\"24px\">\n",
              "    <path d=\"M0 0h24v24H0V0z\" fill=\"none\"/>\n",
              "    <path d=\"M18.56 5.44l.94 2.06.94-2.06 2.06-.94-2.06-.94-.94-2.06-.94 2.06-2.06.94zm-11 1L8.5 8.5l.94-2.06 2.06-.94-2.06-.94L8.5 2.5l-.94 2.06-2.06.94zm10 10l.94 2.06.94-2.06 2.06-.94-2.06-.94-.94-2.06-.94 2.06-2.06.94z\"/><path d=\"M17.41 7.96l-1.37-1.37c-.4-.4-.92-.59-1.43-.59-.52 0-1.04.2-1.43.59L10.3 9.45l-7.72 7.72c-.78.78-.78 2.05 0 2.83L4 21.41c.39.39.9.59 1.41.59.51 0 1.02-.2 1.41-.59l7.78-7.78 2.81-2.81c.8-.78.8-2.07 0-2.86zM5.41 20L4 18.59l7.72-7.72 1.47 1.35L5.41 20z\"/>\n",
              "  </svg>\n",
              "      </button>\n",
              "      \n",
              "  <style>\n",
              "    .colab-df-container {\n",
              "      display:flex;\n",
              "      flex-wrap:wrap;\n",
              "      gap: 12px;\n",
              "    }\n",
              "\n",
              "    .colab-df-convert {\n",
              "      background-color: #E8F0FE;\n",
              "      border: none;\n",
              "      border-radius: 50%;\n",
              "      cursor: pointer;\n",
              "      display: none;\n",
              "      fill: #1967D2;\n",
              "      height: 32px;\n",
              "      padding: 0 0 0 0;\n",
              "      width: 32px;\n",
              "    }\n",
              "\n",
              "    .colab-df-convert:hover {\n",
              "      background-color: #E2EBFA;\n",
              "      box-shadow: 0px 1px 2px rgba(60, 64, 67, 0.3), 0px 1px 3px 1px rgba(60, 64, 67, 0.15);\n",
              "      fill: #174EA6;\n",
              "    }\n",
              "\n",
              "    [theme=dark] .colab-df-convert {\n",
              "      background-color: #3B4455;\n",
              "      fill: #D2E3FC;\n",
              "    }\n",
              "\n",
              "    [theme=dark] .colab-df-convert:hover {\n",
              "      background-color: #434B5C;\n",
              "      box-shadow: 0px 1px 3px 1px rgba(0, 0, 0, 0.15);\n",
              "      filter: drop-shadow(0px 1px 2px rgba(0, 0, 0, 0.3));\n",
              "      fill: #FFFFFF;\n",
              "    }\n",
              "  </style>\n",
              "\n",
              "      <script>\n",
              "        const buttonEl =\n",
              "          document.querySelector('#df-713dbb54-913b-430c-9617-69568436f4e3 button.colab-df-convert');\n",
              "        buttonEl.style.display =\n",
              "          google.colab.kernel.accessAllowed ? 'block' : 'none';\n",
              "\n",
              "        async function convertToInteractive(key) {\n",
              "          const element = document.querySelector('#df-713dbb54-913b-430c-9617-69568436f4e3');\n",
              "          const dataTable =\n",
              "            await google.colab.kernel.invokeFunction('convertToInteractive',\n",
              "                                                     [key], {});\n",
              "          if (!dataTable) return;\n",
              "\n",
              "          const docLinkHtml = 'Like what you see? Visit the ' +\n",
              "            '<a target=\"_blank\" href=https://colab.research.google.com/notebooks/data_table.ipynb>data table notebook</a>'\n",
              "            + ' to learn more about interactive tables.';\n",
              "          element.innerHTML = '';\n",
              "          dataTable['output_type'] = 'display_data';\n",
              "          await google.colab.output.renderOutput(dataTable, element);\n",
              "          const docLink = document.createElement('div');\n",
              "          docLink.innerHTML = docLinkHtml;\n",
              "          element.appendChild(docLink);\n",
              "        }\n",
              "      </script>\n",
              "    </div>\n",
              "  </div>\n",
              "  "
            ]
          },
          "metadata": {},
          "execution_count": 77
        }
      ],
      "source": [
        "rec = df[int(len(df.index)/2):len(df.index)]\n",
        "rec"
      ]
    },
    {
      "cell_type": "markdown",
      "source": [
        "Adding the column of 'id' as it would be useful later."
      ],
      "metadata": {
        "id": "9FAkbd7frdOf"
      }
    },
    {
      "cell_type": "code",
      "execution_count": null,
      "metadata": {
        "id": "1g3rfUW_NyWc",
        "colab": {
          "base_uri": "https://localhost:8080/",
          "height": 488
        },
        "outputId": "ef0d51d8-8304-44f1-e49f-68f3dca60528"
      },
      "outputs": [
        {
          "output_type": "execute_result",
          "data": {
            "text/plain": [
              "              id contrib_affiliation  account_creation_days  \\\n",
              "1673968  1673969      redhatofficial                   3259   \n",
              "1673969  1673970             red hat                   1505   \n",
              "1673970  1673971                 NaN                   3973   \n",
              "1673971  1673972         sonarsource                   2527   \n",
              "1673972  1673973                 NaN                     15   \n",
              "...          ...                 ...                    ...   \n",
              "3347932  3347933                 NaN                   2749   \n",
              "3347933  3347934                 NaN                   1919   \n",
              "3347934  3347935                 NaN                   1470   \n",
              "3347935  3347936                 NaN                    140   \n",
              "3347936  3347937                 NaN                   2172   \n",
              "\n",
              "         contrib_follow_integrator  pushed_delta  prior_interaction  \\\n",
              "1673968                          0      304038.0                193   \n",
              "1673969                          0        8146.0                128   \n",
              "1673970                          0     1206410.0                 41   \n",
              "1673971                          0        7725.0                847   \n",
              "1673972                          0        2277.0                 61   \n",
              "...                            ...           ...                ...   \n",
              "3347932                          0       18087.0                 30   \n",
              "3347933                          0         431.0                865   \n",
              "3347934                          0       78766.0                  2   \n",
              "3347935                          0      995650.0                 13   \n",
              "3347936                          0        4351.0                129   \n",
              "\n",
              "         ci_test_passed  pr_comment_num ci_first_build_status  open_pr_num  \\\n",
              "1673968             NaN               0                   NaN           27   \n",
              "1673969             1.0               0               success           29   \n",
              "1673970             NaN               0                   NaN            6   \n",
              "1673971             1.0               0               success           95   \n",
              "1673972             NaN               0                   NaN            0   \n",
              "...                 ...             ...                   ...          ...   \n",
              "3347932             NaN               0                   NaN            0   \n",
              "3347933             NaN               0                   NaN          372   \n",
              "3347934             NaN               0                   NaN            8   \n",
              "3347935             NaN               0                   NaN            0   \n",
              "3347936             1.0               0               success            3   \n",
              "\n",
              "         ...  same_country  hash_tag  contrib_country  part_num_code  \\\n",
              "1673968  ...           NaN         0              NaN              0   \n",
              "1673969  ...           1.0         0   czech republic              0   \n",
              "1673970  ...           NaN         0              NaN              0   \n",
              "1673971  ...           1.0         0      switzerland              0   \n",
              "1673972  ...           NaN         0              NaN              0   \n",
              "...      ...           ...       ...              ...            ...   \n",
              "3347932  ...           NaN         0              NaN              0   \n",
              "3347933  ...           1.0         0    united states              0   \n",
              "3347934  ...           1.0         1      netherlands              0   \n",
              "3347935  ...           NaN         0              NaN              0   \n",
              "3347936  ...           NaN         0   united kingdom              1   \n",
              "\n",
              "         part_num_pr  at_tag description_length  ci_build_num  ci_failed_perc  \\\n",
              "1673968            0       0                 33           NaN             NaN   \n",
              "1673969            0       0                  6           1.0             0.0   \n",
              "1673970            0       0                 45           NaN             NaN   \n",
              "1673971            0       0                  6           1.0             0.0   \n",
              "1673972            0       0                 13           NaN             NaN   \n",
              "...              ...     ...                ...           ...             ...   \n",
              "3347932            0       0                 14           NaN             NaN   \n",
              "3347933            0       1                 58           NaN             NaN   \n",
              "3347934            0       1                 49           NaN             NaN   \n",
              "3347935            0       0                 77           NaN             NaN   \n",
              "3347936            0       0                 20           1.0             0.0   \n",
              "\n",
              "        contrib_first_emo  \n",
              "1673968           neutral  \n",
              "1673969               NaN  \n",
              "1673970               NaN  \n",
              "1673971               NaN  \n",
              "1673972               NaN  \n",
              "...                   ...  \n",
              "3347932               NaN  \n",
              "3347933           neutral  \n",
              "3347934           neutral  \n",
              "3347935               NaN  \n",
              "3347936           neutral  \n",
              "\n",
              "[1673969 rows x 46 columns]"
            ],
            "text/html": [
              "\n",
              "  <div id=\"df-eead314e-0fe7-4120-8cd6-fbdb79a60d2c\">\n",
              "    <div class=\"colab-df-container\">\n",
              "      <div>\n",
              "<style scoped>\n",
              "    .dataframe tbody tr th:only-of-type {\n",
              "        vertical-align: middle;\n",
              "    }\n",
              "\n",
              "    .dataframe tbody tr th {\n",
              "        vertical-align: top;\n",
              "    }\n",
              "\n",
              "    .dataframe thead th {\n",
              "        text-align: right;\n",
              "    }\n",
              "</style>\n",
              "<table border=\"1\" class=\"dataframe\">\n",
              "  <thead>\n",
              "    <tr style=\"text-align: right;\">\n",
              "      <th></th>\n",
              "      <th>id</th>\n",
              "      <th>contrib_affiliation</th>\n",
              "      <th>account_creation_days</th>\n",
              "      <th>contrib_follow_integrator</th>\n",
              "      <th>pushed_delta</th>\n",
              "      <th>prior_interaction</th>\n",
              "      <th>ci_test_passed</th>\n",
              "      <th>pr_comment_num</th>\n",
              "      <th>ci_first_build_status</th>\n",
              "      <th>open_pr_num</th>\n",
              "      <th>...</th>\n",
              "      <th>same_country</th>\n",
              "      <th>hash_tag</th>\n",
              "      <th>contrib_country</th>\n",
              "      <th>part_num_code</th>\n",
              "      <th>part_num_pr</th>\n",
              "      <th>at_tag</th>\n",
              "      <th>description_length</th>\n",
              "      <th>ci_build_num</th>\n",
              "      <th>ci_failed_perc</th>\n",
              "      <th>contrib_first_emo</th>\n",
              "    </tr>\n",
              "  </thead>\n",
              "  <tbody>\n",
              "    <tr>\n",
              "      <th>1673968</th>\n",
              "      <td>1673969</td>\n",
              "      <td>redhatofficial</td>\n",
              "      <td>3259</td>\n",
              "      <td>0</td>\n",
              "      <td>304038.0</td>\n",
              "      <td>193</td>\n",
              "      <td>NaN</td>\n",
              "      <td>0</td>\n",
              "      <td>NaN</td>\n",
              "      <td>27</td>\n",
              "      <td>...</td>\n",
              "      <td>NaN</td>\n",
              "      <td>0</td>\n",
              "      <td>NaN</td>\n",
              "      <td>0</td>\n",
              "      <td>0</td>\n",
              "      <td>0</td>\n",
              "      <td>33</td>\n",
              "      <td>NaN</td>\n",
              "      <td>NaN</td>\n",
              "      <td>neutral</td>\n",
              "    </tr>\n",
              "    <tr>\n",
              "      <th>1673969</th>\n",
              "      <td>1673970</td>\n",
              "      <td>red hat</td>\n",
              "      <td>1505</td>\n",
              "      <td>0</td>\n",
              "      <td>8146.0</td>\n",
              "      <td>128</td>\n",
              "      <td>1.0</td>\n",
              "      <td>0</td>\n",
              "      <td>success</td>\n",
              "      <td>29</td>\n",
              "      <td>...</td>\n",
              "      <td>1.0</td>\n",
              "      <td>0</td>\n",
              "      <td>czech republic</td>\n",
              "      <td>0</td>\n",
              "      <td>0</td>\n",
              "      <td>0</td>\n",
              "      <td>6</td>\n",
              "      <td>1.0</td>\n",
              "      <td>0.0</td>\n",
              "      <td>NaN</td>\n",
              "    </tr>\n",
              "    <tr>\n",
              "      <th>1673970</th>\n",
              "      <td>1673971</td>\n",
              "      <td>NaN</td>\n",
              "      <td>3973</td>\n",
              "      <td>0</td>\n",
              "      <td>1206410.0</td>\n",
              "      <td>41</td>\n",
              "      <td>NaN</td>\n",
              "      <td>0</td>\n",
              "      <td>NaN</td>\n",
              "      <td>6</td>\n",
              "      <td>...</td>\n",
              "      <td>NaN</td>\n",
              "      <td>0</td>\n",
              "      <td>NaN</td>\n",
              "      <td>0</td>\n",
              "      <td>0</td>\n",
              "      <td>0</td>\n",
              "      <td>45</td>\n",
              "      <td>NaN</td>\n",
              "      <td>NaN</td>\n",
              "      <td>NaN</td>\n",
              "    </tr>\n",
              "    <tr>\n",
              "      <th>1673971</th>\n",
              "      <td>1673972</td>\n",
              "      <td>sonarsource</td>\n",
              "      <td>2527</td>\n",
              "      <td>0</td>\n",
              "      <td>7725.0</td>\n",
              "      <td>847</td>\n",
              "      <td>1.0</td>\n",
              "      <td>0</td>\n",
              "      <td>success</td>\n",
              "      <td>95</td>\n",
              "      <td>...</td>\n",
              "      <td>1.0</td>\n",
              "      <td>0</td>\n",
              "      <td>switzerland</td>\n",
              "      <td>0</td>\n",
              "      <td>0</td>\n",
              "      <td>0</td>\n",
              "      <td>6</td>\n",
              "      <td>1.0</td>\n",
              "      <td>0.0</td>\n",
              "      <td>NaN</td>\n",
              "    </tr>\n",
              "    <tr>\n",
              "      <th>1673972</th>\n",
              "      <td>1673973</td>\n",
              "      <td>NaN</td>\n",
              "      <td>15</td>\n",
              "      <td>0</td>\n",
              "      <td>2277.0</td>\n",
              "      <td>61</td>\n",
              "      <td>NaN</td>\n",
              "      <td>0</td>\n",
              "      <td>NaN</td>\n",
              "      <td>0</td>\n",
              "      <td>...</td>\n",
              "      <td>NaN</td>\n",
              "      <td>0</td>\n",
              "      <td>NaN</td>\n",
              "      <td>0</td>\n",
              "      <td>0</td>\n",
              "      <td>0</td>\n",
              "      <td>13</td>\n",
              "      <td>NaN</td>\n",
              "      <td>NaN</td>\n",
              "      <td>NaN</td>\n",
              "    </tr>\n",
              "    <tr>\n",
              "      <th>...</th>\n",
              "      <td>...</td>\n",
              "      <td>...</td>\n",
              "      <td>...</td>\n",
              "      <td>...</td>\n",
              "      <td>...</td>\n",
              "      <td>...</td>\n",
              "      <td>...</td>\n",
              "      <td>...</td>\n",
              "      <td>...</td>\n",
              "      <td>...</td>\n",
              "      <td>...</td>\n",
              "      <td>...</td>\n",
              "      <td>...</td>\n",
              "      <td>...</td>\n",
              "      <td>...</td>\n",
              "      <td>...</td>\n",
              "      <td>...</td>\n",
              "      <td>...</td>\n",
              "      <td>...</td>\n",
              "      <td>...</td>\n",
              "      <td>...</td>\n",
              "    </tr>\n",
              "    <tr>\n",
              "      <th>3347932</th>\n",
              "      <td>3347933</td>\n",
              "      <td>NaN</td>\n",
              "      <td>2749</td>\n",
              "      <td>0</td>\n",
              "      <td>18087.0</td>\n",
              "      <td>30</td>\n",
              "      <td>NaN</td>\n",
              "      <td>0</td>\n",
              "      <td>NaN</td>\n",
              "      <td>0</td>\n",
              "      <td>...</td>\n",
              "      <td>NaN</td>\n",
              "      <td>0</td>\n",
              "      <td>NaN</td>\n",
              "      <td>0</td>\n",
              "      <td>0</td>\n",
              "      <td>0</td>\n",
              "      <td>14</td>\n",
              "      <td>NaN</td>\n",
              "      <td>NaN</td>\n",
              "      <td>NaN</td>\n",
              "    </tr>\n",
              "    <tr>\n",
              "      <th>3347933</th>\n",
              "      <td>3347934</td>\n",
              "      <td>NaN</td>\n",
              "      <td>1919</td>\n",
              "      <td>0</td>\n",
              "      <td>431.0</td>\n",
              "      <td>865</td>\n",
              "      <td>NaN</td>\n",
              "      <td>0</td>\n",
              "      <td>NaN</td>\n",
              "      <td>372</td>\n",
              "      <td>...</td>\n",
              "      <td>1.0</td>\n",
              "      <td>0</td>\n",
              "      <td>united states</td>\n",
              "      <td>0</td>\n",
              "      <td>0</td>\n",
              "      <td>1</td>\n",
              "      <td>58</td>\n",
              "      <td>NaN</td>\n",
              "      <td>NaN</td>\n",
              "      <td>neutral</td>\n",
              "    </tr>\n",
              "    <tr>\n",
              "      <th>3347934</th>\n",
              "      <td>3347935</td>\n",
              "      <td>NaN</td>\n",
              "      <td>1470</td>\n",
              "      <td>0</td>\n",
              "      <td>78766.0</td>\n",
              "      <td>2</td>\n",
              "      <td>NaN</td>\n",
              "      <td>0</td>\n",
              "      <td>NaN</td>\n",
              "      <td>8</td>\n",
              "      <td>...</td>\n",
              "      <td>1.0</td>\n",
              "      <td>1</td>\n",
              "      <td>netherlands</td>\n",
              "      <td>0</td>\n",
              "      <td>0</td>\n",
              "      <td>1</td>\n",
              "      <td>49</td>\n",
              "      <td>NaN</td>\n",
              "      <td>NaN</td>\n",
              "      <td>neutral</td>\n",
              "    </tr>\n",
              "    <tr>\n",
              "      <th>3347935</th>\n",
              "      <td>3347936</td>\n",
              "      <td>NaN</td>\n",
              "      <td>140</td>\n",
              "      <td>0</td>\n",
              "      <td>995650.0</td>\n",
              "      <td>13</td>\n",
              "      <td>NaN</td>\n",
              "      <td>0</td>\n",
              "      <td>NaN</td>\n",
              "      <td>0</td>\n",
              "      <td>...</td>\n",
              "      <td>NaN</td>\n",
              "      <td>0</td>\n",
              "      <td>NaN</td>\n",
              "      <td>0</td>\n",
              "      <td>0</td>\n",
              "      <td>0</td>\n",
              "      <td>77</td>\n",
              "      <td>NaN</td>\n",
              "      <td>NaN</td>\n",
              "      <td>NaN</td>\n",
              "    </tr>\n",
              "    <tr>\n",
              "      <th>3347936</th>\n",
              "      <td>3347937</td>\n",
              "      <td>NaN</td>\n",
              "      <td>2172</td>\n",
              "      <td>0</td>\n",
              "      <td>4351.0</td>\n",
              "      <td>129</td>\n",
              "      <td>1.0</td>\n",
              "      <td>0</td>\n",
              "      <td>success</td>\n",
              "      <td>3</td>\n",
              "      <td>...</td>\n",
              "      <td>NaN</td>\n",
              "      <td>0</td>\n",
              "      <td>united kingdom</td>\n",
              "      <td>1</td>\n",
              "      <td>0</td>\n",
              "      <td>0</td>\n",
              "      <td>20</td>\n",
              "      <td>1.0</td>\n",
              "      <td>0.0</td>\n",
              "      <td>neutral</td>\n",
              "    </tr>\n",
              "  </tbody>\n",
              "</table>\n",
              "<p>1673969 rows × 46 columns</p>\n",
              "</div>\n",
              "      <button class=\"colab-df-convert\" onclick=\"convertToInteractive('df-eead314e-0fe7-4120-8cd6-fbdb79a60d2c')\"\n",
              "              title=\"Convert this dataframe to an interactive table.\"\n",
              "              style=\"display:none;\">\n",
              "        \n",
              "  <svg xmlns=\"http://www.w3.org/2000/svg\" height=\"24px\"viewBox=\"0 0 24 24\"\n",
              "       width=\"24px\">\n",
              "    <path d=\"M0 0h24v24H0V0z\" fill=\"none\"/>\n",
              "    <path d=\"M18.56 5.44l.94 2.06.94-2.06 2.06-.94-2.06-.94-.94-2.06-.94 2.06-2.06.94zm-11 1L8.5 8.5l.94-2.06 2.06-.94-2.06-.94L8.5 2.5l-.94 2.06-2.06.94zm10 10l.94 2.06.94-2.06 2.06-.94-2.06-.94-.94-2.06-.94 2.06-2.06.94z\"/><path d=\"M17.41 7.96l-1.37-1.37c-.4-.4-.92-.59-1.43-.59-.52 0-1.04.2-1.43.59L10.3 9.45l-7.72 7.72c-.78.78-.78 2.05 0 2.83L4 21.41c.39.39.9.59 1.41.59.51 0 1.02-.2 1.41-.59l7.78-7.78 2.81-2.81c.8-.78.8-2.07 0-2.86zM5.41 20L4 18.59l7.72-7.72 1.47 1.35L5.41 20z\"/>\n",
              "  </svg>\n",
              "      </button>\n",
              "      \n",
              "  <style>\n",
              "    .colab-df-container {\n",
              "      display:flex;\n",
              "      flex-wrap:wrap;\n",
              "      gap: 12px;\n",
              "    }\n",
              "\n",
              "    .colab-df-convert {\n",
              "      background-color: #E8F0FE;\n",
              "      border: none;\n",
              "      border-radius: 50%;\n",
              "      cursor: pointer;\n",
              "      display: none;\n",
              "      fill: #1967D2;\n",
              "      height: 32px;\n",
              "      padding: 0 0 0 0;\n",
              "      width: 32px;\n",
              "    }\n",
              "\n",
              "    .colab-df-convert:hover {\n",
              "      background-color: #E2EBFA;\n",
              "      box-shadow: 0px 1px 2px rgba(60, 64, 67, 0.3), 0px 1px 3px 1px rgba(60, 64, 67, 0.15);\n",
              "      fill: #174EA6;\n",
              "    }\n",
              "\n",
              "    [theme=dark] .colab-df-convert {\n",
              "      background-color: #3B4455;\n",
              "      fill: #D2E3FC;\n",
              "    }\n",
              "\n",
              "    [theme=dark] .colab-df-convert:hover {\n",
              "      background-color: #434B5C;\n",
              "      box-shadow: 0px 1px 3px 1px rgba(0, 0, 0, 0.15);\n",
              "      filter: drop-shadow(0px 1px 2px rgba(0, 0, 0, 0.3));\n",
              "      fill: #FFFFFF;\n",
              "    }\n",
              "  </style>\n",
              "\n",
              "      <script>\n",
              "        const buttonEl =\n",
              "          document.querySelector('#df-eead314e-0fe7-4120-8cd6-fbdb79a60d2c button.colab-df-convert');\n",
              "        buttonEl.style.display =\n",
              "          google.colab.kernel.accessAllowed ? 'block' : 'none';\n",
              "\n",
              "        async function convertToInteractive(key) {\n",
              "          const element = document.querySelector('#df-eead314e-0fe7-4120-8cd6-fbdb79a60d2c');\n",
              "          const dataTable =\n",
              "            await google.colab.kernel.invokeFunction('convertToInteractive',\n",
              "                                                     [key], {});\n",
              "          if (!dataTable) return;\n",
              "\n",
              "          const docLinkHtml = 'Like what you see? Visit the ' +\n",
              "            '<a target=\"_blank\" href=https://colab.research.google.com/notebooks/data_table.ipynb>data table notebook</a>'\n",
              "            + ' to learn more about interactive tables.';\n",
              "          element.innerHTML = '';\n",
              "          dataTable['output_type'] = 'display_data';\n",
              "          await google.colab.output.renderOutput(dataTable, element);\n",
              "          const docLink = document.createElement('div');\n",
              "          docLink.innerHTML = docLinkHtml;\n",
              "          element.appendChild(docLink);\n",
              "        }\n",
              "      </script>\n",
              "    </div>\n",
              "  </div>\n",
              "  "
            ]
          },
          "metadata": {},
          "execution_count": 86
        }
      ],
      "source": [
        "imp_features_3.insert(0, 'id')\n",
        "rec_test = pd.DataFrame(columns = imp_features_3)\n",
        "\n",
        "for feature in imp_features_3:\n",
        "  rec_test[feature] = rec[feature]\n",
        "\n",
        "rec_test"
      ]
    },
    {
      "cell_type": "code",
      "execution_count": null,
      "metadata": {
        "id": "j1JL66cUQTcA",
        "colab": {
          "base_uri": "https://localhost:8080/",
          "height": 550
        },
        "outputId": "03c89e7a-3cda-4208-db42-8a351c511839"
      },
      "outputs": [
        {
          "output_type": "error",
          "ename": "ValueError",
          "evalue": "ignored",
          "traceback": [
            "\u001b[0;31m---------------------------------------------------------------------------\u001b[0m",
            "\u001b[0;31mValueError\u001b[0m                                Traceback (most recent call last)",
            "\u001b[0;32m<ipython-input-87-2120cffafd5e>\u001b[0m in \u001b[0;36m<module>\u001b[0;34m()\u001b[0m\n\u001b[1;32m      3\u001b[0m   \u001b[0mrec_test\u001b[0m\u001b[0;34m[\u001b[0m\u001b[0mmetric\u001b[0m\u001b[0;34m]\u001b[0m \u001b[0;34m=\u001b[0m \u001b[0mle\u001b[0m\u001b[0;34m.\u001b[0m\u001b[0mfit_transform\u001b[0m\u001b[0;34m(\u001b[0m\u001b[0mrec_test\u001b[0m\u001b[0;34m[\u001b[0m\u001b[0mmetric\u001b[0m\u001b[0;34m]\u001b[0m\u001b[0;34m)\u001b[0m\u001b[0;34m\u001b[0m\u001b[0;34m\u001b[0m\u001b[0m\n\u001b[1;32m      4\u001b[0m \u001b[0;34m\u001b[0m\u001b[0m\n\u001b[0;32m----> 5\u001b[0;31m \u001b[0mrec_y_pred\u001b[0m \u001b[0;34m=\u001b[0m \u001b[0mmodel_new\u001b[0m\u001b[0;34m.\u001b[0m\u001b[0mpredict\u001b[0m\u001b[0;34m(\u001b[0m\u001b[0mrec_test\u001b[0m\u001b[0;34m)\u001b[0m\u001b[0;34m\u001b[0m\u001b[0;34m\u001b[0m\u001b[0m\n\u001b[0m",
            "\u001b[0;32m/usr/local/lib/python3.7/dist-packages/xgboost/sklearn.py\u001b[0m in \u001b[0;36mpredict\u001b[0;34m(self, data, output_margin, ntree_limit, validate_features)\u001b[0m\n\u001b[1;32m    789\u001b[0m                                                  \u001b[0moutput_margin\u001b[0m\u001b[0;34m=\u001b[0m\u001b[0moutput_margin\u001b[0m\u001b[0;34m,\u001b[0m\u001b[0;34m\u001b[0m\u001b[0;34m\u001b[0m\u001b[0m\n\u001b[1;32m    790\u001b[0m                                                  \u001b[0mntree_limit\u001b[0m\u001b[0;34m=\u001b[0m\u001b[0mntree_limit\u001b[0m\u001b[0;34m,\u001b[0m\u001b[0;34m\u001b[0m\u001b[0;34m\u001b[0m\u001b[0m\n\u001b[0;32m--> 791\u001b[0;31m                                                  validate_features=validate_features)\n\u001b[0m\u001b[1;32m    792\u001b[0m         \u001b[0;32mif\u001b[0m \u001b[0moutput_margin\u001b[0m\u001b[0;34m:\u001b[0m\u001b[0;34m\u001b[0m\u001b[0;34m\u001b[0m\u001b[0m\n\u001b[1;32m    793\u001b[0m             \u001b[0;31m# If output_margin is active, simply return the scores\u001b[0m\u001b[0;34m\u001b[0m\u001b[0;34m\u001b[0m\u001b[0;34m\u001b[0m\u001b[0m\n",
            "\u001b[0;32m/usr/local/lib/python3.7/dist-packages/xgboost/core.py\u001b[0m in \u001b[0;36mpredict\u001b[0;34m(self, data, output_margin, ntree_limit, pred_leaf, pred_contribs, approx_contribs, pred_interactions, validate_features)\u001b[0m\n\u001b[1;32m   1282\u001b[0m \u001b[0;34m\u001b[0m\u001b[0m\n\u001b[1;32m   1283\u001b[0m         \u001b[0;32mif\u001b[0m \u001b[0mvalidate_features\u001b[0m\u001b[0;34m:\u001b[0m\u001b[0;34m\u001b[0m\u001b[0;34m\u001b[0m\u001b[0m\n\u001b[0;32m-> 1284\u001b[0;31m             \u001b[0mself\u001b[0m\u001b[0;34m.\u001b[0m\u001b[0m_validate_features\u001b[0m\u001b[0;34m(\u001b[0m\u001b[0mdata\u001b[0m\u001b[0;34m)\u001b[0m\u001b[0;34m\u001b[0m\u001b[0;34m\u001b[0m\u001b[0m\n\u001b[0m\u001b[1;32m   1285\u001b[0m \u001b[0;34m\u001b[0m\u001b[0m\n\u001b[1;32m   1286\u001b[0m         \u001b[0mlength\u001b[0m \u001b[0;34m=\u001b[0m \u001b[0mc_bst_ulong\u001b[0m\u001b[0;34m(\u001b[0m\u001b[0;34m)\u001b[0m\u001b[0;34m\u001b[0m\u001b[0;34m\u001b[0m\u001b[0m\n",
            "\u001b[0;32m/usr/local/lib/python3.7/dist-packages/xgboost/core.py\u001b[0m in \u001b[0;36m_validate_features\u001b[0;34m(self, data)\u001b[0m\n\u001b[1;32m   1688\u001b[0m \u001b[0;34m\u001b[0m\u001b[0m\n\u001b[1;32m   1689\u001b[0m                 raise ValueError(msg.format(self.feature_names,\n\u001b[0;32m-> 1690\u001b[0;31m                                             data.feature_names))\n\u001b[0m\u001b[1;32m   1691\u001b[0m \u001b[0;34m\u001b[0m\u001b[0m\n\u001b[1;32m   1692\u001b[0m     \u001b[0;32mdef\u001b[0m \u001b[0mget_split_value_histogram\u001b[0m\u001b[0;34m(\u001b[0m\u001b[0mself\u001b[0m\u001b[0;34m,\u001b[0m \u001b[0mfeature\u001b[0m\u001b[0;34m,\u001b[0m \u001b[0mfmap\u001b[0m\u001b[0;34m=\u001b[0m\u001b[0;34m''\u001b[0m\u001b[0;34m,\u001b[0m \u001b[0mbins\u001b[0m\u001b[0;34m=\u001b[0m\u001b[0;32mNone\u001b[0m\u001b[0;34m,\u001b[0m \u001b[0mas_pandas\u001b[0m\u001b[0;34m=\u001b[0m\u001b[0;32mTrue\u001b[0m\u001b[0;34m)\u001b[0m\u001b[0;34m:\u001b[0m\u001b[0;34m\u001b[0m\u001b[0;34m\u001b[0m\u001b[0m\n",
            "\u001b[0;31mValueError\u001b[0m: feature_names mismatch: ['contrib_affiliation', 'account_creation_days', 'contrib_follow_integrator', 'pushed_delta', 'prior_interaction', 'ci_test_passed', 'pr_comment_num', 'ci_first_build_status', 'open_pr_num', 'first_pr', 'pr_succ_rate', 'project_age', 'open_issue_num', 'ci_exists', 'bug_fix', 'language', 'fork_num', 'perc_external_contribs', 'contrib_gender', 'core_member', 'test_inclusion', 'perc_inte_neg_emo', 'ci_latency', 'social_strength', 'first_response_time', 'churn_deletion', 'comment_conflict', 'ci_last_build_status', 'churn_addition', 'part_num_issue', 'acc_commit_num', 'perc_inte_neu_emo', 'part_num_commit', 'perc_inte_pos_emo', 'same_affiliation', 'same_country', 'hash_tag', 'contrib_country', 'part_num_code', 'part_num_pr', 'at_tag', 'description_length', 'ci_build_num', 'ci_failed_perc', 'contrib_first_emo'] ['id', 'contrib_affiliation', 'account_creation_days', 'contrib_follow_integrator', 'pushed_delta', 'prior_interaction', 'ci_test_passed', 'pr_comment_num', 'ci_first_build_status', 'open_pr_num', 'first_pr', 'pr_succ_rate', 'project_age', 'open_issue_num', 'ci_exists', 'bug_fix', 'language', 'fork_num', 'perc_external_contribs', 'contrib_gender', 'core_member', 'test_inclusion', 'perc_inte_neg_emo', 'ci_latency', 'social_strength', 'first_response_time', 'churn_deletion', 'comment_conflict', 'ci_last_build_status', 'churn_addition', 'part_num_issue', 'acc_commit_num', 'perc_inte_neu_emo', 'part_num_commit', 'perc_inte_pos_em...\ntraining data did not have the following fields: id"
          ]
        }
      ],
      "source": [
        "labelled_data\n",
        "for metric in object_metrics:\n",
        "  rec_test[metric] = le.fit_transform(rec_test[metric])\n",
        "\n",
        "rec_y_pred = model_new.predict(rec_test)"
      ]
    },
    {
      "cell_type": "code",
      "source": [
        "results_new_rec = (rec['merged_or_not'] == rec_y_pred)\n",
        "accuracy_new_rec = results_new_rec.sum() / results_new_rec.size\n",
        "print(accuracy_new_rec)"
      ],
      "metadata": {
        "id": "XsZJLvR9qVyZ"
      },
      "execution_count": null,
      "outputs": []
    },
    {
      "cell_type": "code",
      "execution_count": null,
      "metadata": {
        "id": "d71FhheyRldx"
      },
      "outputs": [],
      "source": [
        "#not working\n",
        "'''\n",
        "for feature in imp_features_5:\n",
        "  globals()['labelling_%s' % feature] = rec_test.drop_duplicates(feature).set_index(feature)\n",
        "'''"
      ]
    },
    {
      "cell_type": "markdown",
      "metadata": {
        "id": "cL56HCpye2m3"
      },
      "source": [
        "1. Check [this](https://machinelearningmastery.com/feature-importance-and-feature-selection-with-xgboost-in-python/) out.\n",
        "2. Check [this](https://www.kaggle.com/general/237792) out.\n",
        "3. Check [this](https://www.kaggle.com/code/prashant111/xgboost-k-fold-cv-feature-importance/notebook) out for more XGBoost information."
      ]
    },
    {
      "cell_type": "markdown",
      "metadata": {
        "id": "3MR26oSThBtd"
      },
      "source": [
        "Check [this](https://www.analyticsvidhya.com/blog/2016/03/complete-guide-parameter-tuning-xgboost-with-codes-python/) out for parameter tuning."
      ]
    },
    {
      "cell_type": "markdown",
      "metadata": {
        "id": "qyBCMYMAMOEx"
      },
      "source": [
        "Click [here](https://www.kaggle.com/code/bryanb/xgboost-explainability-with-shap/notebook), [here](https://gmd.copernicus.org/preprints/gmd-2020-59/gmd-2020-59.pdf), [here](https://stackoverflow.com/questions/69937376/explaination-of-shap-value-from-xgboost) for more SHAP related documents."
      ]
    },
    {
      "cell_type": "markdown",
      "metadata": {
        "id": "DhLU1T7FPCOu"
      },
      "source": [
        "For BEAM, look at actionable features and come up with why you can recommend something before the recommendation."
      ]
    },
    {
      "cell_type": "markdown",
      "metadata": {
        "id": "gcufXY0z7PRN"
      },
      "source": [
        ""
      ]
    },
    {
      "cell_type": "markdown",
      "metadata": {
        "id": "a1-FU6rv5nCJ"
      },
      "source": [
        "# **BEAM**\n",
        "Study [this](https://www.width.ai/post/what-is-beam-search)"
      ]
    },
    {
      "cell_type": "code",
      "execution_count": null,
      "metadata": {
        "id": "d7MI1RRsPH9B",
        "colab": {
          "base_uri": "https://localhost:8080/"
        },
        "outputId": "18d0ed0f-2560-41a7-c380-244c75471775"
      },
      "outputs": [
        {
          "output_type": "stream",
          "name": "stdout",
          "text": [
            "ci_test_passed  can be used for recommendation.\n",
            "pr_comment_num  can be used for recommendation.\n",
            "ci_first_build_status  can be used for recommendation.\n",
            "ci_exists  can be used for recommendation.\n",
            "bug_fix  can be used for recommendation.\n",
            "test_inclusion  can be used for recommendation.\n",
            "ci_latency  can be used for recommendation.\n",
            "churn_deletion  can be used for recommendation.\n",
            "comment_conflict  can be used for recommendation.\n",
            "ci_last_build_status  can be used for recommendation.\n",
            "churn_addition  can be used for recommendation.\n",
            "part_num_code  can be used for recommendation.\n",
            "at_tag  can be used for recommendation.\n",
            "description_length  can be used for recommendation.\n",
            "ci_build_num  can be used for recommendation.\n",
            "ci_failed_perc  can be used for recommendation.\n"
          ]
        }
      ],
      "source": [
        "pull_request_characteristics = ['churn_addition', 'bug_fix', 'test_inclusion',\n",
        "                                'at_tag', 'part_num_X', 'ci_exists', 'ci_latency',\n",
        "                                'ci_test_passed', 'ci_failed_perc', 'churn_deletion',\n",
        "                                'description_length', 'comment_conflict', 'pr_comment_num',\n",
        "                                'part_num_code', 'ci_build_num', 'perc_neg_emotion',\n",
        "                                'perc_pos_emotion', 'perc_neu_emotion', 'ci_first_build_status',\n",
        "                                'ci_last_build_status']\n",
        "\n",
        "for feature in imp_features_3:\n",
        "  if feature in pull_request_characteristics:\n",
        "    print(feature,\" can be used for recommendation.\")"
      ]
    },
    {
      "cell_type": "code",
      "execution_count": null,
      "metadata": {
        "id": "uyVjU96nH5CD",
        "colab": {
          "base_uri": "https://localhost:8080/"
        },
        "outputId": "17246781-cb83-4beb-c95e-ea59e733b179"
      },
      "outputs": [
        {
          "output_type": "execute_result",
          "data": {
            "text/plain": [
              "array([1, 1, 1, ..., 1, 1, 1])"
            ]
          },
          "metadata": {},
          "execution_count": 83
        }
      ],
      "source": [
        "rec_y_pred"
      ]
    },
    {
      "cell_type": "code",
      "execution_count": null,
      "metadata": {
        "id": "KpzT-TPcdd2o"
      },
      "outputs": [],
      "source": [
        "rejected_pull_request = np.where(rec_y_pred == 0)"
      ]
    },
    {
      "cell_type": "code",
      "execution_count": null,
      "metadata": {
        "id": "Fos3AOW7e6VF"
      },
      "outputs": [],
      "source": [
        "rejected_pull_request = np.array(rejected_pull_request).tolist()\n",
        "\n",
        "rpr = []\n",
        "for l in rejected_pull_request:\n",
        "    for val in l:\n",
        "        rpr.append(val)\n",
        "\n",
        "print(rpr)\n",
        "print(len(rpr))"
      ]
    },
    {
      "cell_type": "code",
      "execution_count": null,
      "metadata": {
        "id": "xMrt3HqFe74Z"
      },
      "outputs": [],
      "source": [
        "'''\n",
        "SESSION CRASHING\n",
        "reco = pd.DataFrame(columns = test_new.columns)\n",
        "for i in range(0, len(test_new)):\n",
        "  if i in rpr:\n",
        "    reco = reco.append(test_new[:i], ignore_index = True)\n",
        "'''"
      ]
    },
    {
      "cell_type": "markdown",
      "metadata": {
        "id": "RD-gRcZ01JY3"
      },
      "source": [
        "**Parameter Tuning**"
      ]
    },
    {
      "cell_type": "code",
      "execution_count": null,
      "metadata": {
        "id": "dQBv7FDe6tb2"
      },
      "outputs": [],
      "source": [
        "\"\"\"\n",
        "from sklearn.model_selection import GridSearchCV\n",
        "\n",
        "def model_pipeline(X, test, y, y_pred, model, param_grid, cv, \n",
        "                   scoring_fit='neg_mean_squared_error', do_probabilities = False):\n",
        "  \n",
        "    gs = GridSearchCV(\n",
        "        estimator=model,\n",
        "        param_grid=param_grid, \n",
        "        cv=cv, \n",
        "        n_jobs=-1, \n",
        "        scoring=scoring_fit,\n",
        "        verbose=2\n",
        "    )\n",
        "    fitted_model = gs.fit(X, y)\n",
        "    \n",
        "    if do_probabilities:\n",
        "      pred = fitted_model.predict_proba(test)\n",
        "    else:\n",
        "      pred = fitted_model.predict(test)\n",
        "    \n",
        "    return fitted_model, pred\n",
        "    \"\"\""
      ]
    },
    {
      "cell_type": "code",
      "execution_count": null,
      "metadata": {
        "id": "bRs1jYqq1Ig_"
      },
      "outputs": [],
      "source": [
        "\"\"\"\n",
        "param_grid = {\n",
        "    'learning_rate': [0.3, 0.5, 0.8],\n",
        "    'max_depth': [2, 6],\n",
        "    'reg_lambda': [1.1, 1.2, 1.3],\n",
        "    'subsample': [0.7, 0.8, 0.9]\n",
        "}\n",
        "\n",
        "model, pred = model_pipeline(X, test, y, y_pred, model, param_grid, cv=5)\n",
        "\n",
        "# Root Mean Squared Error\n",
        "print(np.sqrt(-model.best_score_))\n",
        "print(model.best_params_)\n",
        "\"\"\""
      ]
    }
  ],
  "metadata": {
    "colab": {
      "collapsed_sections": [],
      "name": "Pull-request Analysis.ipynb",
      "provenance": [],
      "mount_file_id": "1_68KgoyDN1w6K4nzdfPjaI-aoJOLTDy7",
      "authorship_tag": "ABX9TyMcbHOp7WFFx9TiY+NIuF2U",
      "include_colab_link": true
    },
    "kernelspec": {
      "display_name": "Python 3",
      "name": "python3"
    },
    "language_info": {
      "name": "python"
    },
    "accelerator": "GPU",
    "gpuClass": "standard"
  },
  "nbformat": 4,
  "nbformat_minor": 0
}